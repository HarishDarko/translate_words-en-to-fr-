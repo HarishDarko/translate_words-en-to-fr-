{
  "nbformat": 4,
  "nbformat_minor": 0,
  "metadata": {
    "colab": {
      "name": "word_challenge.ipynb",
      "provenance": []
    },
    "kernelspec": {
      "name": "python3",
      "display_name": "Python 3"
    }
  },
  "cells": [
    {
      "cell_type": "code",
      "metadata": {
        "colab": {
          "base_uri": "https://localhost:8080/"
        },
        "id": "EbO4_iAFcPOY",
        "outputId": "2c55145a-9b2a-4e25-884c-043f7edeead7"
      },
      "source": [
        "pip install googletrans"
      ],
      "execution_count": null,
      "outputs": [
        {
          "output_type": "stream",
          "text": [
            "Collecting googletrans\n",
            "  Downloading https://files.pythonhosted.org/packages/71/3a/3b19effdd4c03958b90f40fe01c93de6d5280e03843cc5adf6956bfc9512/googletrans-3.0.0.tar.gz\n",
            "Collecting httpx==0.13.3\n",
            "\u001b[?25l  Downloading https://files.pythonhosted.org/packages/54/b4/698b284c6aed4d7c2b4fe3ba5df1fcf6093612423797e76fbb24890dd22f/httpx-0.13.3-py3-none-any.whl (55kB)\n",
            "\u001b[K     |████████████████████████████████| 61kB 3.3MB/s \n",
            "\u001b[?25hCollecting hstspreload\n",
            "\u001b[?25l  Downloading https://files.pythonhosted.org/packages/d3/3c/cdeaf9ab0404853e77c45d9e8021d0d2c01f70a1bb26e460090926fe2a5e/hstspreload-2020.11.21-py3-none-any.whl (981kB)\n",
            "\u001b[K     |████████████████████████████████| 983kB 8.7MB/s \n",
            "\u001b[?25hCollecting sniffio\n",
            "  Downloading https://files.pythonhosted.org/packages/52/b0/7b2e028b63d092804b6794595871f936aafa5e9322dcaaad50ebf67445b3/sniffio-1.2.0-py3-none-any.whl\n",
            "Requirement already satisfied: certifi in /usr/local/lib/python3.6/dist-packages (from httpx==0.13.3->googletrans) (2020.11.8)\n",
            "Requirement already satisfied: idna==2.* in /usr/local/lib/python3.6/dist-packages (from httpx==0.13.3->googletrans) (2.10)\n",
            "Requirement already satisfied: chardet==3.* in /usr/local/lib/python3.6/dist-packages (from httpx==0.13.3->googletrans) (3.0.4)\n",
            "Collecting rfc3986<2,>=1.3\n",
            "  Downloading https://files.pythonhosted.org/packages/78/be/7b8b99fd74ff5684225f50dd0e865393d2265656ef3b4ba9eaaaffe622b8/rfc3986-1.4.0-py2.py3-none-any.whl\n",
            "Collecting httpcore==0.9.*\n",
            "\u001b[?25l  Downloading https://files.pythonhosted.org/packages/dd/d5/e4ff9318693ac6101a2095e580908b591838c6f33df8d3ee8dd953ba96a8/httpcore-0.9.1-py3-none-any.whl (42kB)\n",
            "\u001b[K     |████████████████████████████████| 51kB 6.7MB/s \n",
            "\u001b[?25hCollecting contextvars>=2.1; python_version < \"3.7\"\n",
            "  Downloading https://files.pythonhosted.org/packages/83/96/55b82d9f13763be9d672622e1b8106c85acb83edd7cc2fa5bc67cd9877e9/contextvars-2.4.tar.gz\n",
            "Collecting h11<0.10,>=0.8\n",
            "\u001b[?25l  Downloading https://files.pythonhosted.org/packages/5a/fd/3dad730b0f95e78aeeb742f96fa7bbecbdd56a58e405d3da440d5bfb90c6/h11-0.9.0-py2.py3-none-any.whl (53kB)\n",
            "\u001b[K     |████████████████████████████████| 61kB 7.3MB/s \n",
            "\u001b[?25hCollecting h2==3.*\n",
            "\u001b[?25l  Downloading https://files.pythonhosted.org/packages/25/de/da019bcc539eeab02f6d45836f23858ac467f584bfec7a526ef200242afe/h2-3.2.0-py2.py3-none-any.whl (65kB)\n",
            "\u001b[K     |████████████████████████████████| 71kB 8.3MB/s \n",
            "\u001b[?25hCollecting immutables>=0.9\n",
            "\u001b[?25l  Downloading https://files.pythonhosted.org/packages/99/e0/ea6fd4697120327d26773b5a84853f897a68e33d3f9376b00a8ff96e4f63/immutables-0.14-cp36-cp36m-manylinux1_x86_64.whl (98kB)\n",
            "\u001b[K     |████████████████████████████████| 102kB 10.7MB/s \n",
            "\u001b[?25hCollecting hpack<4,>=3.0\n",
            "  Downloading https://files.pythonhosted.org/packages/8a/cc/e53517f4a1e13f74776ca93271caef378dadec14d71c61c949d759d3db69/hpack-3.0.0-py2.py3-none-any.whl\n",
            "Collecting hyperframe<6,>=5.2.0\n",
            "  Downloading https://files.pythonhosted.org/packages/19/0c/bf88182bcb5dce3094e2f3e4fe20db28a9928cb7bd5b08024030e4b140db/hyperframe-5.2.0-py2.py3-none-any.whl\n",
            "Building wheels for collected packages: googletrans, contextvars\n",
            "  Building wheel for googletrans (setup.py) ... \u001b[?25l\u001b[?25hdone\n",
            "  Created wheel for googletrans: filename=googletrans-3.0.0-cp36-none-any.whl size=15736 sha256=83765cac6b2485d165814f82a5bd1a3be3c9ec68e5ed6eddcdf9e5114f5d945d\n",
            "  Stored in directory: /root/.cache/pip/wheels/28/1a/a7/eaf4d7a3417a0c65796c547cff4deb6d79c7d14c2abd29273e\n",
            "  Building wheel for contextvars (setup.py) ... \u001b[?25l\u001b[?25hdone\n",
            "  Created wheel for contextvars: filename=contextvars-2.4-cp36-none-any.whl size=7666 sha256=f9a8c50e407a81b56209af4d3f64e6aa01e70c74cdc3deea46a1eaaa1e238994\n",
            "  Stored in directory: /root/.cache/pip/wheels/a5/7d/68/1ebae2668bda2228686e3c1cf16f2c2384cea6e9334ad5f6de\n",
            "Successfully built googletrans contextvars\n",
            "Installing collected packages: hstspreload, immutables, contextvars, sniffio, rfc3986, h11, hpack, hyperframe, h2, httpcore, httpx, googletrans\n",
            "Successfully installed contextvars-2.4 googletrans-3.0.0 h11-0.9.0 h2-3.2.0 hpack-3.0.0 hstspreload-2020.11.21 httpcore-0.9.1 httpx-0.13.3 hyperframe-5.2.0 immutables-0.14 rfc3986-1.4.0 sniffio-1.2.0\n"
          ],
          "name": "stdout"
        }
      ]
    },
    {
      "cell_type": "code",
      "metadata": {
        "colab": {
          "base_uri": "https://localhost:8080/"
        },
        "id": "3Udmh-jpdoMQ",
        "outputId": "8113b26f-ef1b-4ea7-b0b1-43176ef6d8b7"
      },
      "source": [
        "pip install pandas-profiling"
      ],
      "execution_count": null,
      "outputs": [
        {
          "output_type": "stream",
          "text": [
            "Requirement already satisfied: pandas-profiling in /usr/local/lib/python3.6/dist-packages (1.4.1)\n",
            "Requirement already satisfied: jinja2>=2.8 in /usr/local/lib/python3.6/dist-packages (from pandas-profiling) (2.11.2)\n",
            "Requirement already satisfied: six>=1.9 in /usr/local/lib/python3.6/dist-packages (from pandas-profiling) (1.15.0)\n",
            "Requirement already satisfied: matplotlib>=1.4 in /usr/local/lib/python3.6/dist-packages (from pandas-profiling) (3.2.2)\n",
            "Requirement already satisfied: pandas>=0.19 in /usr/local/lib/python3.6/dist-packages (from pandas-profiling) (1.1.4)\n",
            "Requirement already satisfied: MarkupSafe>=0.23 in /usr/local/lib/python3.6/dist-packages (from jinja2>=2.8->pandas-profiling) (1.1.1)\n",
            "Requirement already satisfied: cycler>=0.10 in /usr/local/lib/python3.6/dist-packages (from matplotlib>=1.4->pandas-profiling) (0.10.0)\n",
            "Requirement already satisfied: pyparsing!=2.0.4,!=2.1.2,!=2.1.6,>=2.0.1 in /usr/local/lib/python3.6/dist-packages (from matplotlib>=1.4->pandas-profiling) (2.4.7)\n",
            "Requirement already satisfied: kiwisolver>=1.0.1 in /usr/local/lib/python3.6/dist-packages (from matplotlib>=1.4->pandas-profiling) (1.3.1)\n",
            "Requirement already satisfied: python-dateutil>=2.1 in /usr/local/lib/python3.6/dist-packages (from matplotlib>=1.4->pandas-profiling) (2.8.1)\n",
            "Requirement already satisfied: numpy>=1.11 in /usr/local/lib/python3.6/dist-packages (from matplotlib>=1.4->pandas-profiling) (1.18.5)\n",
            "Requirement already satisfied: pytz>=2017.2 in /usr/local/lib/python3.6/dist-packages (from pandas>=0.19->pandas-profiling) (2018.9)\n"
          ],
          "name": "stdout"
        }
      ]
    },
    {
      "cell_type": "code",
      "metadata": {
        "colab": {
          "base_uri": "https://localhost:8080/",
          "height": 990
        },
        "id": "cerH7VA6d54Q",
        "outputId": "3e274f97-9594-4246-8fd7-865d727f53dc"
      },
      "source": [
        "pip install python-csv"
      ],
      "execution_count": null,
      "outputs": [
        {
          "output_type": "stream",
          "text": [
            "Collecting python-csv\n",
            "  Downloading https://files.pythonhosted.org/packages/fd/df/ae7b5086b3d1f399041dac75a3a0bc20f303a97035445b13c6c3a5e7778d/python-csv-0.0.13.tar.gz\n",
            "Collecting argparse\n",
            "  Downloading https://files.pythonhosted.org/packages/f2/94/3af39d34be01a24a6e65433d19e107099374224905f1e0cc6bbe1fd22a2f/argparse-1.4.0-py2.py3-none-any.whl\n",
            "Requirement already satisfied: numpy in /usr/local/lib/python3.6/dist-packages (from python-csv) (1.18.5)\n",
            "Requirement already satisfied: pandas in /usr/local/lib/python3.6/dist-packages (from python-csv) (1.1.4)\n",
            "Requirement already satisfied: matplotlib in /usr/local/lib/python3.6/dist-packages (from python-csv) (3.2.2)\n",
            "Requirement already satisfied: xlrd in /usr/local/lib/python3.6/dist-packages (from python-csv) (1.1.0)\n",
            "Collecting xmltodict\n",
            "  Downloading https://files.pythonhosted.org/packages/28/fd/30d5c1d3ac29ce229f6bdc40bbc20b28f716e8b363140c26eff19122d8a5/xmltodict-0.12.0-py2.py3-none-any.whl\n",
            "Collecting demjson\n",
            "\u001b[?25l  Downloading https://files.pythonhosted.org/packages/96/67/6db789e2533158963d4af689f961b644ddd9200615b8ce92d6cad695c65a/demjson-2.2.4.tar.gz (131kB)\n",
            "\u001b[K     |████████████████████████████████| 133kB 7.0MB/s \n",
            "\u001b[?25hCollecting leven\n",
            "  Downloading https://files.pythonhosted.org/packages/73/02/37084115516cfd595ee2f9a873fffe8b85c6b1538523ff6a8b8dd7ff7d46/leven-1.0.4.tar.gz\n",
            "Collecting jtutils\n",
            "  Downloading https://files.pythonhosted.org/packages/97/75/7f7b2856faf51319fdfff586d56c31bd06b19f61967d282cc62c2ad97eed/jtutils-0.0.8.tar.gz\n",
            "Requirement already satisfied: pytz>=2017.2 in /usr/local/lib/python3.6/dist-packages (from pandas->python-csv) (2018.9)\n",
            "Requirement already satisfied: python-dateutil>=2.7.3 in /usr/local/lib/python3.6/dist-packages (from pandas->python-csv) (2.8.1)\n",
            "Requirement already satisfied: cycler>=0.10 in /usr/local/lib/python3.6/dist-packages (from matplotlib->python-csv) (0.10.0)\n",
            "Requirement already satisfied: pyparsing!=2.0.4,!=2.1.2,!=2.1.6,>=2.0.1 in /usr/local/lib/python3.6/dist-packages (from matplotlib->python-csv) (2.4.7)\n",
            "Requirement already satisfied: kiwisolver>=1.0.1 in /usr/local/lib/python3.6/dist-packages (from matplotlib->python-csv) (1.3.1)\n",
            "Requirement already satisfied: six in /usr/local/lib/python3.6/dist-packages (from leven->python-csv) (1.15.0)\n",
            "Collecting nose\n",
            "\u001b[?25l  Downloading https://files.pythonhosted.org/packages/15/d8/dd071918c040f50fa1cf80da16423af51ff8ce4a0f2399b7bf8de45ac3d9/nose-1.3.7-py3-none-any.whl (154kB)\n",
            "\u001b[K     |████████████████████████████████| 163kB 35.5MB/s \n",
            "\u001b[?25hRequirement already satisfied: requests in /usr/local/lib/python3.6/dist-packages (from jtutils->python-csv) (2.23.0)\n",
            "Requirement already satisfied: beautifulsoup4 in /usr/local/lib/python3.6/dist-packages (from jtutils->python-csv) (4.6.3)\n",
            "Collecting selenium\n",
            "\u001b[?25l  Downloading https://files.pythonhosted.org/packages/80/d6/4294f0b4bce4de0abf13e17190289f9d0613b0a44e5dd6a7f5ca98459853/selenium-3.141.0-py2.py3-none-any.whl (904kB)\n",
            "\u001b[K     |████████████████████████████████| 911kB 46.0MB/s \n",
            "\u001b[?25hRequirement already satisfied: idna<3,>=2.5 in /usr/local/lib/python3.6/dist-packages (from requests->jtutils->python-csv) (2.10)\n",
            "Requirement already satisfied: certifi>=2017.4.17 in /usr/local/lib/python3.6/dist-packages (from requests->jtutils->python-csv) (2020.11.8)\n",
            "Requirement already satisfied: chardet<4,>=3.0.2 in /usr/local/lib/python3.6/dist-packages (from requests->jtutils->python-csv) (3.0.4)\n",
            "Requirement already satisfied: urllib3!=1.25.0,!=1.25.1,<1.26,>=1.21.1 in /usr/local/lib/python3.6/dist-packages (from requests->jtutils->python-csv) (1.24.3)\n",
            "Building wheels for collected packages: python-csv, demjson, leven, jtutils\n",
            "  Building wheel for python-csv (setup.py) ... \u001b[?25l\u001b[?25hdone\n",
            "  Created wheel for python-csv: filename=python_csv-0.0.13-cp36-none-any.whl size=34810 sha256=911940d210f53d485cdcc85283e18122513adf8ca530f4a9241b431f580ffd84\n",
            "  Stored in directory: /root/.cache/pip/wheels/2a/17/81/2360123e1e963e6533dc6503b0e7194c14edd263baefec1c59\n",
            "  Building wheel for demjson (setup.py) ... \u001b[?25l\u001b[?25hdone\n",
            "  Created wheel for demjson: filename=demjson-2.2.4-cp36-none-any.whl size=73547 sha256=f95aa38c5d2a48180903f7164a1633e856034135ce32051ea6bbaae52ebf0083\n",
            "  Stored in directory: /root/.cache/pip/wheels/c5/d2/ab/a54fb5ea53ac3badba098160e8452fa126a51febda80440ded\n",
            "  Building wheel for leven (setup.py) ... \u001b[?25l\u001b[?25hdone\n",
            "  Created wheel for leven: filename=leven-1.0.4-cp36-cp36m-linux_x86_64.whl size=54672 sha256=a7ac8ddd32e0b52b31f9cb31f77e952e0d78e5f525102227647f4c3a6fa7acb4\n",
            "  Stored in directory: /root/.cache/pip/wheels/54/64/a5/439db671d666a50f3b3cebd2dcab3fbbab02785adf58e47552\n",
            "  Building wheel for jtutils (setup.py) ... \u001b[?25l\u001b[?25hdone\n",
            "  Created wheel for jtutils: filename=jtutils-0.0.8-cp36-none-any.whl size=7903 sha256=f16173c02913053f0e692d3b12de3fbe1b7ebcf5a7b4cfef84df1b2451b5f35e\n",
            "  Stored in directory: /root/.cache/pip/wheels/28/f7/5a/8b3e483dcf79531067dd55938adc522306f7195cf2cc151713\n",
            "Successfully built python-csv demjson leven jtutils\n",
            "Installing collected packages: argparse, xmltodict, demjson, nose, leven, selenium, jtutils, python-csv\n",
            "Successfully installed argparse-1.4.0 demjson-2.2.4 jtutils-0.0.8 leven-1.0.4 nose-1.3.7 python-csv-0.0.13 selenium-3.141.0 xmltodict-0.12.0\n"
          ],
          "name": "stdout"
        },
        {
          "output_type": "display_data",
          "data": {
            "application/vnd.colab-display-data+json": {
              "pip_warning": {
                "packages": [
                  "argparse"
                ]
              }
            }
          },
          "metadata": {
            "tags": []
          }
        }
      ]
    },
    {
      "cell_type": "code",
      "metadata": {
        "id": "QtFMXPsqcYqU"
      },
      "source": [
        "from googletrans import Translator"
      ],
      "execution_count": null,
      "outputs": []
    },
    {
      "cell_type": "code",
      "metadata": {
        "id": "O2TSUmrKcgCd"
      },
      "source": [
        "class French_Dictionary:\n",
        "    dictionary = dict()\n",
        "    td = dict()\n",
        "    # to get french words\n",
        "\n",
        "    def getDictionary(self, lis):\n",
        "        translator = Translator()\n",
        "        translated = translator.translate(lis, src='en', dest='fr')\n",
        "        for trans in translated:\n",
        "            print(f'{trans.origin} -> {trans.text}')\n",
        "            self.dictionary[trans.origin] = trans.text\n",
        "        return self.dictionary"
      ],
      "execution_count": null,
      "outputs": []
    },
    {
      "cell_type": "code",
      "metadata": {
        "colab": {
          "resources": {
            "http://localhost:8080/nbextensions/google.colab/files.js": {
              "data": "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",
              "ok": true,
              "headers": [
                [
                  "content-type",
                  "application/javascript"
                ]
              ],
              "status": 200,
              "status_text": ""
            }
          },
          "base_uri": "https://localhost:8080/",
          "height": 73
        },
        "id": "lhSUx8W8cnUc",
        "outputId": "0c25e599-106a-46a4-8b18-99d7da7cd1e1"
      },
      "source": [
        "from google.colab import files\n",
        "uploaded = files.upload()"
      ],
      "execution_count": null,
      "outputs": [
        {
          "output_type": "display_data",
          "data": {
            "text/html": [
              "\n",
              "     <input type=\"file\" id=\"files-1cfe40e9-160a-4c26-a7fe-15eb1d46f7bf\" name=\"files[]\" multiple disabled\n",
              "        style=\"border:none\" />\n",
              "     <output id=\"result-1cfe40e9-160a-4c26-a7fe-15eb1d46f7bf\">\n",
              "      Upload widget is only available when the cell has been executed in the\n",
              "      current browser session. Please rerun this cell to enable.\n",
              "      </output>\n",
              "      <script src=\"/nbextensions/google.colab/files.js\"></script> "
            ],
            "text/plain": [
              "<IPython.core.display.HTML object>"
            ]
          },
          "metadata": {
            "tags": []
          }
        },
        {
          "output_type": "stream",
          "text": [
            "Saving find_words.txt to find_words.txt\n"
          ],
          "name": "stdout"
        }
      ]
    },
    {
      "cell_type": "code",
      "metadata": {
        "colab": {
          "resources": {
            "http://localhost:8080/nbextensions/google.colab/files.js": {
              "data": "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",
              "ok": true,
              "headers": [
                [
                  "content-type",
                  "application/javascript"
                ]
              ],
              "status": 200,
              "status_text": ""
            }
          },
          "base_uri": "https://localhost:8080/",
          "height": 73
        },
        "id": "cC6QwbFncn9d",
        "outputId": "7138b411-c42e-4b44-b638-827c6461cdc8"
      },
      "source": [
        "from google.colab import files\n",
        "uploaded = files.upload()"
      ],
      "execution_count": null,
      "outputs": [
        {
          "output_type": "display_data",
          "data": {
            "text/html": [
              "\n",
              "     <input type=\"file\" id=\"files-32027657-558d-4f84-8554-883da656f075\" name=\"files[]\" multiple disabled\n",
              "        style=\"border:none\" />\n",
              "     <output id=\"result-32027657-558d-4f84-8554-883da656f075\">\n",
              "      Upload widget is only available when the cell has been executed in the\n",
              "      current browser session. Please rerun this cell to enable.\n",
              "      </output>\n",
              "      <script src=\"/nbextensions/google.colab/files.js\"></script> "
            ],
            "text/plain": [
              "<IPython.core.display.HTML object>"
            ]
          },
          "metadata": {
            "tags": []
          }
        },
        {
          "output_type": "stream",
          "text": [
            "Saving t8.shakespeare.txt to t8.shakespeare.txt\n"
          ],
          "name": "stdout"
        }
      ]
    },
    {
      "cell_type": "code",
      "metadata": {
        "colab": {
          "resources": {
            "http://localhost:8080/nbextensions/google.colab/files.js": {
              "data": "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",
              "ok": true,
              "headers": [
                [
                  "content-type",
                  "application/javascript"
                ]
              ],
              "status": 200,
              "status_text": ""
            }
          },
          "base_uri": "https://localhost:8080/",
          "height": 73
        },
        "id": "D2vJzyY7eNOu",
        "outputId": "ff25cbfa-88eb-4e59-fc59-26c1db754dbe"
      },
      "source": [
        "from google.colab import files\n",
        "uploaded = files.upload()"
      ],
      "execution_count": null,
      "outputs": [
        {
          "output_type": "display_data",
          "data": {
            "text/html": [
              "\n",
              "     <input type=\"file\" id=\"files-277e4d56-da2a-4d34-ba70-a7f740e27431\" name=\"files[]\" multiple disabled\n",
              "        style=\"border:none\" />\n",
              "     <output id=\"result-277e4d56-da2a-4d34-ba70-a7f740e27431\">\n",
              "      Upload widget is only available when the cell has been executed in the\n",
              "      current browser session. Please rerun this cell to enable.\n",
              "      </output>\n",
              "      <script src=\"/nbextensions/google.colab/files.js\"></script> "
            ],
            "text/plain": [
              "<IPython.core.display.HTML object>"
            ]
          },
          "metadata": {
            "tags": []
          }
        },
        {
          "output_type": "stream",
          "text": [
            "Saving innovators.csv to innovators.csv\n"
          ],
          "name": "stdout"
        }
      ]
    },
    {
      "cell_type": "code",
      "metadata": {
        "colab": {
          "base_uri": "https://localhost:8080/"
        },
        "id": "bAjq1Trxc8SF",
        "outputId": "4e96ffef-7308-4929-e307-97ec21588eeb"
      },
      "source": [
        "f = open(\"find_words.txt\", \"r\")\n",
        "keyword = list()\n",
        "# get list\n",
        "a = f.readlines()\n",
        "for i in a:\n",
        "    i = i.replace('\\n', '')\n",
        "    keyword.append(i)\n",
        "print(keyword)"
      ],
      "execution_count": null,
      "outputs": [
        {
          "output_type": "stream",
          "text": [
            "['abide', 'about', 'above', 'abroad', 'absence', 'abuse', 'according', 'account', 'accuse', 'acquainted', 'action', 'advantage', 'advice', 'affairs', 'affection', 'affections', 'afraid', 'after', 'afterwards', 'again', 'alive', 'almost', 'alone', 'along', 'already', 'although', 'always', 'ambition', 'ancient', 'angel', 'anger', 'another', 'answer', 'anything', 'apparel', 'appear', 'appears', 'approach', 'argument', 'ariel', 'armour', 'aside', 'asleep', 'assure', 'athens', 'attend', 'attended', 'authority', 'avoid', 'awake', 'awhile', 'banish', 'barren', 'bassianus', 'bastard', 'battle', 'beard', 'bearing', 'bears', 'beast', 'beaten', 'beauty', 'because', 'become', 'bedford', 'before', 'beggar', 'begin', 'behalf', 'behind', 'behold', 'being', 'believe', 'belike', 'below', 'benefit', 'besides', 'betray', 'better', 'between', 'beyond', 'birth', 'bishop', 'bitter', 'black', 'blame', 'bless', 'blessing', 'blest', 'blind', 'blood', 'blows', 'blunt', 'blush', 'bodies', 'bones', 'borne', 'bottom', 'bought', 'bound', 'bounty', 'brain', 'brains', 'brave', 'breast', 'breath', 'breed', 'brief', 'bright', 'bring', 'broke', 'brook', 'brother', 'brought', 'brows', 'burden', 'buried', 'burning', 'business', 'cannot', 'capitol', 'captain', 'cardinal', 'cares', 'carry', 'castle', 'catch', 'cause', 'cease', 'certain', 'chain', 'chair', 'challenge', 'chamber', 'chance', 'change', 'charge', 'charity', 'chaste', 'cheek', 'cheer', 'chide', 'chief', 'child', 'choice', 'church', 'cinna', 'citizen', 'civil', 'claim', 'clarence', 'claud', 'claudio', 'clear', 'clifford', 'close', 'cloten', 'clothes', 'clouds', 'clown', 'college', 'colour', 'comes', 'comfort', 'coming', 'cominius', 'command', 'commanded', 'commend', 'commercial', 'commission', 'commit', 'common', 'companion', 'company', 'complete', 'complexion', 'condition', 'conduct', 'confess', 'conscience', 'consent', 'consider', 'constable', 'constant', 'contempt', 'content', 'contrary', 'copies', 'copyright', 'could', 'council', 'counsel', 'count', 'counterfeit', 'countess', 'country', 'courage', 'course', 'court', 'courtesy', 'cousin', 'coward', 'crave', 'creature', 'credit', 'cromwell', 'cross', 'crown', 'cruel', 'cunning', 'cupid', 'curse', 'custom', 'dagger', 'damned', 'dance', 'danger', 'darkness', 'daughter', 'deadly', 'dearest', 'dearly', 'death', 'deeds', 'defend', 'degree', 'delight', 'deliver', 'demand', 'denied', 'depart', 'desert', 'deserve', 'desire', 'despair', 'desperate', 'despite', 'device', 'devil', 'devise', 'didst', 'dinner', 'discourse', 'discover', 'disgrace', 'dishonour', 'dispatch', 'displeasure', 'disposition', 'distributed', 'divine', 'doctor', 'doing', 'dolabella', 'doors', 'double', 'doubt', 'download', 'dramatis', 'drawn', 'dread', 'dreadful', 'dream', 'dreams', 'drink', 'drops', 'drown', 'drums', 'drunk', 'duncan', 'durst', 'dwell', 'dying', 'early', 'earth', 'edmund', 'effect', 'egypt', 'either', 'elbow', 'elder', 'embrace', 'emilia', 'emperor', 'empty', 'encounter', 'endure', 'enemies', 'enemy', 'enjoy', 'enobarbus', 'enough', 'enter', 'entertain', 'entertainment', 'entreat', 'equal', 'estate', 'eternal', 'every', 'everything', 'excellent', 'except', 'excuse', 'execution', 'exeter', 'exeunt', 'express', 'faces', 'faint', 'fairy', 'faith', 'falls', 'false', 'familiar', 'fancy', 'farewell', 'farther', 'fashion', 'fatal', 'father', 'fault', 'favour', 'fearful', 'fears', 'feast', 'feeble', 'fellow', 'fenton', 'ferdinand', 'fetch', 'field', 'fiend', 'fierce', 'fiery', 'fight', 'figure', 'finds', 'finger', 'first', 'flatter', 'flesh', 'flies', 'flight', 'flood', 'flourish', 'flower', 'flowers', 'follow', 'folly', 'foolish', 'fools', 'forbear', 'forbid', 'force', 'forces', 'forest', 'forget', 'former', 'forsooth', 'forth', 'fortune', 'forward', 'fought', 'found', 'fourth', 'frame', 'france', 'freely', 'french', 'fresh', 'friend', 'frown', 'fruit', 'further', 'gallant', 'garden', 'gates', 'gaunt', 'general', 'gentle', 'ghost', 'given', 'giving', 'glass', 'glorious', 'glory', 'going', 'golden', 'goodness', 'gower', 'grace', 'grant', 'grave', 'great', 'green', 'greet', 'grief', 'grieve', 'gross', 'ground', 'grown', 'guard', 'guess', 'guilty', 'habit', 'hands', 'hanging', 'hangs', 'happiness', 'happy', 'haste', 'hateful', 'having', 'hazard', 'heads', 'health', 'heard', 'heart', 'heaven', 'heavy', 'hector', 'heels', 'hence', 'henceforth', 'hereafter', 'herself', 'highness', 'holds', 'hollow', 'honest', 'horse', 'hostess', 'hours', 'house', 'hubert', 'humble', 'humour', 'hundred', 'husband', 'ignorant', 'image', 'includes', 'indeed', 'infinite', 'innocent', 'instant', 'intend', 'intent', 'issue', 'itself', 'jealous', 'jewel', 'judge', 'judgment', 'julia', 'justice', 'keeps', 'kindness', 'kingdom', 'kings', 'knave', 'kneel', 'knees', 'knife', 'knight', 'knock', 'knowing', 'knowledge', 'known', 'knows', 'labour', 'ladies', 'ladyship', 'lands', 'large', 'laugh', 'launce', 'lawful', 'learn', 'learned', 'least', 'leave', 'leisure', 'leontes', 'letter', 'liberty', 'library', 'liege', 'lieutenant', 'light', 'limbs', 'little', 'lives', 'living', 'longer', 'looks', 'loose', 'lords', 'lordship', 'lorenzo', 'lovely', 'lovers', 'loves', 'loving', 'lucentio', 'machine', 'madness', 'maiden', 'maids', 'maintain', 'majesty', 'makes', 'making', 'malice', 'manner', 'march', 'marcius', 'marcus', 'margaret', 'maria', 'mariana', 'marriage', 'marry', 'master', 'match', 'matter', 'meaning', 'means', 'meant', 'measure', 'meeting', 'membership', 'memory', 'merchant', 'mercy', 'merit', 'merry', 'messenger', 'midnight', 'might', 'mighty', 'milan', 'minds', 'minister', 'miranda', 'mirth', 'mischief', 'misery', 'mistake', 'mistress', 'modest', 'money', 'monster', 'month', 'morning', 'morrow', 'mortal', 'mother', 'motion', 'mouth', 'mowbray', 'murder', 'murther', 'music', 'myself', 'naked', 'names', 'native', 'natural', 'nature', 'needs', 'neighbour', 'neither', 'never', 'niece', 'night', 'noble', 'noise', 'nothing', 'nought', 'number', 'nurse', 'oaths', 'obedience', 'oberon', 'object', 'occasion', 'offence', 'offend', 'offer', 'office', 'often', 'oliver', 'opinion', 'order', 'orlando', 'other', 'others', 'ourselves', 'outward', 'oxford', 'padua', 'pains', 'painted', 'painter', 'palace', 'pandarus', 'paper', 'pardon', 'paris', 'parolles', 'parted', 'particular', 'partly', 'parts', 'party', 'passage', 'passion', 'patience', 'patient', 'paulina', 'peace', 'pedro', 'people', 'perceive', 'percy', 'perfect', 'perhaps', 'peril', 'permission', 'person', 'personal', 'phebe', 'philip', 'picture', 'piece', 'pistol', 'place', 'plague', 'plain', 'plead', 'please', 'pleasure', 'pluck', 'poins', 'point', 'poison', 'policy', 'polixenes', 'pompey', 'porter', 'possible', 'posthumus', 'pound', 'power', 'practice', 'praise', 'prayers', 'precious', 'prepare', 'presence', 'present', 'pretty', 'pride', 'priest', 'prince', 'prison', 'private', 'prize', 'proceed', 'proclaim', 'profit', 'prohibited', 'project', 'prologue', 'promise', 'proof', 'proper', 'protector', 'protest', 'proud', 'prove', 'provided', 'public', 'purpose', 'purse', 'quality', 'quarrel', 'queen', 'question', 'quick', 'quiet', 'quite', 'quoth', 'raise', 'ransom', 'rascal', 'rather', 'readable', 'ready', 'realm', 'reason', 'receive', 'regard', 'reign', 'reignier', 'remain', 'remedy', 'remember', 'render', 'repair', 'repent', 'report', 'reputation', 'request', 'respect', 'return', 'revenge', 'reverence', 'revolt', 'right', 'rivers', 'rogue', 'rotten', 'rough', 'round', 'royal', 'sacred', 'safety', 'saint', 'salerio', 'satisfied', 'saying', 'scarce', 'scene', 'scorn', 'search', 'season', 'second', 'secret', 'seeing', 'senate', 'senator', 'sense', 'sentence', 'servant', 'serve', 'service', 'seven', 'several', 'shadow', 'shake', 'shall', 'shame', 'shape', 'sharp', 'shepherd', 'shine', 'shore', 'short', 'shortly', 'should', 'shows', 'sickness', 'sight', 'silence', 'silver', 'simple', 'since', 'single', 'sirrah', 'sister', 'skill', 'slain', 'slander', 'slave', 'sleep', 'slender', 'small', 'smell', 'smile', 'soldier', 'solemn', 'somerset', 'something', 'sometime', 'sooner', 'soothsayer', 'sorrow', 'sorry', 'sought', 'souls', 'sound', 'sovereign', 'spare', 'speak', 'speaks', 'special', 'speech', 'speed', 'spend', 'spirit', 'spite', 'spoke', 'sport', 'spring', 'staff', 'stain', 'stand', 'stars', 'state', 'steal', 'steel', 'steward', 'still', 'stomach', 'stone', 'stood', 'store', 'storm', 'story', 'straight', 'strange', 'street', 'strength', 'strike', 'stroke', 'strong', 'struck', 'study', 'stuff', 'subject', 'substance', 'success', 'sudden', 'suddenly', 'suffer', 'suffolk', 'summer', 'supper', 'surely', 'surrey', 'suspect', 'swear', 'sweat', 'sweet', 'swift', 'sword', 'swore', 'sworn', 'syracuse', 'table', 'tailor', 'taken', 'talbot', 'tarry', 'taste', 'taught', 'teach', 'tears', 'tedious', 'teeth', 'tells', 'tempest', 'tender', 'terms', 'thank', 'their', 'themselves', 'there', 'therefore', 'therein', 'these', 'thief', 'thing', 'think', 'third', 'thomas', 'those', 'though', 'thought', 'thrive', 'throat', 'throne', 'through', 'throw', 'thrust', 'thunder', 'times', 'title', 'together', 'tongue', 'tonight', 'touch', 'toward', 'tower', 'train', 'traitor', 'tread', 'treason', 'treasure', 'trial', 'tribunes', 'trick', 'triumph', 'trouble', 'truly', 'trumpet', 'trust', 'truth', 'turns', 'twice', 'tyrant', 'ulysses', 'uncle', 'under', 'understand', 'undertake', 'undone', 'unhappy', 'unknown', 'unless', 'until', 'unworthy', 'utter', 'valentine', 'valiant', 'valour', 'vantage', 'vengeance', 'venice', 'version', 'victory', 'villain', 'viola', 'violent', 'virtue', 'visit', 'voice', 'walls', 'warlike', 'warrant', 'waste', 'watch', 'water', 'wealth', 'weapons', 'weary', 'weeds', 'weeping', 'weight', 'welcome', 'wench', 'whence', 'where', 'wherein', 'whether', 'which', 'while', 'whither', 'whole', 'whore', 'whose', 'widow', 'willing', 'window', 'wings', 'winter', 'wisdom', 'witch', 'withal', 'within', 'without', 'witness', 'wives', 'wolsey', 'woman', 'wonder', 'works', 'world', 'worse', 'worship', 'worth', 'would', 'wound', 'wounded', 'wrath', 'wretch', 'write', 'written', 'wrong', 'wrought', 'yield', 'yonder', 'young', 'yours', 'yourself', 'youth']\n"
          ],
          "name": "stdout"
        }
      ]
    },
    {
      "cell_type": "code",
      "metadata": {
        "colab": {
          "base_uri": "https://localhost:8080/",
          "height": 341
        },
        "id": "lzKMOZvCdUrD",
        "outputId": "7dbf88e1-6f00-4b78-b6be-f8ea2409e8ae"
      },
      "source": [
        "fdict =French_Dictionary()\n",
        "dictionary = fdict.getDictionary(keyword)\n",
        "print(dictionary)"
      ],
      "execution_count": null,
      "outputs": [
        {
          "output_type": "error",
          "ename": "AttributeError",
          "evalue": "ignored",
          "traceback": [
            "\u001b[0;31m---------------------------------------------------------------------------\u001b[0m",
            "\u001b[0;31mAttributeError\u001b[0m                            Traceback (most recent call last)",
            "\u001b[0;32m<ipython-input-7-f9c39483086b>\u001b[0m in \u001b[0;36m<module>\u001b[0;34m()\u001b[0m\n\u001b[1;32m      1\u001b[0m \u001b[0mfdict\u001b[0m \u001b[0;34m=\u001b[0m\u001b[0mFrench_Dictionary\u001b[0m\u001b[0;34m(\u001b[0m\u001b[0;34m)\u001b[0m\u001b[0;34m\u001b[0m\u001b[0;34m\u001b[0m\u001b[0m\n\u001b[0;32m----> 2\u001b[0;31m \u001b[0mdictionary\u001b[0m \u001b[0;34m=\u001b[0m \u001b[0mfdict\u001b[0m\u001b[0;34m.\u001b[0m\u001b[0mgetDictionary\u001b[0m\u001b[0;34m(\u001b[0m\u001b[0mkeyword\u001b[0m\u001b[0;34m)\u001b[0m\u001b[0;34m\u001b[0m\u001b[0;34m\u001b[0m\u001b[0m\n\u001b[0m\u001b[1;32m      3\u001b[0m \u001b[0mprint\u001b[0m\u001b[0;34m(\u001b[0m\u001b[0mdictionary\u001b[0m\u001b[0;34m)\u001b[0m\u001b[0;34m\u001b[0m\u001b[0;34m\u001b[0m\u001b[0m\n",
            "\u001b[0;32m<ipython-input-3-ad868f4aa36e>\u001b[0m in \u001b[0;36mgetDictionary\u001b[0;34m(self, lis)\u001b[0m\n\u001b[1;32m      6\u001b[0m     \u001b[0;32mdef\u001b[0m \u001b[0mgetDictionary\u001b[0m\u001b[0;34m(\u001b[0m\u001b[0mself\u001b[0m\u001b[0;34m,\u001b[0m \u001b[0mlis\u001b[0m\u001b[0;34m)\u001b[0m\u001b[0;34m:\u001b[0m\u001b[0;34m\u001b[0m\u001b[0;34m\u001b[0m\u001b[0m\n\u001b[1;32m      7\u001b[0m         \u001b[0mtranslator\u001b[0m \u001b[0;34m=\u001b[0m \u001b[0mTranslator\u001b[0m\u001b[0;34m(\u001b[0m\u001b[0;34m)\u001b[0m\u001b[0;34m\u001b[0m\u001b[0;34m\u001b[0m\u001b[0m\n\u001b[0;32m----> 8\u001b[0;31m         \u001b[0mtranslated\u001b[0m \u001b[0;34m=\u001b[0m \u001b[0mtranslator\u001b[0m\u001b[0;34m.\u001b[0m\u001b[0mtranslate\u001b[0m\u001b[0;34m(\u001b[0m\u001b[0mlis\u001b[0m\u001b[0;34m,\u001b[0m \u001b[0msrc\u001b[0m\u001b[0;34m=\u001b[0m\u001b[0;34m'en'\u001b[0m\u001b[0;34m,\u001b[0m \u001b[0mdest\u001b[0m\u001b[0;34m=\u001b[0m\u001b[0;34m'fr'\u001b[0m\u001b[0;34m)\u001b[0m\u001b[0;34m\u001b[0m\u001b[0;34m\u001b[0m\u001b[0m\n\u001b[0m\u001b[1;32m      9\u001b[0m         \u001b[0;32mfor\u001b[0m \u001b[0mtrans\u001b[0m \u001b[0;32min\u001b[0m \u001b[0mtranslated\u001b[0m\u001b[0;34m:\u001b[0m\u001b[0;34m\u001b[0m\u001b[0;34m\u001b[0m\u001b[0m\n\u001b[1;32m     10\u001b[0m             \u001b[0mprint\u001b[0m\u001b[0;34m(\u001b[0m\u001b[0;34mf'{trans.origin} -> {trans.text}'\u001b[0m\u001b[0;34m)\u001b[0m\u001b[0;34m\u001b[0m\u001b[0;34m\u001b[0m\u001b[0m\n",
            "\u001b[0;32m/usr/local/lib/python3.6/dist-packages/googletrans/client.py\u001b[0m in \u001b[0;36mtranslate\u001b[0;34m(self, text, dest, src, **kwargs)\u001b[0m\n\u001b[1;32m    175\u001b[0m             \u001b[0mresult\u001b[0m \u001b[0;34m=\u001b[0m \u001b[0;34m[\u001b[0m\u001b[0;34m]\u001b[0m\u001b[0;34m\u001b[0m\u001b[0;34m\u001b[0m\u001b[0m\n\u001b[1;32m    176\u001b[0m             \u001b[0;32mfor\u001b[0m \u001b[0mitem\u001b[0m \u001b[0;32min\u001b[0m \u001b[0mtext\u001b[0m\u001b[0;34m:\u001b[0m\u001b[0;34m\u001b[0m\u001b[0;34m\u001b[0m\u001b[0m\n\u001b[0;32m--> 177\u001b[0;31m                 \u001b[0mtranslated\u001b[0m \u001b[0;34m=\u001b[0m \u001b[0mself\u001b[0m\u001b[0;34m.\u001b[0m\u001b[0mtranslate\u001b[0m\u001b[0;34m(\u001b[0m\u001b[0mitem\u001b[0m\u001b[0;34m,\u001b[0m \u001b[0mdest\u001b[0m\u001b[0;34m=\u001b[0m\u001b[0mdest\u001b[0m\u001b[0;34m,\u001b[0m \u001b[0msrc\u001b[0m\u001b[0;34m=\u001b[0m\u001b[0msrc\u001b[0m\u001b[0;34m,\u001b[0m \u001b[0;34m**\u001b[0m\u001b[0mkwargs\u001b[0m\u001b[0;34m)\u001b[0m\u001b[0;34m\u001b[0m\u001b[0;34m\u001b[0m\u001b[0m\n\u001b[0m\u001b[1;32m    178\u001b[0m                 \u001b[0mresult\u001b[0m\u001b[0;34m.\u001b[0m\u001b[0mappend\u001b[0m\u001b[0;34m(\u001b[0m\u001b[0mtranslated\u001b[0m\u001b[0;34m)\u001b[0m\u001b[0;34m\u001b[0m\u001b[0;34m\u001b[0m\u001b[0m\n\u001b[1;32m    179\u001b[0m             \u001b[0;32mreturn\u001b[0m \u001b[0mresult\u001b[0m\u001b[0;34m\u001b[0m\u001b[0;34m\u001b[0m\u001b[0m\n",
            "\u001b[0;32m/usr/local/lib/python3.6/dist-packages/googletrans/client.py\u001b[0m in \u001b[0;36mtranslate\u001b[0;34m(self, text, dest, src, **kwargs)\u001b[0m\n\u001b[1;32m    180\u001b[0m \u001b[0;34m\u001b[0m\u001b[0m\n\u001b[1;32m    181\u001b[0m         \u001b[0morigin\u001b[0m \u001b[0;34m=\u001b[0m \u001b[0mtext\u001b[0m\u001b[0;34m\u001b[0m\u001b[0;34m\u001b[0m\u001b[0m\n\u001b[0;32m--> 182\u001b[0;31m         \u001b[0mdata\u001b[0m \u001b[0;34m=\u001b[0m \u001b[0mself\u001b[0m\u001b[0;34m.\u001b[0m\u001b[0m_translate\u001b[0m\u001b[0;34m(\u001b[0m\u001b[0mtext\u001b[0m\u001b[0;34m,\u001b[0m \u001b[0mdest\u001b[0m\u001b[0;34m,\u001b[0m \u001b[0msrc\u001b[0m\u001b[0;34m,\u001b[0m \u001b[0mkwargs\u001b[0m\u001b[0;34m)\u001b[0m\u001b[0;34m\u001b[0m\u001b[0;34m\u001b[0m\u001b[0m\n\u001b[0m\u001b[1;32m    183\u001b[0m \u001b[0;34m\u001b[0m\u001b[0m\n\u001b[1;32m    184\u001b[0m         \u001b[0;31m# this code will be updated when the format is changed.\u001b[0m\u001b[0;34m\u001b[0m\u001b[0;34m\u001b[0m\u001b[0;34m\u001b[0m\u001b[0m\n",
            "\u001b[0;32m/usr/local/lib/python3.6/dist-packages/googletrans/client.py\u001b[0m in \u001b[0;36m_translate\u001b[0;34m(self, text, dest, src, override)\u001b[0m\n\u001b[1;32m     76\u001b[0m \u001b[0;34m\u001b[0m\u001b[0m\n\u001b[1;32m     77\u001b[0m     \u001b[0;32mdef\u001b[0m \u001b[0m_translate\u001b[0m\u001b[0;34m(\u001b[0m\u001b[0mself\u001b[0m\u001b[0;34m,\u001b[0m \u001b[0mtext\u001b[0m\u001b[0;34m,\u001b[0m \u001b[0mdest\u001b[0m\u001b[0;34m,\u001b[0m \u001b[0msrc\u001b[0m\u001b[0;34m,\u001b[0m \u001b[0moverride\u001b[0m\u001b[0;34m)\u001b[0m\u001b[0;34m:\u001b[0m\u001b[0;34m\u001b[0m\u001b[0;34m\u001b[0m\u001b[0m\n\u001b[0;32m---> 78\u001b[0;31m         \u001b[0mtoken\u001b[0m \u001b[0;34m=\u001b[0m \u001b[0mself\u001b[0m\u001b[0;34m.\u001b[0m\u001b[0mtoken_acquirer\u001b[0m\u001b[0;34m.\u001b[0m\u001b[0mdo\u001b[0m\u001b[0;34m(\u001b[0m\u001b[0mtext\u001b[0m\u001b[0;34m)\u001b[0m\u001b[0;34m\u001b[0m\u001b[0;34m\u001b[0m\u001b[0m\n\u001b[0m\u001b[1;32m     79\u001b[0m         params = utils.build_params(query=text, src=src, dest=dest,\n\u001b[1;32m     80\u001b[0m                                     token=token, override=override)\n",
            "\u001b[0;32m/usr/local/lib/python3.6/dist-packages/googletrans/gtoken.py\u001b[0m in \u001b[0;36mdo\u001b[0;34m(self, text)\u001b[0m\n\u001b[1;32m    192\u001b[0m \u001b[0;34m\u001b[0m\u001b[0m\n\u001b[1;32m    193\u001b[0m     \u001b[0;32mdef\u001b[0m \u001b[0mdo\u001b[0m\u001b[0;34m(\u001b[0m\u001b[0mself\u001b[0m\u001b[0;34m,\u001b[0m \u001b[0mtext\u001b[0m\u001b[0;34m)\u001b[0m\u001b[0;34m:\u001b[0m\u001b[0;34m\u001b[0m\u001b[0;34m\u001b[0m\u001b[0m\n\u001b[0;32m--> 194\u001b[0;31m         \u001b[0mself\u001b[0m\u001b[0;34m.\u001b[0m\u001b[0m_update\u001b[0m\u001b[0;34m(\u001b[0m\u001b[0;34m)\u001b[0m\u001b[0;34m\u001b[0m\u001b[0;34m\u001b[0m\u001b[0m\n\u001b[0m\u001b[1;32m    195\u001b[0m         \u001b[0mtk\u001b[0m \u001b[0;34m=\u001b[0m \u001b[0mself\u001b[0m\u001b[0;34m.\u001b[0m\u001b[0macquire\u001b[0m\u001b[0;34m(\u001b[0m\u001b[0mtext\u001b[0m\u001b[0;34m)\u001b[0m\u001b[0;34m\u001b[0m\u001b[0;34m\u001b[0m\u001b[0m\n\u001b[1;32m    196\u001b[0m         \u001b[0;32mreturn\u001b[0m \u001b[0mtk\u001b[0m\u001b[0;34m\u001b[0m\u001b[0;34m\u001b[0m\u001b[0m\n",
            "\u001b[0;32m/usr/local/lib/python3.6/dist-packages/googletrans/gtoken.py\u001b[0m in \u001b[0;36m_update\u001b[0;34m(self)\u001b[0m\n\u001b[1;32m     60\u001b[0m \u001b[0;34m\u001b[0m\u001b[0m\n\u001b[1;32m     61\u001b[0m         \u001b[0;31m# this will be the same as python code after stripping out a reserved word 'var'\u001b[0m\u001b[0;34m\u001b[0m\u001b[0;34m\u001b[0m\u001b[0;34m\u001b[0m\u001b[0m\n\u001b[0;32m---> 62\u001b[0;31m         \u001b[0mcode\u001b[0m \u001b[0;34m=\u001b[0m \u001b[0mself\u001b[0m\u001b[0;34m.\u001b[0m\u001b[0mRE_TKK\u001b[0m\u001b[0;34m.\u001b[0m\u001b[0msearch\u001b[0m\u001b[0;34m(\u001b[0m\u001b[0mr\u001b[0m\u001b[0;34m.\u001b[0m\u001b[0mtext\u001b[0m\u001b[0;34m)\u001b[0m\u001b[0;34m.\u001b[0m\u001b[0mgroup\u001b[0m\u001b[0;34m(\u001b[0m\u001b[0;36m1\u001b[0m\u001b[0;34m)\u001b[0m\u001b[0;34m.\u001b[0m\u001b[0mreplace\u001b[0m\u001b[0;34m(\u001b[0m\u001b[0;34m'var '\u001b[0m\u001b[0;34m,\u001b[0m \u001b[0;34m''\u001b[0m\u001b[0;34m)\u001b[0m\u001b[0;34m\u001b[0m\u001b[0;34m\u001b[0m\u001b[0m\n\u001b[0m\u001b[1;32m     63\u001b[0m         \u001b[0;31m# unescape special ascii characters such like a \\x3d(=)\u001b[0m\u001b[0;34m\u001b[0m\u001b[0;34m\u001b[0m\u001b[0;34m\u001b[0m\u001b[0m\n\u001b[1;32m     64\u001b[0m         \u001b[0mcode\u001b[0m \u001b[0;34m=\u001b[0m \u001b[0mcode\u001b[0m\u001b[0;34m.\u001b[0m\u001b[0mencode\u001b[0m\u001b[0;34m(\u001b[0m\u001b[0;34m)\u001b[0m\u001b[0;34m.\u001b[0m\u001b[0mdecode\u001b[0m\u001b[0;34m(\u001b[0m\u001b[0;34m'unicode-escape'\u001b[0m\u001b[0;34m)\u001b[0m\u001b[0;34m\u001b[0m\u001b[0;34m\u001b[0m\u001b[0m\n",
            "\u001b[0;31mAttributeError\u001b[0m: 'NoneType' object has no attribute 'group'"
          ]
        }
      ]
    },
    {
      "cell_type": "code",
      "metadata": {
        "id": "3GAEcYwkdjFQ"
      },
      "source": [
        "import pandas\n",
        "df = pandas.read_csv(\"innovators.csv\")"
      ],
      "execution_count": null,
      "outputs": []
    },
    {
      "cell_type": "code",
      "metadata": {
        "colab": {
          "base_uri": "https://localhost:8080/"
        },
        "id": "AbWz-04IeKhe",
        "outputId": "d6a0e3a1-019e-4365-81c8-231b6f43fe6e"
      },
      "source": [
        "print(df)"
      ],
      "execution_count": null,
      "outputs": [
        {
          "output_type": "stream",
          "text": [
            "       SN       ENG        FRENCH\n",
            "0       1     abide     respecter\n",
            "1       2     about           sur\n",
            "2       3     above     au dessus\n",
            "3       4    abroad  à l'étranger\n",
            "4       5   absence       absence\n",
            "..    ...       ...           ...\n",
            "995   996    yonder        là-bas\n",
            "996   997     young         Jeune\n",
            "997   998     yours      le tiens\n",
            "998   999  yourself      toi même\n",
            "999  1000     youth      jeunesse\n",
            "\n",
            "[1000 rows x 3 columns]\n"
          ],
          "name": "stdout"
        }
      ]
    },
    {
      "cell_type": "code",
      "metadata": {
        "colab": {
          "base_uri": "https://localhost:8080/"
        },
        "id": "RlmWNXecfd7v",
        "outputId": "e5f0802f-e8fb-45b3-dae6-4a2f9577d4ca"
      },
      "source": [
        "dictionary=dict()\n",
        "x=list(df['ENG'])\n",
        "y=list(df['FRENCH'])\n",
        "for i in range(0,len(y)):\n",
        "  dictionary[x[i]]=y[i]\n",
        "print(dictionary)"
      ],
      "execution_count": null,
      "outputs": [
        {
          "output_type": "stream",
          "text": [
            "{'abide': 'respecter', 'about': 'sur', 'above': 'au dessus', 'abroad': \"à l'étranger\", 'absence': 'absence', 'abuse': 'abuser de', 'according': 'selon', 'account': 'Compte', 'accuse': 'accuser', 'acquainted': 'connaissance', 'action': 'action', 'advantage': 'avantage', 'advice': 'Conseil', 'affairs': 'affaires', 'affection': 'affection', 'affections': 'affections', 'afraid': 'peur', 'after': 'après', 'afterwards': 'ensuite', 'again': 'encore', 'alive': 'vivant', 'almost': 'presque', 'alone': 'seul', 'along': 'le long de', 'already': 'déjà', 'although': 'bien que', 'always': 'toujours', 'ambition': 'ambition', 'ancient': 'ancien', 'angel': 'ange', 'anger': 'colère', 'another': 'un autre', 'answer': 'répondre', 'anything': \"n'importe quoi\", 'apparel': 'vêtements', 'appear': 'apparaître', 'appears': 'apparaît', 'approach': 'approche', 'argument': 'argument', 'ariel': 'Ariel', 'armour': 'armure', 'aside': 'de côté', 'asleep': 'endormi', 'assure': 'assurer', 'athens': 'Athènes', 'attend': 'assister', 'attended': 'assisté', 'authority': 'autorité', 'avoid': 'éviter', 'awake': 'éveillé', 'awhile': 'quelque temps', 'banish': 'bannir', 'barren': 'Dénudé', 'bassianus': 'bassianus', 'bastard': 'Connard', 'battle': 'bataille', 'beard': 'barbe', 'bearing': 'palier', 'bears': 'ours', 'beast': 'la bête', 'beaten': 'battu', 'beauty': 'beauté', 'because': 'car', 'become': 'devenir', 'bedford': 'Bedford', 'before': 'avant', 'beggar': 'mendiant', 'begin': 'commencer', 'behalf': 'nom', 'behind': 'derrière', 'behold': 'voir', 'being': 'étant', 'believe': 'croyez', 'belike': 'être comme', 'below': 'au dessous de', 'benefit': 'avantage', 'besides': 'outre', 'betray': 'trahir', 'better': 'mieux', 'between': 'entre', 'beyond': 'au-delà', 'birth': 'naissance', 'bishop': 'évêque', 'bitter': 'amer', 'black': 'noir', 'blame': 'faire des reproches', 'bless': 'bénir', 'blessing': 'bénédiction', 'blest': 'heureux', 'blind': 'aveugle', 'blood': 'du sang', 'blows': 'coups', 'blunt': 'cru', 'blush': 'rougir', 'bodies': 'corps', 'bones': 'des os', 'borne': 'supporté', 'bottom': 'bas', 'bought': 'acheté', 'bound': 'lié', 'bounty': 'prime', 'brain': 'cerveau', 'brains': 'cerveaux', 'brave': 'courageux', 'breast': 'Sein', 'breath': 'souffle', 'breed': 'race', 'brief': 'bref', 'bright': 'brillant', 'bring': 'apporter', 'broke': 'cassé', 'brook': 'ruisseau', 'brother': 'frère', 'brought': 'apporté', 'brows': 'sourcils', 'burden': 'fardeau', 'buried': 'enterré', 'burning': 'brûlant', 'business': 'Entreprise', 'cannot': 'ne peux pas', 'capitol': 'Capitole', 'captain': 'capitaine', 'cardinal': 'cardinal', 'cares': 'se soucie', 'carry': 'porter', 'castle': 'Château', 'catch': 'capture', 'cause': 'cause', 'cease': 'cesser', 'certain': 'certain', 'chain': 'chaîne', 'chair': 'chaise', 'challenge': 'défi', 'chamber': 'chambre', 'chance': 'chance', 'change': 'changement', 'charge': 'charge', 'charity': 'charité', 'chaste': 'chaste', 'cheek': 'joue', 'cheer': 'acclamation', 'chide': 'gronder', 'chief': 'chef', 'child': 'enfant', 'choice': 'choix', 'church': 'église', 'cinna': 'cinna', 'citizen': 'citoyenne', 'civil': 'civil', 'claim': 'prétendre', 'clarence': 'clarté', 'claud': 'claud', 'claudio': 'Claudio', 'clear': 'clair', 'clifford': 'Clifford', 'close': 'proche', 'cloten': 'cailloter', 'clothes': 'vêtements', 'clouds': 'des nuages', 'clown': 'pitre', 'college': 'Université', 'colour': 'Couleur', 'comes': 'vient', 'comfort': 'confort', 'coming': 'venir', 'cominius': 'cominius', 'command': 'commander', 'commanded': 'commandé', 'commend': 'saluer', 'commercial': 'commercial', 'commission': 'commission', 'commit': 'commettre', 'common': 'commun', 'companion': 'un compagnon', 'company': 'entreprise', 'complete': 'Achevée', 'complexion': 'complexion', 'condition': 'état', 'conduct': 'conduite', 'confess': 'avouer', 'conscience': 'conscience', 'consent': 'consentement', 'consider': 'considérer', 'constable': 'gendarme', 'constant': 'constant', 'contempt': 'mépris', 'content': 'contenu', 'contrary': 'contraire', 'copies': 'copies', 'copyright': \"droits d'auteur\", 'could': 'pourrait', 'council': 'conseil', 'counsel': 'Conseil', 'count': 'compter', 'counterfeit': 'contrefaire', 'countess': 'comtesse', 'country': 'pays', 'courage': 'courage', 'course': 'cours', 'court': 'tribunal', 'courtesy': 'courtoisie', 'cousin': 'cousin', 'coward': 'lâche', 'crave': 'demander', 'creature': 'créature', 'credit': 'crédit', 'cromwell': 'Cromwell', 'cross': 'traverser', 'crown': 'couronne', 'cruel': 'cruel', 'cunning': 'ruse', 'cupid': 'Cupidon', 'curse': 'malédiction', 'custom': 'Douane', 'dagger': 'dague', 'damned': 'damné', 'dance': 'Danse', 'danger': 'danger', 'darkness': 'obscurité', 'daughter': 'fille', 'deadly': 'mortel', 'dearest': 'très cher', 'dearly': 'chèrement', 'death': 'décès', 'deeds': 'actes', 'defend': 'défendre', 'degree': 'diplôme', 'delight': 'délice', 'deliver': 'livrer', 'demand': 'demande', 'denied': 'refusé', 'depart': 'partir', 'desert': 'désert', 'deserve': 'mériter', 'desire': 'le désir', 'despair': 'désespoir', 'desperate': 'désespéré', 'despite': 'malgré', 'device': 'dispositif', 'devil': 'diable', 'devise': 'concevoir', 'didst': 'didst', 'dinner': 'dîner', 'discourse': 'discours', 'discover': 'découvrir', 'disgrace': 'disgrâce', 'dishonour': 'déshonorer', 'dispatch': 'envoi', 'displeasure': 'mécontentement', 'disposition': 'disposition', 'distributed': 'distribué', 'divine': 'Divin', 'doctor': 'docteur', 'doing': 'Faire', 'dolabella': 'Dolabella', 'doors': 'des portes', 'double': 'double', 'doubt': 'doute', 'download': 'Télécharger', 'dramatis': 'dramatis', 'drawn': 'tiré', 'dread': 'crainte', 'dreadful': 'horrible', 'dream': 'rêver', 'dreams': 'rêves', 'drink': 'boisson', 'drops': 'gouttes', 'drown': 'noyer', 'drums': 'tambours', 'drunk': 'ivre', 'duncan': 'Duncan', 'durst': 'durst', 'dwell': 'habiter', 'dying': 'en train de mourir', 'early': 'de bonne heure', 'earth': 'Terre', 'edmund': 'Edmund', 'effect': 'effet', 'egypt': 'Egypte', 'either': 'Soit', 'elbow': 'coude', 'elder': 'aîné', 'embrace': 'embrasse', 'emilia': 'Émilie', 'emperor': 'empereur', 'empty': 'vide', 'encounter': 'rencontre', 'endure': 'supporter', 'enemies': 'ennemis', 'enemy': 'ennemi', 'enjoy': 'prendre plaisir', 'enobarbus': 'énobarbus', 'enough': 'assez', 'enter': 'entrer', 'entertain': 'divertir', 'entertainment': 'divertissement', 'entreat': 'supplier', 'equal': 'égal', 'estate': 'biens', 'eternal': 'éternel', 'every': 'chaque', 'everything': 'tout', 'excellent': 'excellent', 'except': 'sauf', 'excuse': 'excuse', 'execution': 'exécution', 'exeter': 'Exeter', 'exeunt': 'sortir', 'express': 'Express', 'faces': 'visages', 'faint': 'perdre connaissance', 'fairy': 'Fée', 'faith': 'Foi', 'falls': 'des chutes', 'false': 'faux', 'familiar': 'familier', 'fancy': 'fantaisie', 'farewell': 'adieu', 'farther': 'plus loin', 'fashion': 'mode', 'fatal': 'fatal', 'father': 'père', 'fault': 'faute', 'favour': 'favoriser', 'fearful': 'craintif', 'fears': 'peurs', 'feast': 'le banquet', 'feeble': 'faible', 'fellow': 'compagnon', 'fenton': 'Fenton', 'ferdinand': 'Ferdinand', 'fetch': 'chercher', 'field': 'champ', 'fiend': 'démon', 'fierce': 'féroce', 'fiery': 'ardent', 'fight': 'bats toi', 'figure': 'figure', 'finds': 'trouve', 'finger': 'doigt', 'first': 'première', 'flatter': 'flatter', 'flesh': 'la chair', 'flies': 'mouches', 'flight': 'vol', 'flood': 'inonder', 'flourish': 'fleurir', 'flower': 'fleur', 'flowers': 'fleurs', 'follow': 'suivre', 'folly': 'folie', 'foolish': 'insensé', 'fools': 'imbéciles', 'forbear': 'ancêtre', 'forbid': 'interdire', 'force': 'Obliger', 'forces': 'les forces', 'forest': 'forêt', 'forget': 'oublier', 'former': 'ancien', 'forsooth': 'en vérité', 'forth': 'en avant', 'fortune': 'fortune', 'forward': \"vers l'avant\", 'fought': 'combattu', 'found': 'a trouvé', 'fourth': 'Quatrième', 'frame': 'Cadre', 'france': 'France', 'freely': 'librement', 'french': 'français', 'fresh': 'Frais', 'friend': 'ami', 'frown': 'froncer les sourcils', 'fruit': 'fruit', 'further': 'plus loin', 'gallant': 'galant', 'garden': 'jardin', 'gates': 'portes', 'gaunt': 'décharné', 'general': 'général', 'gentle': 'doux', 'ghost': 'fantôme', 'given': 'donné', 'giving': 'donnant', 'glass': 'verre', 'glorious': 'glorieux', 'glory': 'gloire', 'going': 'Aller', 'golden': \"d'or\", 'goodness': 'la bonté', 'gower': 'gower', 'grace': 'la grâce', 'grant': 'subvention', 'grave': 'la tombe', 'great': 'génial', 'green': 'vert', 'greet': 'saluer', 'grief': 'douleur', 'grieve': 'pleurer', 'gross': 'brut', 'ground': 'sol', 'grown': 'grandi', 'guard': 'garde', 'guess': 'devine', 'guilty': 'coupable', 'habit': 'habitude', 'hands': 'mains', 'hanging': 'pendaison', 'hangs': 'bloque', 'happiness': 'bonheur', 'happy': 'heureux', 'haste': 'hâte', 'hateful': 'odieux', 'having': 'ayant', 'hazard': 'danger', 'heads': 'têtes', 'health': 'santé', 'heard': 'entendu', 'heart': 'cœur', 'heaven': 'paradis', 'heavy': 'lourd', 'hector': 'Hector', 'heels': 'talons', 'hence': 'Par conséquent', 'henceforth': 'désormais', 'hereafter': 'ci-après, par la suite', 'herself': 'se', 'highness': 'altesse', 'holds': 'tient', 'hollow': 'creux', 'honest': 'honnête', 'horse': 'cheval', 'hostess': 'hôtesse', 'hours': 'heures', 'house': 'maison', 'hubert': 'Hubert', 'humble': 'humble', 'humour': 'humour', 'hundred': 'cent', 'husband': 'mari', 'ignorant': 'ignorant', 'image': 'image', 'includes': 'comprend', 'indeed': 'En effet', 'infinite': 'infini', 'innocent': 'innocent', 'instant': 'instant', 'intend': \"avoir l'intention\", 'intent': 'intention', 'issue': 'problème', 'itself': 'lui-même', 'jealous': 'jaloux', 'jewel': 'bijou', 'judge': 'juge', 'judgment': 'jugement', 'julia': 'Julia', 'justice': 'Justice', 'keeps': 'garde', 'kindness': 'la gentillesse', 'kingdom': 'Royaume', 'kings': 'rois', 'knave': 'fripon', 'kneel': \"s'agenouiller\", 'knees': 'les genoux', 'knife': 'couteau', 'knight': 'Chevalier', 'knock': 'frappe', 'knowing': 'connaissance', 'knowledge': 'connaissance', 'known': 'connu', 'knows': 'sait', 'labour': \"la main d'oeuvre\", 'ladies': 'Dames', 'ladyship': 'Madame', 'lands': 'terres', 'large': 'grand', 'laugh': 'rire', 'launce': 'lancer', 'lawful': 'légitime', 'learn': 'apprendre', 'learned': 'appris', 'least': 'moins', 'leave': 'laisser', 'leisure': 'loisir', 'leontes': 'leontes', 'letter': 'lettre', 'liberty': 'liberté', 'library': 'bibliothèque', 'liege': 'Liege', 'lieutenant': 'lieutenant', 'light': 'lumière', 'limbs': 'membres', 'little': 'peu', 'lives': 'vies', 'living': 'vivant', 'longer': 'plus long', 'looks': 'regards', 'loose': 'ample', 'lords': 'seigneurs', 'lordship': 'seigneurie', 'lorenzo': 'Lorenzo', 'lovely': 'charmant', 'lovers': 'les amoureux', 'loves': 'aime', 'loving': 'aimant', 'lucentio': 'Lucentio', 'machine': 'machine', 'madness': 'la démence', 'maiden': 'jeune fille', 'maids': 'servantes', 'maintain': 'maintenir', 'majesty': 'majesté', 'makes': 'fait du', 'making': 'fabrication', 'malice': 'malice', 'manner': 'manière', 'march': 'Mars', 'marcius': 'Marcius', 'marcus': 'Marcus', 'margaret': 'margaret', 'maria': 'maria', 'mariana': 'Mariana', 'marriage': 'mariage', 'marry': 'marier', 'master': 'Maître', 'match': 'rencontre', 'matter': 'matière', 'meaning': 'sens', 'means': 'veux dire', 'meant': 'signifiait', 'measure': 'mesure', 'meeting': 'réunion', 'membership': 'adhésion', 'memory': 'Mémoire', 'merchant': 'marchande', 'mercy': 'pitié', 'merit': 'mérite', 'merry': 'joyeux', 'messenger': 'Messager', 'midnight': 'minuit', 'might': 'pourrait', 'mighty': 'puissant', 'milan': 'Milan', 'minds': 'esprits', 'minister': 'ministre', 'miranda': 'Miranda', 'mirth': 'gaieté', 'mischief': 'sottises', 'misery': 'misère', 'mistake': 'erreur', 'mistress': 'maîtresse', 'modest': 'modeste', 'money': 'argent', 'monster': 'monstre', 'month': 'mois', 'morning': 'Matin', 'morrow': 'demain', 'mortal': 'mortel', 'mother': 'mère', 'motion': 'mouvement', 'mouth': 'bouche', 'mowbray': 'mowbray', 'murder': 'meurtre', 'murther': 'aller plus loin', 'music': 'la musique', 'myself': 'moi même', 'naked': 'nu', 'names': 'des noms', 'native': 'originaire de', 'natural': 'Naturel', 'nature': 'la nature', 'needs': 'Besoins', 'neighbour': 'voisine', 'neither': 'ni', 'never': 'jamais', 'niece': 'nièce', 'night': 'nuit', 'noble': 'noble', 'noise': 'bruit', 'nothing': 'rien', 'nought': 'néant', 'number': 'nombre', 'nurse': 'infirmière', 'oaths': 'serments', 'obedience': 'obéissance', 'oberon': 'Oberon', 'object': 'objet', 'occasion': 'occasion', 'offence': 'infraction', 'offend': 'offenser', 'offer': 'offre', 'office': 'Bureau', 'often': 'souvent', 'oliver': 'oliver', 'opinion': 'opinion', 'order': 'ordre', 'orlando': 'orlando', 'other': 'autre', 'others': 'autres', 'ourselves': 'nous-mêmes', 'outward': \"vers l'extérieur\", 'oxford': 'Oxford', 'padua': 'Padoue', 'pains': 'des douleurs', 'painted': 'peint', 'painter': 'peintre', 'palace': 'palais', 'pandarus': 'Pandarus', 'paper': 'papier', 'pardon': 'pardon', 'paris': 'Paris', 'parolles': 'parolles', 'parted': 'séparé', 'particular': 'particulier', 'partly': 'partiellement', 'parts': 'les pièces', 'party': 'fête', 'passage': 'passage', 'passion': 'la passion', 'patience': 'la patience', 'patient': 'patient', 'paulina': 'paulina', 'peace': 'paix', 'pedro': 'pedro', 'people': 'gens', 'perceive': 'apercevoir', 'percy': 'Percy', 'perfect': 'parfait', 'perhaps': 'peut-être', 'peril': 'péril', 'permission': 'autorisation', 'person': 'la personne', 'personal': 'personnel', 'phebe': 'phebe', 'philip': 'Philippe', 'picture': 'image', 'piece': 'pièce', 'pistol': 'pistolet', 'place': 'endroit', 'plague': 'peste', 'plain': 'plaine', 'plead': 'plaider', 'please': \"S'il vous plaît\", 'pleasure': 'plaisir', 'pluck': 'cueillir', 'poins': 'poins', 'point': 'point', 'poison': 'poison', 'policy': 'politique', 'polixenes': 'polixènes', 'pompey': 'pompey', 'porter': 'porter', 'possible': 'possible', 'posthumus': 'posthume', 'pound': 'livre', 'power': 'Puissance', 'practice': 'entraine toi', 'praise': 'louange', 'prayers': 'prières', 'precious': 'précieux', 'prepare': 'préparer', 'presence': 'présence', 'present': 'présent', 'pretty': 'jolie', 'pride': 'fierté', 'priest': 'prêtre', 'prince': 'prince', 'prison': 'prison', 'private': 'privé', 'prize': 'prix', 'proceed': 'procéder', 'proclaim': 'proclamer', 'profit': 'profit', 'prohibited': 'interdit', 'project': 'projet', 'prologue': 'prologue', 'promise': 'promettre', 'proof': 'preuve', 'proper': 'correct', 'protector': 'protecteur', 'protest': 'manifestation', 'proud': 'fier', 'prove': 'prouver', 'provided': 'à condition de', 'public': 'Publique', 'purpose': 'objectif', 'purse': 'bourse', 'quality': 'qualité', 'quarrel': 'querelle', 'queen': 'reine', 'question': 'question', 'quick': 'rapide', 'quiet': 'silencieux', 'quite': 'assez', 'quoth': 'quoth', 'raise': 'élever', 'ransom': 'une rançon', 'rascal': 'coquin', 'rather': 'plutôt', 'readable': 'lisible', 'ready': 'prêt', 'realm': 'domaine', 'reason': 'raison', 'receive': 'recevoir', 'regard': 'qui concerne', 'reign': 'règne', 'reignier': 'règne', 'remain': 'rester', 'remedy': 'remède', 'remember': 'rappelles toi', 'render': 'rendre', 'repair': 'réparation', 'repent': 'se repentir', 'report': 'rapport', 'reputation': 'réputation', 'request': 'demande', 'respect': 'le respect', 'return': 'revenir', 'revenge': 'vengeance', 'reverence': 'révérence', 'revolt': 'révolte', 'right': 'droite', 'rivers': 'rivières', 'rogue': 'coquin', 'rotten': 'pourri', 'rough': 'rugueux', 'round': 'rond', 'royal': 'Royal', 'sacred': 'sacré', 'safety': 'sécurité', 'saint': 'Saint', 'salerio': 'salerio', 'satisfied': 'satisfait', 'saying': 'en disant', 'scarce': 'rare', 'scene': 'scène', 'scorn': 'mépris', 'search': 'chercher', 'season': 'saison', 'second': 'seconde', 'secret': 'secret', 'seeing': 'voyant', 'senate': 'sénat', 'senator': 'sénateur', 'sense': 'sens', 'sentence': 'phrase', 'servant': 'serviteur', 'serve': 'servir', 'service': 'un service', 'seven': 'Sept', 'several': 'nombreuses', 'shadow': 'ombre', 'shake': 'secouer', 'shall': 'doit', 'shame': 'la honte', 'shape': 'forme', 'sharp': 'tranchant', 'shepherd': 'berger', 'shine': 'éclat', 'shore': 'rive', 'short': 'court', 'shortly': 'prochainement', 'should': 'devrait', 'shows': 'montre', 'sickness': 'maladie', 'sight': 'vue', 'silence': 'silence', 'silver': 'argent', 'simple': 'Facile', 'since': 'depuis', 'single': 'Célibataire', 'sirrah': 'sirrah', 'sister': 'sœur', 'skill': 'compétence', 'slain': 'tué', 'slander': 'calomnie', 'slave': 'esclave', 'sleep': 'sommeil', 'slender': 'mince', 'small': 'petit', 'smell': 'odeur', 'smile': 'sourire', 'soldier': 'soldat', 'solemn': 'solennel', 'somerset': 'somerset', 'something': 'quelque chose', 'sometime': 'parfois', 'sooner': 'plus tôt', 'soothsayer': 'devin', 'sorrow': 'chagrin', 'sorry': 'Pardon', 'sought': 'recherché', 'souls': 'âmes', 'sound': 'du son', 'sovereign': 'souverain', 'spare': 'de rechange', 'speak': 'parler', 'speaks': 'parle', 'special': 'spécial', 'speech': 'discours', 'speed': 'la vitesse', 'spend': 'dépenser', 'spirit': 'esprit', 'spite': 'dépit', 'spoke': 'parlait', 'sport': 'sport', 'spring': 'printemps', 'staff': 'Personnel', 'stain': 'tache', 'stand': 'supporter', 'stars': 'étoiles', 'state': 'Etat', 'steal': 'voler', 'steel': 'acier', 'steward': 'intendant', 'still': 'encore', 'stomach': 'estomac', 'stone': 'calcul', 'stood': 'se tenait', 'store': 'boutique', 'storm': 'orage', 'story': 'récit', 'straight': 'tout droit', 'strange': 'étrange', 'street': 'rue', 'strength': 'force', 'strike': 'la grève', 'stroke': 'accident vasculaire cérébral', 'strong': 'fort', 'struck': 'frappé', 'study': 'étude', 'stuff': 'des trucs', 'subject': 'matière', 'substance': 'substance', 'success': 'Succès', 'sudden': 'soudain', 'suddenly': 'tout à coup', 'suffer': 'souffrir', 'suffolk': 'suffolk', 'summer': 'été', 'supper': 'souper', 'surely': 'sûrement', 'surrey': 'Surrey', 'suspect': 'suspect', 'swear': 'jurer', 'sweat': 'transpiration', 'sweet': 'sucré', 'swift': 'rapide', 'sword': 'épée', 'swore': 'juré', 'sworn': 'juré', 'syracuse': 'Syracuse', 'table': 'table', 'tailor': 'tailleur', 'taken': 'pris', 'talbot': 'talbot', 'tarry': 'goudronneux', 'taste': 'goût', 'taught': 'enseigné', 'teach': 'enseigner', 'tears': 'larmes', 'tedious': 'fastidieux', 'teeth': 'les dents', 'tells': 'raconte', 'tempest': 'tempête', 'tender': 'soumissionner', 'terms': 'termes', 'thank': 'remercier', 'their': 'leur', 'themselves': 'se', 'there': 'Là', 'therefore': 'par conséquent', 'therein': 'la bride', 'these': 'celles-ci', 'thief': 'voleur', 'thing': 'chose', 'think': 'pense', 'third': 'troisième', 'thomas': 'Thomas', 'those': 'ceux', 'though': 'bien que', 'thought': 'pensée', 'thrive': 'prospérer', 'throat': 'gorge', 'throne': 'trône', 'through': 'par', 'throw': 'jeter', 'thrust': 'poussée', 'thunder': 'tonnerre', 'times': 'fois', 'title': 'Titre', 'together': 'ensemble', 'tongue': 'langue', 'tonight': 'ce soir', 'touch': 'toucher', 'toward': 'vers', 'tower': 'la tour', 'train': 'train', 'traitor': 'traitre', 'tread': 'bande de roulement', 'treason': 'trahison', 'treasure': 'Trésor', 'trial': 'procès', 'tribunes': 'tribunes', 'trick': 'tour', 'triumph': 'triomphe', 'trouble': 'difficulté', 'truly': 'vraiment', 'trumpet': 'trompette', 'trust': 'confiance', 'truth': 'vérité', 'turns': 'se tourne', 'twice': 'deux fois', 'tyrant': 'tyran', 'ulysses': 'Ulysse', 'uncle': 'oncle', 'under': 'sous', 'understand': 'comprendre', 'undertake': 'entreprendre', 'undone': 'défait', 'unhappy': 'malheureux', 'unknown': 'inconnue', 'unless': 'sauf si', 'until': \"jusqu'à\", 'unworthy': 'indigne', 'utter': 'prononcer', 'valentine': 'Valentin', 'valiant': 'vaillant', 'valour': 'valeur', 'vantage': 'avantage', 'vengeance': 'vengeance', 'venice': 'venise', 'version': 'version', 'victory': 'la victoire', 'villain': 'scélérat', 'viola': 'alto', 'violent': 'violent', 'virtue': 'vertu', 'visit': 'visite', 'voice': 'voix', 'walls': 'des murs', 'warlike': 'guerrier', 'warrant': 'mandat', 'waste': 'déchets', 'watch': 'regarder', 'water': 'eau', 'wealth': 'richesse', 'weapons': 'armes', 'weary': 'se lasser', 'weeds': 'mauvaises herbes', 'weeping': 'larmes', 'weight': 'poids', 'welcome': 'Bienvenue', 'wench': 'jeune fille', 'whence': \"d'où\", 'where': 'où', 'wherein': 'où', 'whether': \"qu'il s'agisse\", 'which': 'lequel', 'while': 'tandis que', 'whither': 'où', 'whole': 'entier', 'whore': 'putain', 'whose': 'dont', 'widow': 'veuve', 'willing': 'prêt', 'window': 'la fenêtre', 'wings': 'ailes', 'winter': 'hiver', 'wisdom': 'sagesse', 'witch': 'sorcière', 'withal': 'avec', 'within': 'dans', 'without': 'sans pour autant', 'witness': 'témoin', 'wives': 'épouses', 'wolsey': 'Wolsey', 'woman': 'femme', 'wonder': 'merveille', 'works': 'travaux', 'world': 'monde', 'worse': 'pire', 'worship': 'culte', 'worth': 'vaut', 'would': 'aurait', 'wound': 'blessure', 'wounded': 'blessés', 'wrath': 'colère', 'wretch': 'misérable', 'write': 'écrire', 'written': 'écrit', 'wrong': 'faux', 'wrought': 'forgé', 'yield': 'rendement', 'yonder': 'là-bas', 'young': 'Jeune', 'yours': 'le tiens', 'yourself': 'toi même', 'youth': 'jeunesse'}\n"
          ],
          "name": "stdout"
        }
      ]
    },
    {
      "cell_type": "code",
      "metadata": {
        "id": "Hwm65ALeiJpF"
      },
      "source": [
        "import re\n",
        "import time\n",
        "import tracemalloc"
      ],
      "execution_count": null,
      "outputs": []
    },
    {
      "cell_type": "code",
      "metadata": {
        "colab": {
          "base_uri": "https://localhost:8080/"
        },
        "id": "q1GvLgSugaia",
        "outputId": "3e7e87b1-eb61-4655-d476-8fb512da97d1"
      },
      "source": [
        "class trans:\n",
        "  data=''\n",
        "  time_for_translate=list()\n",
        "  memory_for_translate=list()\n",
        "  def __init__(self):\n",
        "    fin = open(\"t8.shakespeare.txt\", \"rt\")\n",
        "    self.data = fin.read()\n",
        "\n",
        "  def change_word(self,words):\n",
        "    start = time.time()\n",
        "    tracemalloc.start()\n",
        "    x = re.findall(words,data)\n",
        "    y = re.findall(words.capitalize(),data)\n",
        "    # countw.append(len(x)+len(y))\n",
        "    self.data = self.data.replace(words,dictionary[words])\n",
        "    # print(words,dictionary[words])\n",
        "    self.data = self.data.replace(words.capitalize(),dictionary[words].capitalize())\n",
        "    end = time.time()\n",
        "    self.time_for_translate.append(end-start)\n",
        "    current, peak = tracemalloc.get_traced_memory()\n",
        "    # print(f\"Current memory usage is {current / 10**6}MB; Peak was {peak / 10**6}MB\")\n",
        "    self.memory_for_translate.append(current / 10**6)\n",
        "    tracemalloc.stop()\n",
        "    \n",
        "    return len(x)+len(y)\n",
        "\n",
        "  def get_Content(self):\n",
        "    return self.data\n",
        "  def get_time(self):\n",
        "    return self.time_for_translate\n",
        "  def get_memory(self):\n",
        "    return self.memory_for_translate\n",
        "count=list()\n",
        "t=trans()\n",
        "\n",
        "for words in dictionary:\n",
        "  c=t.change_word(words)\n",
        "  count.append(c)\n",
        "datas=t.get_Content()\n",
        "times=t.get_time()\n",
        "memos=t.get_memory()\n",
        "print(count)\n",
        "print(times)\n",
        "print(memos)\n",
        "\n"
      ],
      "execution_count": null,
      "outputs": [
        {
          "output_type": "stream",
          "text": [
            "[45, 414, 147, 64, 55, 76, 55, 57, 53, 43, 234, 88, 43, 68, 118, 40, 41, 543, 38, 1364, 93, 161, 237, 112, 148, 79, 63, 49, 82, 209, 355, 454, 480, 105, 48, 231, 50, 103, 78, 17, 57, 468, 60, 71, 71, 376, 46, 55, 52, 87, 102, 205, 43, 21, 105, 146, 124, 76, 110, 130, 50, 233, 187, 210, 11, 840, 125, 188, 46, 120, 199, 664, 253, 42, 54, 47, 109, 68, 612, 241, 60, 101, 59, 96, 195, 94, 277, 67, 84, 105, 947, 73, 73, 89, 44, 76, 96, 53, 51, 229, 42, 154, 49, 223, 117, 360, 110, 114, 82, 526, 238, 93, 728, 196, 49, 62, 59, 52, 236, 762, 43, 160, 103, 36, 113, 116, 93, 549, 68, 236, 81, 46, 57, 167, 202, 246, 270, 55, 46, 152, 131, 59, 159, 379, 72, 100, 19, 80, 68, 186, 98, 259, 132, 86, 65, 168, 21, 41, 59, 61, 6, 168, 701, 254, 172, 19, 291, 40, 155, 0, 52, 86, 238, 55, 215, 24, 47, 88, 53, 185, 127, 112, 89, 44, 72, 55, 270, 47, 4, 7, 654, 58, 176, 758, 69, 11, 243, 87, 253, 451, 66, 287, 150, 73, 110, 73, 18, 126, 395, 100, 81, 54, 182, 72, 57, 45, 113, 224, 39, 489, 51, 56, 42, 931, 119, 85, 65, 86, 200, 89, 55, 98, 65, 135, 310, 62, 54, 59, 49, 293, 57, 183, 98, 67, 78, 58, 70, 92, 43, 51, 2, 59, 92, 86, 8, 62, 130, 255, 0, 20, 92, 121, 61, 210, 46, 218, 58, 110, 42, 114, 21, 51, 73, 54, 109, 380, 74, 116, 63, 356, 29, 50, 84, 42, 107, 54, 61, 81, 111, 167, 71, 14, 313, 2519, 98, 38, 159, 69, 58, 40, 558, 42, 125, 60, 86, 63, 26, 1035, 69, 53, 76, 47, 464, 82, 355, 47, 68, 355, 43, 125, 45, 1150, 280, 203, 99, 77, 132, 34, 444, 18, 8, 129, 242, 81, 44, 49, 322, 66, 42, 114, 558, 137, 142, 62, 56, 59, 146, 103, 47, 560, 80, 103, 104, 65, 86, 275, 46, 92, 115, 74, 48, 441, 485, 103, 68, 320, 21, 55, 414, 55, 205, 124, 1017, 88, 70, 194, 72, 54, 105, 44, 232, 1003, 88, 205, 65, 83, 43, 89, 111, 92, 56, 12, 719, 152, 239, 1147, 105, 93, 274, 71, 96, 182, 68, 177, 55, 71, 86, 342, 63, 37, 59, 242, 219, 39, 158, 47, 130, 120, 364, 1350, 853, 169, 153, 83, 583, 41, 49, 98, 189, 93, 54, 406, 335, 37, 141, 662, 34, 94, 124, 120, 373, 48, 74, 2, 438, 43, 56, 85, 97, 74, 129, 240, 96, 89, 119, 117, 35, 192, 76, 79, 127, 149, 239, 116, 51, 56, 189, 143, 53, 99, 233, 213, 128, 124, 45, 68, 104, 243, 36, 77, 225, 56, 101, 748, 68, 11, 383, 73, 10, 145, 55, 611, 49, 484, 213, 123, 112, 216, 60, 513, 128, 24, 53, 61, 225, 122, 41, 3, 68, 78, 48, 58, 270, 360, 85, 72, 175, 166, 83, 54, 85, 23, 8, 122, 377, 977, 119, 385, 64, 264, 83, 108, 56, 0, 58, 44, 187, 79, 169, 110, 43, 679, 117, 40, 56, 62, 5, 53, 50, 39, 53, 416, 100, 193, 96, 97, 134, 353, 147, 476, 113, 200, 28, 137, 89, 250, 567, 56, 50, 45, 105, 412, 147, 90, 185, 1023, 65, 1214, 746, 117, 639, 58, 102, 202, 87, 60, 8, 54, 91, 121, 149, 178, 282, 140, 9, 97, 144, 26, 2598, 285, 188, 57, 27, 41, 92, 53, 10, 167, 17, 122, 327, 131, 12, 56, 71, 35, 112, 51, 44, 147, 203, 130, 17, 556, 155, 230, 103, 64, 114, 45, 65, 4, 215, 16, 19, 38, 52, 143, 45, 525, 110, 241, 63, 449, 258, 163, 70, 256, 128, 45, 16, 92, 28, 98, 32, 112, 381, 56, 239, 85, 79, 82, 107, 442, 117, 112, 85, 834, 260, 74, 56, 134, 80, 65, 0, 32, 27, 160, 118, 100, 60, 67, 249, 371, 37, 70, 260, 107, 58, 129, 575, 177, 243, 110, 117, 66, 298, 66, 90, 323, 3, 294, 60, 498, 144, 62, 293, 14, 127, 59, 200, 57, 52, 77, 186, 47, 85, 144, 281, 189, 44, 64, 657, 27, 108, 40, 634, 282, 255, 47, 74, 146, 5, 54, 63, 90, 152, 146, 61, 69, 120, 108, 56, 42, 44, 187, 45, 256, 463, 264, 93, 106, 111, 172, 3702, 366, 130, 90, 86, 102, 85, 172, 46, 1716, 103, 54, 239, 88, 72, 90, 462, 64, 148, 238, 62, 127, 92, 176, 438, 43, 121, 69, 125, 360, 69, 68, 183, 138, 62, 9, 244, 92, 40, 114, 333, 182, 68, 1412, 129, 64, 163, 162, 80, 396, 132, 219, 168, 90, 155, 116, 944, 71, 405, 130, 78, 40, 588, 62, 150, 107, 72, 81, 92, 161, 355, 133, 143, 205, 64, 279, 84, 68, 70, 172, 43, 88, 129, 50, 162, 83, 99, 64, 42, 13, 53, 356, 53, 925, 100, 427, 60, 197, 9, 246, 44, 104, 94, 50, 98, 55, 137, 291, 51, 56, 45, 50, 176, 75, 517, 2108, 159, 3061, 627, 56, 1338, 68, 1712, 1368, 88, 54, 547, 1395, 682, 62, 78, 75, 284, 213, 66, 90, 302, 121, 281, 503, 49, 230, 177, 86, 201, 205, 57, 116, 58, 65, 50, 94, 79, 133, 172, 211, 244, 349, 73, 72, 70, 20, 256, 675, 123, 51, 55, 38, 44, 155, 78, 36, 121, 66, 162, 101, 133, 53, 64, 8, 47, 362, 21, 47, 244, 97, 213, 85, 58, 191, 75, 221, 198, 113, 42, 87, 44, 62, 63, 380, 85, 76, 1873, 133, 97, 2322, 437, 89, 161, 104, 618, 98, 94, 69, 57, 82, 105, 89, 153, 494, 368, 142, 64, 8, 496, 165, 29, 704, 178, 133, 592, 2456, 211, 42, 73, 153, 161, 35, 379, 43, 202, 74, 503, 609, 280, 318]\n",
            "[0.03059220314025879, 0.029262304306030273, 0.030327796936035156, 0.025632619857788086, 0.020000696182250977, 0.03132963180541992, 0.026378154754638672, 0.030138254165649414, 0.029966115951538086, 0.02632308006286621, 0.021893978118896484, 0.027065515518188477, 0.025724411010742188, 0.024427413940429688, 0.021494388580322266, 0.020477294921875, 0.021304607391357422, 0.023187637329101562, 0.01697516441345215, 0.03043055534362793, 0.0345454216003418, 0.033095598220825195, 0.03370308876037598, 0.03256082534790039, 0.02941584587097168, 0.020926713943481445, 0.028353452682495117, 0.020073652267456055, 0.03189444541931152, 0.03212547302246094, 0.032053232192993164, 0.03816032409667969, 0.03402853012084961, 0.027727127075195312, 0.024021625518798828, 0.028472185134887695, 0.017401933670043945, 0.018687009811401367, 0.021174907684326172, 0.02123713493347168, 0.02043747901916504, 0.036046504974365234, 0.026685714721679688, 0.033257484436035156, 0.028828859329223633, 0.03143048286437988, 0.017202377319335938, 0.026022911071777344, 0.027142047882080078, 0.030350446701049805, 0.033794403076171875, 0.016855239868164062, 0.01671886444091797, 0.012245416641235352, 0.01508331298828125, 0.022378206253051758, 0.01611781120300293, 0.02534031867980957, 0.02904820442199707, 0.030477285385131836, 0.023554563522338867, 0.015847444534301758, 0.026145219802856445, 0.028948307037353516, 0.014061927795410156, 0.02796316146850586, 0.024645090103149414, 0.027451038360595703, 0.018963098526000977, 0.02654552459716797, 0.026439189910888672, 0.01695990562438965, 0.024505138397216797, 0.025671958923339844, 0.02075982093811035, 0.020046710968017578, 0.022414684295654297, 0.01682877540588379, 0.024091005325317383, 0.023014068603515625, 0.02525472640991211, 0.02106952667236328, 0.014533519744873047, 0.02202153205871582, 0.01932549476623535, 0.03005671501159668, 0.017226696014404297, 0.012767791748046875, 0.029552698135375977, 0.025356292724609375, 0.021665096282958984, 0.01626276969909668, 0.02707982063293457, 0.024103641510009766, 0.020398855209350586, 0.022428274154663086, 0.02914595603942871, 0.018022775650024414, 0.015613794326782227, 0.02414393424987793, 0.021646499633789062, 0.025629520416259766, 0.014179229736328125, 0.02895975112915039, 0.027037858963012695, 0.029726028442382812, 0.02068948745727539, 0.02494645118713379, 0.02750372886657715, 0.022835969924926758, 0.018817901611328125, 0.017926931381225586, 0.02803516387939453, 0.017171144485473633, 0.01885056495666504, 0.026370525360107422, 0.023700475692749023, 0.013590574264526367, 0.02301764488220215, 0.02835988998413086, 0.018672704696655273, 0.02425980567932129, 0.016579627990722656, 0.023160219192504883, 0.02059030532836914, 0.03100419044494629, 0.02653336524963379, 0.019600868225097656, 0.02937912940979004, 0.020061731338500977, 0.02382040023803711, 0.020290136337280273, 0.027643203735351562, 0.017669200897216797, 0.019632339477539062, 0.030413389205932617, 0.020068883895874023, 0.016743898391723633, 0.021534442901611328, 0.016573429107666016, 0.026422739028930664, 0.03072047233581543, 0.02419137954711914, 0.0230405330657959, 0.023141860961914062, 0.014872074127197266, 0.015056133270263672, 0.02346062660217285, 0.013987302780151367, 0.018636465072631836, 0.021129369735717773, 0.01438450813293457, 0.015413761138916016, 0.01942276954650879, 0.015457868576049805, 0.03392386436462402, 0.01885199546813965, 0.02301812171936035, 0.022982358932495117, 0.016697168350219727, 0.019535064697265625, 0.022876977920532227, 0.018738508224487305, 0.01661372184753418, 0.023058652877807617, 0.014844417572021484, 0.023705244064331055, 0.013708353042602539, 0.02475881576538086, 0.013710260391235352, 0.013191461563110352, 0.0252225399017334, 0.015512466430664062, 0.021306753158569336, 0.022335529327392578, 0.02716803550720215, 0.01493978500366211, 0.022319555282592773, 0.02578115463256836, 0.025295495986938477, 0.016590356826782227, 0.029906511306762695, 0.030119657516479492, 0.028413057327270508, 0.017566680908203125, 0.026704072952270508, 0.017672061920166016, 0.019229650497436523, 0.01669931411743164, 0.015496492385864258, 0.02521967887878418, 0.018737077713012695, 0.018157958984375, 0.030120372772216797, 0.014789342880249023, 0.015110492706298828, 0.013825654983520508, 0.019466638565063477, 0.029860258102416992, 0.029381275177001953, 0.014724969863891602, 0.01848888397216797, 0.024559497833251953, 0.0289003849029541, 0.017572402954101562, 0.019025564193725586, 0.014954090118408203, 0.02471613883972168, 0.026615381240844727, 0.017159700393676758, 0.018594980239868164, 0.015689849853515625, 0.029823780059814453, 0.015605688095092773, 0.021309852600097656, 0.026282787322998047, 0.021109342575073242, 0.017225980758666992, 0.025740385055541992, 0.029874086380004883, 0.017531394958496094, 0.023930072784423828, 0.028195858001708984, 0.022002696990966797, 0.016699790954589844, 0.023910045623779297, 0.02655959129333496, 0.029593229293823242, 0.02968907356262207, 0.030824661254882812, 0.01883101463317871, 0.02127981185913086, 0.018440961837768555, 0.018359899520874023, 0.031524658203125, 0.028760910034179688, 0.018605947494506836, 0.029097318649291992, 0.021219253540039062, 0.0263671875, 0.026762723922729492, 0.019582033157348633, 0.028941631317138672, 0.016414165496826172, 0.028247356414794922, 0.020276784896850586, 0.02911376953125, 0.026984691619873047, 0.022236347198486328, 0.014827728271484375, 0.015588760375976562, 0.027930736541748047, 0.023810863494873047, 0.017638683319091797, 0.015092134475708008, 0.025375843048095703, 0.019924163818359375, 0.018636465072631836, 0.013990163803100586, 0.016149520874023438, 0.026806116104125977, 0.02571415901184082, 0.014468908309936523, 0.018564462661743164, 0.016782283782958984, 0.022989511489868164, 0.024743080139160156, 0.01878070831298828, 0.024424314498901367, 0.021544218063354492, 0.01529240608215332, 0.01897883415222168, 0.023810863494873047, 0.0221102237701416, 0.032752275466918945, 0.026842117309570312, 0.020850419998168945, 0.030830860137939453, 0.02514934539794922, 0.03738999366760254, 0.022739410400390625, 0.028456449508666992, 0.03325366973876953, 0.023351669311523438, 0.031208276748657227, 0.027639389038085938, 0.02194952964782715, 0.035089969635009766, 0.022845983505249023, 0.02766585350036621, 0.03200697898864746, 0.022769451141357422, 0.03432798385620117, 0.03927326202392578, 0.021998167037963867, 0.0201873779296875, 0.03695869445800781, 0.03026723861694336, 0.02991485595703125, 0.025595903396606445, 0.029941797256469727, 0.02065277099609375, 0.022356271743774414, 0.030215978622436523, 0.023710250854492188, 0.023701906204223633, 0.021695375442504883, 0.024880170822143555, 0.0225527286529541, 0.021129369735717773, 0.02950739860534668, 0.021489858627319336, 0.02886033058166504, 0.025005340576171875, 0.03273653984069824, 0.015660524368286133, 0.0214385986328125, 0.023311614990234375, 0.02568221092224121, 0.026833772659301758, 0.01581549644470215, 0.032518863677978516, 0.0180666446685791, 0.023849964141845703, 0.019533634185791016, 0.01900792121887207, 0.03142118453979492, 0.016028165817260742, 0.022670507431030273, 0.016767501831054688, 0.018313884735107422, 0.028859853744506836, 0.017345905303955078, 0.017968416213989258, 0.018183469772338867, 0.022272586822509766, 0.02662062644958496, 0.018819332122802734, 0.02626347541809082, 0.025867223739624023, 0.028798341751098633, 0.017683982849121094, 0.027957439422607422, 0.028352737426757812, 0.02399730682373047, 0.017569303512573242, 0.02588963508605957, 0.027827978134155273, 0.015059232711791992, 0.013791322708129883, 0.014801979064941406, 0.016199827194213867, 0.024386167526245117, 0.01734137535095215, 0.02310323715209961, 0.03186297416687012, 0.01564645767211914, 0.03234744071960449, 0.030655384063720703, 0.017519474029541016, 0.023980140686035156, 0.028571367263793945, 0.021715641021728516, 0.02311253547668457, 0.02880859375, 0.025594472885131836, 0.02399277687072754, 0.019800186157226562, 0.018532514572143555, 0.022434711456298828, 0.02024364471435547, 0.01865100860595703, 0.027987241744995117, 0.026602506637573242, 0.017297983169555664, 0.02841663360595703, 0.022949695587158203, 0.018589019775390625, 0.02284526824951172, 0.027135848999023438, 0.01735663414001465, 0.03064870834350586, 0.028322935104370117, 0.017422199249267578, 0.01869821548461914, 0.016229629516601562, 0.014967203140258789, 0.02175116539001465, 0.01569223403930664, 0.029117345809936523, 0.017019271850585938, 0.016646385192871094, 0.031038522720336914, 0.029384613037109375, 0.03012704849243164, 0.03207969665527344, 0.0265657901763916, 0.027383089065551758, 0.02351522445678711, 0.025355100631713867, 0.024228572845458984, 0.02209782600402832, 0.024991989135742188, 0.015478849411010742, 0.02253890037536621, 0.02178668975830078, 0.029546737670898438, 0.02077007293701172, 0.02515244483947754, 0.02981114387512207, 0.028500080108642578, 0.02379584312438965, 0.03827333450317383, 0.024800539016723633, 0.02705526351928711, 0.01826763153076172, 0.022229909896850586, 0.03581428527832031, 0.032720327377319336, 0.04355645179748535, 0.032807350158691406, 0.023103713989257812, 0.023011207580566406, 0.025783300399780273, 0.03486037254333496, 0.01832747459411621, 0.01732802391052246, 0.03052496910095215, 0.03211355209350586, 0.02360844612121582, 0.024890899658203125, 0.037444353103637695, 0.036740779876708984, 0.023472309112548828, 0.032861948013305664, 0.036768436431884766, 0.021031618118286133, 0.02062511444091797, 0.019440412521362305, 0.029048442840576172, 0.028633594512939453, 0.02143692970275879, 0.025249481201171875, 0.022003650665283203, 0.029564619064331055, 0.02425098419189453, 0.024262189865112305, 0.024802684783935547, 0.031249523162841797, 0.03150796890258789, 0.031584978103637695, 0.030096769332885742, 0.0241241455078125, 0.01942300796508789, 0.025957822799682617, 0.018501758575439453, 0.018353939056396484, 0.020049333572387695, 0.01862788200378418, 0.025107622146606445, 0.017872333526611328, 0.0271148681640625, 0.029800891876220703, 0.02558732032775879, 0.025704622268676758, 0.02872776985168457, 0.03500008583068848, 0.027242183685302734, 0.027831554412841797, 0.031919002532958984, 0.02241802215576172, 0.0342555046081543, 0.037180423736572266, 0.039886474609375, 0.030984878540039062, 0.03600120544433594, 0.03078174591064453, 0.0350189208984375, 0.027219533920288086, 0.03161478042602539, 0.04224395751953125, 0.020676851272583008, 0.027370929718017578, 0.04009103775024414, 0.03178286552429199, 0.025014877319335938, 0.027092933654785156, 0.026554107666015625, 0.0328974723815918, 0.03534507751464844, 0.026479721069335938, 0.04001617431640625, 0.027480363845825195, 0.038854122161865234, 0.038480281829833984, 0.023228168487548828, 0.04169058799743652, 0.03392791748046875, 0.025762557983398438, 0.037856101989746094, 0.018892765045166016, 0.02423691749572754, 0.025998353958129883, 0.03859281539916992, 0.03837752342224121, 0.025839805603027344, 0.025287866592407227, 0.024880647659301758, 0.03309297561645508, 0.03761649131774902, 0.03296852111816406, 0.03174233436584473, 0.024320363998413086, 0.03777289390563965, 0.030971765518188477, 0.028584957122802734, 0.02925872802734375, 0.03410148620605469, 0.021457910537719727, 0.02161121368408203, 0.021391868591308594, 0.02187371253967285, 0.020725488662719727, 0.036170005798339844, 0.029946327209472656, 0.02921128273010254, 0.03530693054199219, 0.03568434715270996, 0.032952308654785156, 0.0391390323638916, 0.04278850555419922, 0.03813314437866211, 0.02461552619934082, 0.016728878021240234, 0.026189088821411133, 0.03949141502380371, 0.025133609771728516, 0.03162026405334473, 0.032573699951171875, 0.031668901443481445, 0.03294706344604492, 0.03731560707092285, 0.016499042510986328, 0.023766040802001953, 0.03716611862182617, 0.02336597442626953, 0.02159738540649414, 0.03526425361633301, 0.016259193420410156, 0.026011228561401367, 0.03919863700866699, 0.03590106964111328, 0.0387420654296875, 0.03594017028808594, 0.02788686752319336, 0.029928922653198242, 0.0357663631439209, 0.0254366397857666, 0.02624988555908203, 0.0413818359375, 0.03180575370788574, 0.028531789779663086, 0.019858837127685547, 0.03484177589416504, 0.03482389450073242, 0.030488014221191406, 0.032347917556762695, 0.036740779876708984, 0.03284764289855957, 0.034281253814697266, 0.02721548080444336, 0.046440839767456055, 0.03795337677001953, 0.03893756866455078, 0.023851871490478516, 0.04021286964416504, 0.0296938419342041, 0.04144644737243652, 0.03249502182006836, 0.033231258392333984, 0.038039445877075195, 0.03929758071899414, 0.028508663177490234, 0.04530477523803711, 0.037899017333984375, 0.038094520568847656, 0.031014204025268555, 0.033791303634643555, 0.029689550399780273, 0.03592491149902344, 0.037424325942993164, 0.030766725540161133, 0.030472993850708008, 0.04401278495788574, 0.02787947654724121, 0.027868032455444336, 0.03204703330993652, 0.02863001823425293, 0.035394906997680664, 0.026955127716064453, 0.04013776779174805, 0.03128409385681152, 0.023706912994384766, 0.0221555233001709, 0.027665138244628906, 0.035396575927734375, 0.02361273765563965, 0.024729013442993164, 0.019378662109375, 0.03268289566040039, 0.02562999725341797, 0.025170564651489258, 0.02184295654296875, 0.024837493896484375, 0.029004335403442383, 0.031882524490356445, 0.03465986251831055, 0.023874521255493164, 0.01981949806213379, 0.03420710563659668, 0.03677725791931152, 0.028127670288085938, 0.027633190155029297, 0.03651785850524902, 0.023144245147705078, 0.034570932388305664, 0.029473304748535156, 0.019268274307250977, 0.020061731338500977, 0.034769535064697266, 0.021831512451171875, 0.02524876594543457, 0.039415597915649414, 0.018929481506347656, 0.020804405212402344, 0.0194399356842041, 0.03327608108520508, 0.024716615676879883, 0.03453326225280762, 0.03884434700012207, 0.03652238845825195, 0.03866314888000488, 0.03951835632324219, 0.043251991271972656, 0.03707242012023926, 0.0258028507232666, 0.02238607406616211, 0.026525259017944336, 0.024301528930664062, 0.022296428680419922, 0.03443288803100586, 0.01854562759399414, 0.025975942611694336, 0.025078296661376953, 0.019974708557128906, 0.020519495010375977, 0.03707695007324219, 0.033814191818237305, 0.04444766044616699, 0.02176642417907715, 0.0255129337310791, 0.033243656158447266, 0.02458667755126953, 0.026567935943603516, 0.031096220016479492, 0.04004073143005371, 0.0278017520904541, 0.02750372886657715, 0.026271820068359375, 0.030277252197265625, 0.03808259963989258, 0.031170129776000977, 0.01688361167907715, 0.024820804595947266, 0.017069578170776367, 0.031014442443847656, 0.025221824645996094, 0.03950667381286621, 0.0273892879486084, 0.03410077095031738, 0.028920650482177734, 0.03496599197387695, 0.03232455253601074, 0.04028010368347168, 0.03212881088256836, 0.024974584579467773, 0.034739017486572266, 0.03765273094177246, 0.01800060272216797, 0.031331777572631836, 0.023153066635131836, 0.025250911712646484, 0.023853063583374023, 0.036936283111572266, 0.027771711349487305, 0.023882150650024414, 0.047025442123413086, 0.0382997989654541, 0.02676558494567871, 0.0315556526184082, 0.029549121856689453, 0.03759145736694336, 0.032277584075927734, 0.03360486030578613, 0.04384136199951172, 0.038446903228759766, 0.033345699310302734, 0.02103447914123535, 0.03223133087158203, 0.02328801155090332, 0.03310990333557129, 0.029880523681640625, 0.04116678237915039, 0.03957414627075195, 0.041686058044433594, 0.03135371208190918, 0.0258941650390625, 0.0466160774230957, 0.0794839859008789, 0.03966951370239258, 0.02445220947265625, 0.04264545440673828, 0.052819013595581055, 0.03833508491516113, 0.04477858543395996, 0.031151294708251953, 0.03879141807556152, 0.03931283950805664, 0.03912997245788574, 0.044995784759521484, 0.029783010482788086, 0.03222155570983887, 0.02799248695373535, 0.02433943748474121, 0.0357213020324707, 0.041948795318603516, 0.031033039093017578, 0.040671348571777344, 0.0406339168548584, 0.03174257278442383, 0.03928065299987793, 0.02955031394958496, 0.028059959411621094, 0.034355878829956055, 0.0455327033996582, 0.0426332950592041, 0.029740095138549805, 0.04500293731689453, 0.039910316467285156, 0.04408121109008789, 0.04365348815917969, 0.03752923011779785, 0.033641815185546875, 0.04490971565246582, 0.03902077674865723, 0.04581952095031738, 0.03254365921020508, 0.03515887260437012, 0.03432583808898926, 0.03403282165527344, 0.04800248146057129, 0.03194284439086914, 0.02127981185913086, 0.03832578659057617, 0.03756260871887207, 0.029639482498168945, 0.03174471855163574, 0.025222301483154297, 0.025431156158447266, 0.025551795959472656, 0.03743314743041992, 0.036609649658203125, 0.022910356521606445, 0.03419041633605957, 0.024367094039916992, 0.0326533317565918, 0.034827232360839844, 0.0356144905090332, 0.02776479721069336, 0.03134584426879883, 0.02484440803527832, 0.02216315269470215, 0.036794424057006836, 0.0347442626953125, 0.03458452224731445, 0.020908594131469727, 0.03360891342163086, 0.03350663185119629, 0.03424882888793945, 0.0292508602142334, 0.025170326232910156, 0.02644944190979004, 0.03070068359375, 0.03108835220336914, 0.030887126922607422, 0.018159151077270508, 0.03716111183166504, 0.02751469612121582, 0.015886545181274414, 0.019829511642456055, 0.028384685516357422, 0.02568960189819336, 0.027634382247924805, 0.022957324981689453, 0.026059627532958984, 0.03269243240356445, 0.024396419525146484, 0.028622150421142578, 0.02552032470703125, 0.02860569953918457, 0.03421497344970703, 0.032793283462524414, 0.03520488739013672, 0.025130271911621094, 0.023604631423950195, 0.0339813232421875, 0.031642913818359375, 0.023630142211914062, 0.03764677047729492, 0.028861522674560547, 0.030997276306152344, 0.023761510848999023, 0.019936084747314453, 0.03258681297302246, 0.027878761291503906, 0.031676292419433594, 0.033196210861206055, 0.03717756271362305, 0.028964519500732422, 0.030007600784301758, 0.02148747444152832, 0.02167510986328125, 0.025874853134155273, 0.022279024124145508, 0.021570920944213867, 0.026693344116210938, 0.029718399047851562, 0.015176057815551758, 0.029937744140625, 0.016521692276000977, 0.024075746536254883, 0.0229034423828125, 0.0300443172454834, 0.018167734146118164, 0.023271560668945312, 0.02517867088317871, 0.03160715103149414, 0.024048805236816406, 0.030057191848754883, 0.02892446517944336, 0.03237605094909668, 0.02911686897277832, 0.020544767379760742, 0.02986621856689453, 0.03589296340942383, 0.03467535972595215, 0.022057533264160156, 0.02835679054260254, 0.03817129135131836, 0.032605886459350586, 0.034819841384887695, 0.03818941116333008, 0.03427886962890625, 0.032393455505371094, 0.03631234169006348, 0.023871898651123047, 0.0345308780670166, 0.03456902503967285, 0.03224897384643555, 0.041332244873046875, 0.03013134002685547, 0.044098854064941406, 0.021111011505126953, 0.02255105972290039, 0.04002022743225098, 0.027040719985961914, 0.026630640029907227, 0.02654576301574707, 0.03278207778930664, 0.023598909378051758, 0.04185175895690918, 0.03239083290100098, 0.019498348236083984, 0.03594517707824707, 0.029165267944335938, 0.03735661506652832, 0.01941657066345215, 0.025522232055664062, 0.0350794792175293, 0.03733420372009277, 0.028130292892456055, 0.028259992599487305, 0.02644801139831543, 0.02853226661682129, 0.019697904586791992, 0.03230166435241699, 0.032000064849853516, 0.03599381446838379, 0.027088403701782227, 0.025368213653564453, 0.031656742095947266, 0.02118968963623047, 0.027030467987060547, 0.026879072189331055, 0.025980234146118164, 0.021548986434936523, 0.02865910530090332, 0.03721189498901367, 0.029422521591186523, 0.032979726791381836, 0.033705949783325195, 0.030427932739257812, 0.03313612937927246, 0.03419947624206543, 0.03322601318359375, 0.01959705352783203, 0.023685932159423828, 0.03287482261657715, 0.015004396438598633, 0.016150474548339844, 0.023105382919311523, 0.015174150466918945, 0.012343645095825195, 0.03036355972290039, 0.02976679801940918, 0.026734113693237305, 0.02991342544555664, 0.021351099014282227, 0.028463363647460938, 0.019431352615356445, 0.02202606201171875, 0.01842045783996582, 0.017147302627563477, 0.01884770393371582, 0.02401447296142578, 0.02557229995727539, 0.02921581268310547, 0.018590211868286133, 0.03271961212158203, 0.02714061737060547, 0.02978372573852539, 0.02494955062866211, 0.028927087783813477, 0.026891708374023438, 0.03129267692565918, 0.02679729461669922, 0.03157210350036621, 0.023225784301757812, 0.027368545532226562, 0.0256960391998291, 0.02554774284362793, 0.02401256561279297, 0.022254228591918945, 0.02930760383605957, 0.028838396072387695, 0.014957189559936523, 0.031893014907836914, 0.015003204345703125, 0.02747368812561035, 0.024556875228881836, 0.0341801643371582, 0.032326459884643555, 0.03207802772521973, 0.03402853012084961, 0.0337071418762207, 0.018481969833374023, 0.022510528564453125, 0.025609970092773438, 0.02108454704284668, 0.03278088569641113, 0.025203227996826172, 0.026761770248413086, 0.028804302215576172, 0.0287320613861084, 0.02783966064453125, 0.030461549758911133, 0.028596878051757812, 0.016403675079345703, 0.021251916885375977, 0.032164812088012695, 0.026550769805908203, 0.01944565773010254, 0.03449296951293945, 0.022788047790527344, 0.029119014739990234, 0.02653646469116211, 0.0271914005279541, 0.013283729553222656, 0.02786087989807129, 0.029523849487304688, 0.0349421501159668, 0.0261533260345459, 0.02485966682434082, 0.013657569885253906, 0.027886152267456055, 0.022960901260375977, 0.019385337829589844, 0.02980208396911621, 0.014503002166748047, 0.02918076515197754]\n",
            "[5.4618, 5.484074, 5.467844, 5.463267, 5.46278, 5.46425, 5.462992, 5.462951, 5.462886, 5.462502, 5.474535, 5.46562, 5.462457, 5.464241, 5.467807, 5.462652, 5.462533, 5.493471, 0.003893, 5.546361, 5.46718, 5.471711, 5.475928, 5.46885, 5.470984, 5.466936, 5.46555, 5.464736, 5.466788, 5.474151, 5.483606, 5.49146, 5.493315, 5.470612, 5.466962, 5.479806, 0.00448, 5.471438, 5.469885, 5.465754, 5.4683, 5.49486, 5.469573, 5.470281, 5.470288, 5.490559, 0.004703, 5.470289, 5.469827, 5.472171, 5.473934, 5.480455, 5.470209, 5.468961, 5.474333, 5.47695, 5.475407, 5.472653, 5.493401, 5.476013, 5.471006, 5.482567, 5.479069, 5.48066, 5.467999, 5.519878, 5.474579, 5.479015, 5.470144, 5.475158, 5.479785, 5.508703, 5.483812, 5.469713, 5.470814, 5.470611, 5.474441, 5.471612, 5.505376, 5.481675, 5.470098, 5.472903, 5.470447, 5.472602, 5.478328, 5.473486, 5.48492, 0.005676, 5.473818, 5.474458, 5.528988, 5.474352, 5.474246, 5.475319, 5.472522, 5.474585, 5.476129, 5.47335, 5.473208, 5.483806, 5.472149, 5.479278, 0.00431, 5.484712, 5.47788, 5.493525, 5.47845, 5.47764, 5.475951, 5.505054, 5.487286, 5.478383, 5.518443, 5.483851, 5.47433, 5.475333, 5.475115, 5.474815, 5.487548, 5.524102, 5.478508, 5.48642, 5.482932, 5.478442, 5.483321, 5.483812, 5.483631, 5.511007, 5.480925, 5.491887, 5.481804, 5.479592, 5.480389, 5.487257, 5.489238, 5.493278, 5.494534, 5.481077, 5.480398, 5.486875, 5.486285, 5.481875, 5.487932, 5.502183, 5.482542, 5.484098, 5.479255, 5.483215, 5.483557, 5.490865, 5.484974, 5.494579, 5.487083, 5.483821, 5.483933, 5.489193, 5.48006, 5.481484, 5.482764, 5.482852, 5.479474, 5.489897, 5.522742, 5.495746, 5.490009, 5.482594, 5.4983, 0.003306, 5.489553, 0.000675, 5.483128, 5.485156, 5.494804, 5.48528, 5.494501, 5.482174, 5.483877, 5.486007, 5.483618, 5.491841, 5.488601, 5.487841, 5.486773, 5.483953, 5.486016, 5.484857, 5.503265, 5.484384, 5.481427, 5.481786, 5.523822, 5.48702, 5.494484, 5.53192, 0.006064, 0.002004, 0.016976, 5.490318, 5.500427, 5.513826, 0.005587, 5.50585, 5.495029, 5.490267, 5.493126, 5.490373, 5.487042, 5.494065, 5.512104, 5.493686, 5.492501, 5.490651, 5.499863, 5.492964, 5.491938, 5.491169, 5.495403, 0.015399, 5.491022, 5.519077, 5.490167, 5.490611, 5.489814, 5.545729, 5.494505, 5.492685, 5.491522, 5.492838, 5.500094, 5.502126, 5.490736, 5.493485, 5.491366, 5.498096, 5.507557, 5.492056, 5.491654, 5.491829, 5.491255, 5.506714, 5.492191, 5.499961, 5.494732, 0.005744, 5.493692, 5.492408, 5.493377, 5.494476, 5.491576, 5.492152, 5.488776, 5.492141, 5.494384, 5.493871, 5.489119, 5.492725, 5.497088, 5.504819, 0.001217, 5.490208, 5.494413, 5.496493, 0.00527, 5.501995, 0.004081, 5.502935, 5.493099, 5.496323, 5.492297, 5.499151, 5.490871, 5.492669, 5.494179, 5.493743, 5.497646, 5.514704, 5.495687, 5.498217, 5.494805, 5.512664, 5.491945, 5.493229, 5.495687, 5.492892, 5.497362, 5.493614, 0.005396, 5.495669, 5.497735, 5.501014, 5.495796, 5.492394, 5.510929, 5.650893, 0.007782, 0.004106, 5.504164, 5.498011, 5.497306, 5.496325, 5.528885, 0.004161, 5.502607, 5.497958, 5.499588, 5.498451, 5.4958, 5.560039, 5.498595, 5.500321, 5.499971, 5.498103, 5.523349, 5.499747, 5.534918, 5.497438, 5.498812, 5.516793, 5.496427, 5.501284, 5.496008, 5.563489, 5.508502, 5.504325, 5.498044, 5.49648, 5.500622, 5.494493, 5.521927, 5.494801, 5.494238, 5.502139, 5.509249, 5.499075, 5.496818, 5.497156, 5.515328, 5.499251, 5.49769, 5.502251, 5.531626, 5.505568, 5.505892, 5.501088, 5.500573, 5.500844, 5.506669, 5.503411, 0.00428, 5.53245, 5.501889, 5.503547, 5.503745, 5.501547, 5.506278, 5.515443, 0.004081, 5.50389, 5.505414, 5.502887, 5.501395, 5.527089, 5.530765, 5.50668, 5.504483, 5.520942, 5.502569, 5.504591, 5.527624, 5.504844, 5.514872, 5.509468, 5.563857, 5.505457, 5.504325, 5.512959, 5.504991, 5.503784, 5.506908, 5.503306, 5.515724, 5.562482, 5.504276, 5.511434, 5.503013, 5.503975, 5.501675, 5.504388, 5.505752, 5.504523, 5.502449, 5.499438, 5.545543, 5.510925, 5.517244, 5.575015, 5.50981, 5.509159, 5.520817, 5.508422, 5.509476, 5.514309, 5.50727, 5.513764, 5.506215, 5.511709, 5.508716, 5.524668, 5.507616, 5.505841, 5.508575, 5.519029, 5.517496, 5.506257, 5.513492, 5.506499, 5.511685, 5.51113, 5.526705, 11.089388, 11.060574, 11.01936, 11.016442, 11.011962, 11.053664, 0.003502, 0.003884, 11.022756, 11.028424, 11.021766, 11.019303, 11.042347, 11.03824, 11.019768, 11.026398, 11.060272, 11.021075, 11.025071, 11.026881, 11.02627, 11.0408, 11.019841, 11.025906, 11.016787, 11.046361, 11.02104, 11.021909, 11.023684, 11.026456, 11.026121, 11.030238, 11.038433, 11.029146, 11.028366, 11.030084, 11.030394, 11.024788, 11.035068, 11.02733, 11.028872, 11.031752, 11.032598, 11.043016, 11.03291, 11.029302, 11.029796, 11.039454, 11.036666, 11.031788, 11.035606, 11.04333, 11.041856, 11.039131, 11.038799, 11.033622, 11.034974, 11.03719, 11.045514, 11.032589, 11.03552, 11.046434, 0.004816, 11.038594, 11.082308, 11.039598, 11.045206, 11.05955, 11.03991, 11.03597, 11.044294, 11.039138, 11.075102, 11.04043, 11.065341, 11.0473, 11.041828, 11.041767, 11.049182, 11.039342, 11.071492, 0.009697, 11.04124, 11.043254, 11.04449, 11.05417, 11.047907, 11.042928, 11.04039, 11.045014, 11.046371, 11.044688, 11.045745, 11.059182, 11.065892, 11.049544, 11.048693, 11.055708, 11.054546, 11.049528, 11.047577, 11.049758, 11.045552, 11.044688, 11.051959, 11.068194, 11.106652, 11.057822, 11.070822, 11.050248, 11.06451, 11.054158, 11.055774, 11.052382, 0.001283, 11.052487, 11.051895, 11.060722, 11.054016, 11.059926, 11.05666, 11.051942, 11.095628, 0.008626, 11.055594, 11.05681, 11.057499, 11.0537, 11.056754, 0.004563, 11.055974, 11.056852, 11.081589, 11.060735, 11.066802, 11.061062, 11.0606, 11.062764, 11.076258, 11.063312, 11.082263, 11.06004, 11.06556, 11.055066, 11.062202, 11.060676, 11.072922, 11.095508, 11.062802, 11.062746, 11.063088, 11.085494, 11.089711, 11.073088, 11.069662, 0.013208, 11.129758, 11.069706, 11.139444, 11.110356, 11.070982, 11.101272, 11.063393, 11.066197, 11.074314, 11.06765, 11.066444, 11.062873, 11.065695, 11.068394, 11.070836, 11.073026, 11.074674, 11.081613, 11.072886, 11.064766, 11.070488, 11.073102, 11.065912, 11.231098, 0.019362, 11.077194, 11.069234, 11.06731, 11.068176, 11.072698, 11.0702, 11.067424, 11.0774, 11.067938, 11.074542, 11.08766, 11.075116, 11.067825, 11.070523, 11.072018, 11.069816, 11.075754, 11.071782, 11.071462, 11.07896, 11.084142, 11.079226, 11.071882, 11.104456, 11.079306, 11.083243, 11.075894, 11.073076, 11.076502, 11.072218, 11.07331, 11.069673, 11.085056, 0.002257, 11.072616, 11.074033, 11.074808, 11.080272, 11.074454, 11.1063, 11.080389, 11.088882, 11.078122, 11.110754, 11.098769, 11.093024, 11.087114, 11.098862, 11.090967, 11.085904, 11.084216, 11.088969, 11.084833, 11.089593, 11.085232, 11.09002, 11.109522, 11.089607, 11.101732, 11.09186, 11.091668, 11.092504, 11.093572, 11.115288, 11.0938, 11.093604, 11.093072, 11.139643, 11.103001, 11.091102, 11.089596, 11.095042, 0.005873, 11.09056, 0.000675, 11.088466, 11.088182, 11.099602, 11.094568, 11.099969, 11.091616, 11.092706, 11.103292, 11.112332, 11.09223, 11.094481, 11.10732, 11.097382, 11.094502, 11.099344, 11.12688, 11.102618, 11.106734, 11.099516, 11.09999, 11.097012, 11.111948, 11.098119, 11.104199, 11.114398, 11.094176, 11.112098, 11.097606, 11.125549, 11.103416, 11.101453, 11.115896, 0.002143, 11.105556, 11.101256, 11.112653, 11.103066, 11.103207, 11.10556, 11.112897, 11.1043, 11.106492, 11.111442, 11.120578, 11.115728, 11.106466, 11.107703, 11.145868, 11.10656, 11.111714, 11.107635, 11.146486, 11.124286, 11.122604, 11.109478, 11.111563, 11.115856, 11.107166, 11.110484, 11.11116, 11.112525, 11.116358, 11.116198, 11.111226, 11.111746, 11.115255, 11.123811, 11.111159, 11.110177, 11.110492, 11.11895, 11.110032, 11.124946, 11.137634, 11.12749, 11.116124, 11.117788, 11.117734, 11.122244, 11.334756, 11.128888, 11.1144, 11.112512, 11.112309, 11.112928, 11.111728, 11.117106, 0.00416, 11.218543, 11.116482, 11.113573, 11.124034, 11.114714, 11.113545, 11.114695, 11.138672, 11.121661, 11.119961, 11.123167, 11.112628, 11.116062, 11.114334, 11.120004, 11.137824, 11.113274, 11.118062, 11.114726, 11.118778, 11.133598, 11.114884, 11.114999, 11.124322, 11.120889, 11.115935, 11.112586, 11.127951, 11.11817, 11.115339, 11.119674, 11.134062, 0.013446, 11.118224, 11.205032, 0.009286, 11.12101, 11.12785, 11.12922, 11.124592, 11.144717, 11.12788, 11.13423, 11.1309, 11.126703, 11.131874, 11.129528, 11.188896, 11.13447, 11.154508, 11.13749, 11.134282, 11.132128, 11.167206, 11.134816, 11.140318, 11.13858, 11.136722, 11.1374, 11.138074, 11.143626, 11.155808, 11.140668, 11.1592, 11.145022, 11.139011, 11.15168, 11.139155, 11.138078, 11.138714, 11.14544, 11.13732, 11.139912, 11.142576, 0.004563, 11.145447, 11.140474, 11.140788, 11.138623, 11.137397, 11.135498, 11.138152, 11.156958, 11.138828, 11.193796, 11.141982, 11.161634, 11.138544, 11.14658, 11.135042, 11.14977, 11.137331, 11.140784, 11.140339, 11.138084, 11.140896, 11.138466, 11.144614, 11.154976, 11.140314, 11.140872, 11.140362, 11.140894, 11.151349, 11.144932, 11.176448, 11.271554, 11.14846, 11.312144, 0.043008, 0.004912, 11.22127, 11.13437, 11.237466, 11.216298, 11.13641, 11.134293, 11.164182, 11.224042, 0.044936, 11.139413, 11.140233, 11.139918, 0.019608, 11.148446, 11.139379, 11.141306, 11.153666, 11.14246, 11.153282, 11.16692, 0.004424, 11.15037, 11.14645, 11.140862, 11.147936, 11.14866, 11.140498, 0.008752, 11.140561, 11.140908, 11.140251, 11.142558, 11.142018, 11.14617, 11.149376, 11.15323, 11.156652, 11.163852, 11.146764, 11.14711, 11.147165, 11.143724, 11.158514, 11.183842, 0.008972, 0.004064, 11.144738, 0.003016, 0.004552, 11.151476, 11.146666, 11.144229, 11.150276, 11.147106, 11.15348, 11.149362, 11.151952, 11.146956, 11.147383, 11.14604, 11.146728, 11.167804, 11.145638, 11.147474, 11.159269, 11.150168, 11.15699, 11.149428, 11.148028, 11.156238, 11.148922, 11.159372, 11.157002, 11.152378, 11.147772, 11.151244, 11.149522, 11.1508, 11.15105, 11.17313, 11.159442, 0.006107, 11.25534, 0.009784, 11.145934, 11.289012, 11.175036, 11.15259, 11.15714, 11.153734, 11.184766, 11.15227, 11.15168, 11.150426, 11.149564, 11.151105, 11.152756, 11.152208, 11.155654, 11.175401, 11.174456, 11.159548, 11.154642, 11.151115, 11.181602, 11.162124, 11.153514, 11.195932, 11.162452, 11.159526, 11.1869, 11.3083, 11.168992, 0.003936, 11.160558, 11.166622, 11.176286, 11.159446, 11.180088, 0.003992, 11.170658, 11.162749, 11.189168, 11.208276, 0.019457, 11.183134]\n"
          ],
          "name": "stdout"
        }
      ]
    },
    {
      "cell_type": "code",
      "metadata": {
        "id": "qDvLl1CQimMn"
      },
      "source": [
        "fin.close()"
      ],
      "execution_count": null,
      "outputs": []
    },
    {
      "cell_type": "code",
      "metadata": {
        "id": "2WdSB6e8u0zZ"
      },
      "source": [
        ""
      ],
      "execution_count": null,
      "outputs": []
    },
    {
      "cell_type": "code",
      "metadata": {
        "id": "p0sX9H-wiUWs"
      },
      "source": [
        "fin = open(\"output.txt\", \"wt\")\n",
        "# overrite the input file with the resulting data\n",
        "fin.write(datas)\n",
        "# close the file\n",
        "fin.close()"
      ],
      "execution_count": null,
      "outputs": []
    },
    {
      "cell_type": "code",
      "metadata": {
        "colab": {
          "base_uri": "https://localhost:8080/",
          "height": 17
        },
        "id": "WQX55mGii0Ef",
        "outputId": "a49eb51a-84df-4e4e-fb5d-9295d93a5eb7"
      },
      "source": [
        "files.download('output.txt')"
      ],
      "execution_count": null,
      "outputs": [
        {
          "output_type": "display_data",
          "data": {
            "application/javascript": [
              "\n",
              "    async function download(id, filename, size) {\n",
              "      if (!google.colab.kernel.accessAllowed) {\n",
              "        return;\n",
              "      }\n",
              "      const div = document.createElement('div');\n",
              "      const label = document.createElement('label');\n",
              "      label.textContent = `Downloading \"${filename}\": `;\n",
              "      div.appendChild(label);\n",
              "      const progress = document.createElement('progress');\n",
              "      progress.max = size;\n",
              "      div.appendChild(progress);\n",
              "      document.body.appendChild(div);\n",
              "\n",
              "      const buffers = [];\n",
              "      let downloaded = 0;\n",
              "\n",
              "      const channel = await google.colab.kernel.comms.open(id);\n",
              "      // Send a message to notify the kernel that we're ready.\n",
              "      channel.send({})\n",
              "\n",
              "      for await (const message of channel.messages) {\n",
              "        // Send a message to notify the kernel that we're ready.\n",
              "        channel.send({})\n",
              "        if (message.buffers) {\n",
              "          for (const buffer of message.buffers) {\n",
              "            buffers.push(buffer);\n",
              "            downloaded += buffer.byteLength;\n",
              "            progress.value = downloaded;\n",
              "          }\n",
              "        }\n",
              "      }\n",
              "      const blob = new Blob(buffers, {type: 'application/binary'});\n",
              "      const a = document.createElement('a');\n",
              "      a.href = window.URL.createObjectURL(blob);\n",
              "      a.download = filename;\n",
              "      div.appendChild(a);\n",
              "      a.click();\n",
              "      div.remove();\n",
              "    }\n",
              "  "
            ],
            "text/plain": [
              "<IPython.core.display.Javascript object>"
            ]
          },
          "metadata": {
            "tags": []
          }
        },
        {
          "output_type": "display_data",
          "data": {
            "application/javascript": [
              "download(\"download_6bddbd04-205f-4e67-82b9-f0ba805a86af\", \"output.txt\", 5624530)"
            ],
            "text/plain": [
              "<IPython.core.display.Javascript object>"
            ]
          },
          "metadata": {
            "tags": []
          }
        }
      ]
    },
    {
      "cell_type": "code",
      "metadata": {
        "id": "7NtFhj_KvGR2"
      },
      "source": [
        "import csv\n",
        "with open('analysis.csv', 'w', newline='') as file:\n",
        "    writer = csv.writer(file)\n",
        "    writer.writerow([\"S.NO\", \"ENGLISH WORD\", \"FRENCH WORD\",\"Frequency_of_replaced\",\"Time_taken_for_process\",\"Memory_taken_for_process\",'Peek_Memory'])\n",
        "    c=1\n",
        "    for i in dictionary:\n",
        "      writer.writerow([c,i,dictionary[i],count[c-1],times[c-1],memos[c-1]])\n",
        "      c=c+1"
      ],
      "execution_count": null,
      "outputs": []
    },
    {
      "cell_type": "code",
      "metadata": {
        "colab": {
          "base_uri": "https://localhost:8080/",
          "height": 17
        },
        "id": "f_LHHXWlw0oA",
        "outputId": "af775672-4469-4e38-ea22-2026ef495415"
      },
      "source": [
        "files.download('analysis.csv')"
      ],
      "execution_count": null,
      "outputs": [
        {
          "output_type": "display_data",
          "data": {
            "application/javascript": [
              "\n",
              "    async function download(id, filename, size) {\n",
              "      if (!google.colab.kernel.accessAllowed) {\n",
              "        return;\n",
              "      }\n",
              "      const div = document.createElement('div');\n",
              "      const label = document.createElement('label');\n",
              "      label.textContent = `Downloading \"${filename}\": `;\n",
              "      div.appendChild(label);\n",
              "      const progress = document.createElement('progress');\n",
              "      progress.max = size;\n",
              "      div.appendChild(progress);\n",
              "      document.body.appendChild(div);\n",
              "\n",
              "      const buffers = [];\n",
              "      let downloaded = 0;\n",
              "\n",
              "      const channel = await google.colab.kernel.comms.open(id);\n",
              "      // Send a message to notify the kernel that we're ready.\n",
              "      channel.send({})\n",
              "\n",
              "      for await (const message of channel.messages) {\n",
              "        // Send a message to notify the kernel that we're ready.\n",
              "        channel.send({})\n",
              "        if (message.buffers) {\n",
              "          for (const buffer of message.buffers) {\n",
              "            buffers.push(buffer);\n",
              "            downloaded += buffer.byteLength;\n",
              "            progress.value = downloaded;\n",
              "          }\n",
              "        }\n",
              "      }\n",
              "      const blob = new Blob(buffers, {type: 'application/binary'});\n",
              "      const a = document.createElement('a');\n",
              "      a.href = window.URL.createObjectURL(blob);\n",
              "      a.download = filename;\n",
              "      div.appendChild(a);\n",
              "      a.click();\n",
              "      div.remove();\n",
              "    }\n",
              "  "
            ],
            "text/plain": [
              "<IPython.core.display.Javascript object>"
            ]
          },
          "metadata": {
            "tags": []
          }
        },
        {
          "output_type": "display_data",
          "data": {
            "application/javascript": [
              "download(\"download_e677242b-0253-4da9-a7ea-90458773ba18\", \"analysis.csv\", 53857)"
            ],
            "text/plain": [
              "<IPython.core.display.Javascript object>"
            ]
          },
          "metadata": {
            "tags": []
          }
        }
      ]
    }
  ]
}