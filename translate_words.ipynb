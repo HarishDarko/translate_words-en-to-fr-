{
  "nbformat": 4,
  "nbformat_minor": 0,
  "metadata": {
    "colab": {
      "name": "translate_words.ipynb",
      "provenance": []
    },
    "kernelspec": {
      "name": "python3",
      "display_name": "Python 3"
    }
  },
  "cells": [
    {
      "cell_type": "markdown",
      "metadata": {
        "id": "nHEkS2rP2CQg"
      },
      "source": [
        "# **Translate Words Challenge**\n",
        "\n",
        "The task at had is that, given a text file, replace all possible words in English to French using any programming language of choice\n",
        "\n",
        "## What is the input?\n",
        "1.\tA text file that has more than one lakh lines. The file is t8.shakespeare.txt.\n",
        "2.\tA replace words list that has a 1000 words. The words in the list should be replaced with case being maintained. The file is find_words.txt\n",
        "\n",
        "## What needs to be done?\n",
        "1.\tFind an English to French dictionary\n",
        "2.\tRead the text file, replace words and dictionary\n",
        "3.\tFind all words that in the replace words list that has a replacement in the dictionary\n",
        "4.\tReplace the words in the text file\n",
        "5.\tsave the processed file\n",
        "\n",
        "## What is the expected output?\n",
        "1.\tUnique list of words that was replaced with French words from the dictionary\n",
        "2.\tNumber of times a word was replace\n",
        "3.\tFrequency of each word replaced\n",
        "4.\tAccuracy of the replace in terms of all occurences, casing and special characters to be maintained accurately\n",
        "5.\tTime taken to process\n",
        "6.\tMemory taken to process\n"
      ]
    },
    {
      "cell_type": "code",
      "metadata": {
        "colab": {
          "base_uri": "https://localhost:8080/"
        },
        "id": "EbO4_iAFcPOY",
        "outputId": "946742b3-e0a6-48f2-dbd1-14939396d3e4"
      },
      "source": [
        "pip install googletrans"
      ],
      "execution_count": null,
      "outputs": [
        {
          "output_type": "stream",
          "text": [
            "Requirement already satisfied: googletrans in /usr/local/lib/python3.6/dist-packages (3.0.0)\n",
            "Requirement already satisfied: httpx==0.13.3 in /usr/local/lib/python3.6/dist-packages (from googletrans) (0.13.3)\n",
            "Requirement already satisfied: chardet==3.* in /usr/local/lib/python3.6/dist-packages (from httpx==0.13.3->googletrans) (3.0.4)\n",
            "Requirement already satisfied: httpcore==0.9.* in /usr/local/lib/python3.6/dist-packages (from httpx==0.13.3->googletrans) (0.9.1)\n",
            "Requirement already satisfied: idna==2.* in /usr/local/lib/python3.6/dist-packages (from httpx==0.13.3->googletrans) (2.10)\n",
            "Requirement already satisfied: hstspreload in /usr/local/lib/python3.6/dist-packages (from httpx==0.13.3->googletrans) (2020.11.21)\n",
            "Requirement already satisfied: rfc3986<2,>=1.3 in /usr/local/lib/python3.6/dist-packages (from httpx==0.13.3->googletrans) (1.4.0)\n",
            "Requirement already satisfied: certifi in /usr/local/lib/python3.6/dist-packages (from httpx==0.13.3->googletrans) (2020.11.8)\n",
            "Requirement already satisfied: sniffio in /usr/local/lib/python3.6/dist-packages (from httpx==0.13.3->googletrans) (1.2.0)\n",
            "Requirement already satisfied: h11<0.10,>=0.8 in /usr/local/lib/python3.6/dist-packages (from httpcore==0.9.*->httpx==0.13.3->googletrans) (0.9.0)\n",
            "Requirement already satisfied: h2==3.* in /usr/local/lib/python3.6/dist-packages (from httpcore==0.9.*->httpx==0.13.3->googletrans) (3.2.0)\n",
            "Requirement already satisfied: contextvars>=2.1; python_version < \"3.7\" in /usr/local/lib/python3.6/dist-packages (from sniffio->httpx==0.13.3->googletrans) (2.4)\n",
            "Requirement already satisfied: hpack<4,>=3.0 in /usr/local/lib/python3.6/dist-packages (from h2==3.*->httpcore==0.9.*->httpx==0.13.3->googletrans) (3.0.0)\n",
            "Requirement already satisfied: hyperframe<6,>=5.2.0 in /usr/local/lib/python3.6/dist-packages (from h2==3.*->httpcore==0.9.*->httpx==0.13.3->googletrans) (5.2.0)\n",
            "Requirement already satisfied: immutables>=0.9 in /usr/local/lib/python3.6/dist-packages (from contextvars>=2.1; python_version < \"3.7\"->sniffio->httpx==0.13.3->googletrans) (0.14)\n"
          ],
          "name": "stdout"
        }
      ]
    },
    {
      "cell_type": "code",
      "metadata": {
        "colab": {
          "base_uri": "https://localhost:8080/"
        },
        "id": "cerH7VA6d54Q",
        "outputId": "b5202e17-349d-46fe-8e04-7e5bae4a74d9"
      },
      "source": [
        "pip install python-csv"
      ],
      "execution_count": null,
      "outputs": [
        {
          "output_type": "stream",
          "text": [
            "Requirement already satisfied: python-csv in /usr/local/lib/python3.6/dist-packages (0.0.13)\n",
            "Requirement already satisfied: numpy in /usr/local/lib/python3.6/dist-packages (from python-csv) (1.18.5)\n",
            "Requirement already satisfied: xlrd in /usr/local/lib/python3.6/dist-packages (from python-csv) (1.1.0)\n",
            "Requirement already satisfied: demjson in /usr/local/lib/python3.6/dist-packages (from python-csv) (2.2.4)\n",
            "Requirement already satisfied: pandas in /usr/local/lib/python3.6/dist-packages (from python-csv) (1.1.4)\n",
            "Requirement already satisfied: leven in /usr/local/lib/python3.6/dist-packages (from python-csv) (1.0.4)\n",
            "Requirement already satisfied: argparse in /usr/local/lib/python3.6/dist-packages (from python-csv) (1.4.0)\n",
            "Requirement already satisfied: jtutils in /usr/local/lib/python3.6/dist-packages (from python-csv) (0.0.8)\n",
            "Requirement already satisfied: matplotlib in /usr/local/lib/python3.6/dist-packages (from python-csv) (3.2.2)\n",
            "Requirement already satisfied: xmltodict in /usr/local/lib/python3.6/dist-packages (from python-csv) (0.12.0)\n",
            "Requirement already satisfied: python-dateutil>=2.7.3 in /usr/local/lib/python3.6/dist-packages (from pandas->python-csv) (2.8.1)\n",
            "Requirement already satisfied: pytz>=2017.2 in /usr/local/lib/python3.6/dist-packages (from pandas->python-csv) (2018.9)\n",
            "Requirement already satisfied: nose in /usr/local/lib/python3.6/dist-packages (from leven->python-csv) (1.3.7)\n",
            "Requirement already satisfied: six in /usr/local/lib/python3.6/dist-packages (from leven->python-csv) (1.15.0)\n",
            "Requirement already satisfied: selenium in /usr/local/lib/python3.6/dist-packages (from jtutils->python-csv) (3.141.0)\n",
            "Requirement already satisfied: beautifulsoup4 in /usr/local/lib/python3.6/dist-packages (from jtutils->python-csv) (4.6.3)\n",
            "Requirement already satisfied: requests in /usr/local/lib/python3.6/dist-packages (from jtutils->python-csv) (2.23.0)\n",
            "Requirement already satisfied: pyparsing!=2.0.4,!=2.1.2,!=2.1.6,>=2.0.1 in /usr/local/lib/python3.6/dist-packages (from matplotlib->python-csv) (2.4.7)\n",
            "Requirement already satisfied: kiwisolver>=1.0.1 in /usr/local/lib/python3.6/dist-packages (from matplotlib->python-csv) (1.3.1)\n",
            "Requirement already satisfied: cycler>=0.10 in /usr/local/lib/python3.6/dist-packages (from matplotlib->python-csv) (0.10.0)\n",
            "Requirement already satisfied: urllib3 in /usr/local/lib/python3.6/dist-packages (from selenium->jtutils->python-csv) (1.24.3)\n",
            "Requirement already satisfied: certifi>=2017.4.17 in /usr/local/lib/python3.6/dist-packages (from requests->jtutils->python-csv) (2020.11.8)\n",
            "Requirement already satisfied: chardet<4,>=3.0.2 in /usr/local/lib/python3.6/dist-packages (from requests->jtutils->python-csv) (3.0.4)\n",
            "Requirement already satisfied: idna<3,>=2.5 in /usr/local/lib/python3.6/dist-packages (from requests->jtutils->python-csv) (2.10)\n"
          ],
          "name": "stdout"
        }
      ]
    },
    {
      "cell_type": "code",
      "metadata": {
        "id": "QtFMXPsqcYqU"
      },
      "source": [
        "from googletrans import Translator\n",
        "import pandas\n",
        "import re\n",
        "import time\n",
        "import tracemalloc\n",
        "import csv"
      ],
      "execution_count": null,
      "outputs": []
    },
    {
      "cell_type": "code",
      "metadata": {
        "colab": {
          "resources": {
            "http://localhost:8080/nbextensions/google.colab/files.js": {
              "data": "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",
              "ok": true,
              "headers": [
                [
                  "content-type",
                  "application/javascript"
                ]
              ],
              "status": 200,
              "status_text": ""
            }
          },
          "base_uri": "https://localhost:8080/",
          "height": 73
        },
        "id": "lhSUx8W8cnUc",
        "outputId": "96d96924-7ea1-44b3-84fc-b04632269d7b"
      },
      "source": [
        "from google.colab import files\n",
        "uploaded = files.upload()"
      ],
      "execution_count": null,
      "outputs": [
        {
          "output_type": "display_data",
          "data": {
            "text/html": [
              "\n",
              "     <input type=\"file\" id=\"files-6b82fc2b-52eb-4288-94a7-3b3d6f1f16b2\" name=\"files[]\" multiple disabled\n",
              "        style=\"border:none\" />\n",
              "     <output id=\"result-6b82fc2b-52eb-4288-94a7-3b3d6f1f16b2\">\n",
              "      Upload widget is only available when the cell has been executed in the\n",
              "      current browser session. Please rerun this cell to enable.\n",
              "      </output>\n",
              "      <script src=\"/nbextensions/google.colab/files.js\"></script> "
            ],
            "text/plain": [
              "<IPython.core.display.HTML object>"
            ]
          },
          "metadata": {
            "tags": []
          }
        },
        {
          "output_type": "stream",
          "text": [
            "Saving find_words.txt to find_words.txt\n"
          ],
          "name": "stdout"
        }
      ]
    },
    {
      "cell_type": "code",
      "metadata": {
        "colab": {
          "resources": {
            "http://localhost:8080/nbextensions/google.colab/files.js": {
              "data": "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",
              "ok": true,
              "headers": [
                [
                  "content-type",
                  "application/javascript"
                ]
              ],
              "status": 200,
              "status_text": ""
            }
          },
          "base_uri": "https://localhost:8080/",
          "height": 73
        },
        "id": "cC6QwbFncn9d",
        "outputId": "9e2c1383-e5cc-4fc8-d7aa-22e01078bdb8"
      },
      "source": [
        "from google.colab import files\n",
        "uploaded = files.upload()"
      ],
      "execution_count": null,
      "outputs": [
        {
          "output_type": "display_data",
          "data": {
            "text/html": [
              "\n",
              "     <input type=\"file\" id=\"files-72cd898c-82df-4c74-9566-4622dcbbb9cb\" name=\"files[]\" multiple disabled\n",
              "        style=\"border:none\" />\n",
              "     <output id=\"result-72cd898c-82df-4c74-9566-4622dcbbb9cb\">\n",
              "      Upload widget is only available when the cell has been executed in the\n",
              "      current browser session. Please rerun this cell to enable.\n",
              "      </output>\n",
              "      <script src=\"/nbextensions/google.colab/files.js\"></script> "
            ],
            "text/plain": [
              "<IPython.core.display.HTML object>"
            ]
          },
          "metadata": {
            "tags": []
          }
        },
        {
          "output_type": "stream",
          "text": [
            "Saving t8.shakespeare.txt to t8.shakespeare.txt\n"
          ],
          "name": "stdout"
        }
      ]
    },
    {
      "cell_type": "code",
      "metadata": {
        "colab": {
          "resources": {
            "http://localhost:8080/nbextensions/google.colab/files.js": {
              "data": "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",
              "ok": true,
              "headers": [
                [
                  "content-type",
                  "application/javascript"
                ]
              ],
              "status": 200,
              "status_text": ""
            }
          },
          "base_uri": "https://localhost:8080/",
          "height": 73
        },
        "id": "D2vJzyY7eNOu",
        "outputId": "22aa4771-e8b0-45b4-c209-7ed2cb4d5abb"
      },
      "source": [
        "from google.colab import files\n",
        "uploaded = files.upload()"
      ],
      "execution_count": null,
      "outputs": [
        {
          "output_type": "display_data",
          "data": {
            "text/html": [
              "\n",
              "     <input type=\"file\" id=\"files-d72bf185-3154-4030-8a7a-c144d46d201f\" name=\"files[]\" multiple disabled\n",
              "        style=\"border:none\" />\n",
              "     <output id=\"result-d72bf185-3154-4030-8a7a-c144d46d201f\">\n",
              "      Upload widget is only available when the cell has been executed in the\n",
              "      current browser session. Please rerun this cell to enable.\n",
              "      </output>\n",
              "      <script src=\"/nbextensions/google.colab/files.js\"></script> "
            ],
            "text/plain": [
              "<IPython.core.display.HTML object>"
            ]
          },
          "metadata": {
            "tags": []
          }
        },
        {
          "output_type": "stream",
          "text": [
            "Saving innovators.csv to innovators.csv\n"
          ],
          "name": "stdout"
        }
      ]
    },
    {
      "cell_type": "code",
      "metadata": {
        "id": "O2TSUmrKcgCd"
      },
      "source": [
        "class French_Dictionary:\n",
        "    dictionary = dict()\n",
        "    td = dict()\n",
        "    # to get french words\n",
        "    def getDictionary(self, lis):\n",
        "        \"\"\"\n",
        "        input:Get a list of english word\n",
        "        process:convert the english word to french\n",
        "        Return:Dictionary with english word as key and french word as value\n",
        "        \"\"\"\n",
        "        translator = Translator()\n",
        "        translated = translator.translate(lis, src='en', dest='fr')\n",
        "        for trans in translated:\n",
        "            print(f'{trans.origin} -> {trans.text}')\n",
        "            self.dictionary[trans.origin] = trans.text\n",
        "        return self.dictionary"
      ],
      "execution_count": null,
      "outputs": []
    },
    {
      "cell_type": "code",
      "metadata": {
        "colab": {
          "base_uri": "https://localhost:8080/"
        },
        "id": "bAjq1Trxc8SF",
        "outputId": "7ba230c6-c3ca-49f6-adb1-1c346df16ba1"
      },
      "source": [
        "#Opening text file\n",
        "f = open(\"find_words.txt\", \"r\")\n",
        "keyword = list()\n",
        "a = f.readlines()\n",
        "\n",
        "#collecting the english words\n",
        "for i in a:\n",
        "    i = i.replace('\\n', '')\n",
        "    keyword.append(i)\n",
        "print(keyword)"
      ],
      "execution_count": null,
      "outputs": [
        {
          "output_type": "stream",
          "text": [
            "['abide', 'about', 'above', 'abroad', 'absence', 'abuse', 'according', 'account', 'accuse', 'acquainted', 'action', 'advantage', 'advice', 'affairs', 'affection', 'affections', 'afraid', 'after', 'afterwards', 'again', 'alive', 'almost', 'alone', 'along', 'already', 'although', 'always', 'ambition', 'ancient', 'angel', 'anger', 'another', 'answer', 'anything', 'apparel', 'appear', 'appears', 'approach', 'argument', 'ariel', 'armour', 'aside', 'asleep', 'assure', 'athens', 'attend', 'attended', 'authority', 'avoid', 'awake', 'awhile', 'banish', 'barren', 'bassianus', 'bastard', 'battle', 'beard', 'bearing', 'bears', 'beast', 'beaten', 'beauty', 'because', 'become', 'bedford', 'before', 'beggar', 'begin', 'behalf', 'behind', 'behold', 'being', 'believe', 'belike', 'below', 'benefit', 'besides', 'betray', 'better', 'between', 'beyond', 'birth', 'bishop', 'bitter', 'black', 'blame', 'bless', 'blessing', 'blest', 'blind', 'blood', 'blows', 'blunt', 'blush', 'bodies', 'bones', 'borne', 'bottom', 'bought', 'bound', 'bounty', 'brain', 'brains', 'brave', 'breast', 'breath', 'breed', 'brief', 'bright', 'bring', 'broke', 'brook', 'brother', 'brought', 'brows', 'burden', 'buried', 'burning', 'business', 'cannot', 'capitol', 'captain', 'cardinal', 'cares', 'carry', 'castle', 'catch', 'cause', 'cease', 'certain', 'chain', 'chair', 'challenge', 'chamber', 'chance', 'change', 'charge', 'charity', 'chaste', 'cheek', 'cheer', 'chide', 'chief', 'child', 'choice', 'church', 'cinna', 'citizen', 'civil', 'claim', 'clarence', 'claud', 'claudio', 'clear', 'clifford', 'close', 'cloten', 'clothes', 'clouds', 'clown', 'college', 'colour', 'comes', 'comfort', 'coming', 'cominius', 'command', 'commanded', 'commend', 'commercial', 'commission', 'commit', 'common', 'companion', 'company', 'complete', 'complexion', 'condition', 'conduct', 'confess', 'conscience', 'consent', 'consider', 'constable', 'constant', 'contempt', 'content', 'contrary', 'copies', 'copyright', 'could', 'council', 'counsel', 'count', 'counterfeit', 'countess', 'country', 'courage', 'course', 'court', 'courtesy', 'cousin', 'coward', 'crave', 'creature', 'credit', 'cromwell', 'cross', 'crown', 'cruel', 'cunning', 'cupid', 'curse', 'custom', 'dagger', 'damned', 'dance', 'danger', 'darkness', 'daughter', 'deadly', 'dearest', 'dearly', 'death', 'deeds', 'defend', 'degree', 'delight', 'deliver', 'demand', 'denied', 'depart', 'desert', 'deserve', 'desire', 'despair', 'desperate', 'despite', 'device', 'devil', 'devise', 'didst', 'dinner', 'discourse', 'discover', 'disgrace', 'dishonour', 'dispatch', 'displeasure', 'disposition', 'distributed', 'divine', 'doctor', 'doing', 'dolabella', 'doors', 'double', 'doubt', 'download', 'dramatis', 'drawn', 'dread', 'dreadful', 'dream', 'dreams', 'drink', 'drops', 'drown', 'drums', 'drunk', 'duncan', 'durst', 'dwell', 'dying', 'early', 'earth', 'edmund', 'effect', 'egypt', 'either', 'elbow', 'elder', 'embrace', 'emilia', 'emperor', 'empty', 'encounter', 'endure', 'enemies', 'enemy', 'enjoy', 'enobarbus', 'enough', 'enter', 'entertain', 'entertainment', 'entreat', 'equal', 'estate', 'eternal', 'every', 'everything', 'excellent', 'except', 'excuse', 'execution', 'exeter', 'exeunt', 'express', 'faces', 'faint', 'fairy', 'faith', 'falls', 'false', 'familiar', 'fancy', 'farewell', 'farther', 'fashion', 'fatal', 'father', 'fault', 'favour', 'fearful', 'fears', 'feast', 'feeble', 'fellow', 'fenton', 'ferdinand', 'fetch', 'field', 'fiend', 'fierce', 'fiery', 'fight', 'figure', 'finds', 'finger', 'first', 'flatter', 'flesh', 'flies', 'flight', 'flood', 'flourish', 'flower', 'flowers', 'follow', 'folly', 'foolish', 'fools', 'forbear', 'forbid', 'force', 'forces', 'forest', 'forget', 'former', 'forsooth', 'forth', 'fortune', 'forward', 'fought', 'found', 'fourth', 'frame', 'france', 'freely', 'french', 'fresh', 'friend', 'frown', 'fruit', 'further', 'gallant', 'garden', 'gates', 'gaunt', 'general', 'gentle', 'ghost', 'given', 'giving', 'glass', 'glorious', 'glory', 'going', 'golden', 'goodness', 'gower', 'grace', 'grant', 'grave', 'great', 'green', 'greet', 'grief', 'grieve', 'gross', 'ground', 'grown', 'guard', 'guess', 'guilty', 'habit', 'hands', 'hanging', 'hangs', 'happiness', 'happy', 'haste', 'hateful', 'having', 'hazard', 'heads', 'health', 'heard', 'heart', 'heaven', 'heavy', 'hector', 'heels', 'hence', 'henceforth', 'hereafter', 'herself', 'highness', 'holds', 'hollow', 'honest', 'horse', 'hostess', 'hours', 'house', 'hubert', 'humble', 'humour', 'hundred', 'husband', 'ignorant', 'image', 'includes', 'indeed', 'infinite', 'innocent', 'instant', 'intend', 'intent', 'issue', 'itself', 'jealous', 'jewel', 'judge', 'judgment', 'julia', 'justice', 'keeps', 'kindness', 'kingdom', 'kings', 'knave', 'kneel', 'knees', 'knife', 'knight', 'knock', 'knowing', 'knowledge', 'known', 'knows', 'labour', 'ladies', 'ladyship', 'lands', 'large', 'laugh', 'launce', 'lawful', 'learn', 'learned', 'least', 'leave', 'leisure', 'leontes', 'letter', 'liberty', 'library', 'liege', 'lieutenant', 'light', 'limbs', 'little', 'lives', 'living', 'longer', 'looks', 'loose', 'lords', 'lordship', 'lorenzo', 'lovely', 'lovers', 'loves', 'loving', 'lucentio', 'machine', 'madness', 'maiden', 'maids', 'maintain', 'majesty', 'makes', 'making', 'malice', 'manner', 'march', 'marcius', 'marcus', 'margaret', 'maria', 'mariana', 'marriage', 'marry', 'master', 'match', 'matter', 'meaning', 'means', 'meant', 'measure', 'meeting', 'membership', 'memory', 'merchant', 'mercy', 'merit', 'merry', 'messenger', 'midnight', 'might', 'mighty', 'milan', 'minds', 'minister', 'miranda', 'mirth', 'mischief', 'misery', 'mistake', 'mistress', 'modest', 'money', 'monster', 'month', 'morning', 'morrow', 'mortal', 'mother', 'motion', 'mouth', 'mowbray', 'murder', 'murther', 'music', 'myself', 'naked', 'names', 'native', 'natural', 'nature', 'needs', 'neighbour', 'neither', 'never', 'niece', 'night', 'noble', 'noise', 'nothing', 'nought', 'number', 'nurse', 'oaths', 'obedience', 'oberon', 'object', 'occasion', 'offence', 'offend', 'offer', 'office', 'often', 'oliver', 'opinion', 'order', 'orlando', 'other', 'others', 'ourselves', 'outward', 'oxford', 'padua', 'pains', 'painted', 'painter', 'palace', 'pandarus', 'paper', 'pardon', 'paris', 'parolles', 'parted', 'particular', 'partly', 'parts', 'party', 'passage', 'passion', 'patience', 'patient', 'paulina', 'peace', 'pedro', 'people', 'perceive', 'percy', 'perfect', 'perhaps', 'peril', 'permission', 'person', 'personal', 'phebe', 'philip', 'picture', 'piece', 'pistol', 'place', 'plague', 'plain', 'plead', 'please', 'pleasure', 'pluck', 'poins', 'point', 'poison', 'policy', 'polixenes', 'pompey', 'porter', 'possible', 'posthumus', 'pound', 'power', 'practice', 'praise', 'prayers', 'precious', 'prepare', 'presence', 'present', 'pretty', 'pride', 'priest', 'prince', 'prison', 'private', 'prize', 'proceed', 'proclaim', 'profit', 'prohibited', 'project', 'prologue', 'promise', 'proof', 'proper', 'protector', 'protest', 'proud', 'prove', 'provided', 'public', 'purpose', 'purse', 'quality', 'quarrel', 'queen', 'question', 'quick', 'quiet', 'quite', 'quoth', 'raise', 'ransom', 'rascal', 'rather', 'readable', 'ready', 'realm', 'reason', 'receive', 'regard', 'reign', 'reignier', 'remain', 'remedy', 'remember', 'render', 'repair', 'repent', 'report', 'reputation', 'request', 'respect', 'return', 'revenge', 'reverence', 'revolt', 'right', 'rivers', 'rogue', 'rotten', 'rough', 'round', 'royal', 'sacred', 'safety', 'saint', 'salerio', 'satisfied', 'saying', 'scarce', 'scene', 'scorn', 'search', 'season', 'second', 'secret', 'seeing', 'senate', 'senator', 'sense', 'sentence', 'servant', 'serve', 'service', 'seven', 'several', 'shadow', 'shake', 'shall', 'shame', 'shape', 'sharp', 'shepherd', 'shine', 'shore', 'short', 'shortly', 'should', 'shows', 'sickness', 'sight', 'silence', 'silver', 'simple', 'since', 'single', 'sirrah', 'sister', 'skill', 'slain', 'slander', 'slave', 'sleep', 'slender', 'small', 'smell', 'smile', 'soldier', 'solemn', 'somerset', 'something', 'sometime', 'sooner', 'soothsayer', 'sorrow', 'sorry', 'sought', 'souls', 'sound', 'sovereign', 'spare', 'speak', 'speaks', 'special', 'speech', 'speed', 'spend', 'spirit', 'spite', 'spoke', 'sport', 'spring', 'staff', 'stain', 'stand', 'stars', 'state', 'steal', 'steel', 'steward', 'still', 'stomach', 'stone', 'stood', 'store', 'storm', 'story', 'straight', 'strange', 'street', 'strength', 'strike', 'stroke', 'strong', 'struck', 'study', 'stuff', 'subject', 'substance', 'success', 'sudden', 'suddenly', 'suffer', 'suffolk', 'summer', 'supper', 'surely', 'surrey', 'suspect', 'swear', 'sweat', 'sweet', 'swift', 'sword', 'swore', 'sworn', 'syracuse', 'table', 'tailor', 'taken', 'talbot', 'tarry', 'taste', 'taught', 'teach', 'tears', 'tedious', 'teeth', 'tells', 'tempest', 'tender', 'terms', 'thank', 'their', 'themselves', 'there', 'therefore', 'therein', 'these', 'thief', 'thing', 'think', 'third', 'thomas', 'those', 'though', 'thought', 'thrive', 'throat', 'throne', 'through', 'throw', 'thrust', 'thunder', 'times', 'title', 'together', 'tongue', 'tonight', 'touch', 'toward', 'tower', 'train', 'traitor', 'tread', 'treason', 'treasure', 'trial', 'tribunes', 'trick', 'triumph', 'trouble', 'truly', 'trumpet', 'trust', 'truth', 'turns', 'twice', 'tyrant', 'ulysses', 'uncle', 'under', 'understand', 'undertake', 'undone', 'unhappy', 'unknown', 'unless', 'until', 'unworthy', 'utter', 'valentine', 'valiant', 'valour', 'vantage', 'vengeance', 'venice', 'version', 'victory', 'villain', 'viola', 'violent', 'virtue', 'visit', 'voice', 'walls', 'warlike', 'warrant', 'waste', 'watch', 'water', 'wealth', 'weapons', 'weary', 'weeds', 'weeping', 'weight', 'welcome', 'wench', 'whence', 'where', 'wherein', 'whether', 'which', 'while', 'whither', 'whole', 'whore', 'whose', 'widow', 'willing', 'window', 'wings', 'winter', 'wisdom', 'witch', 'withal', 'within', 'without', 'witness', 'wives', 'wolsey', 'woman', 'wonder', 'works', 'world', 'worse', 'worship', 'worth', 'would', 'wound', 'wounded', 'wrath', 'wretch', 'write', 'written', 'wrong', 'wrought', 'yield', 'yonder', 'young', 'yours', 'yourself', 'youth']\n"
          ],
          "name": "stdout"
        }
      ]
    },
    {
      "cell_type": "markdown",
      "metadata": {
        "id": "crHK4WL-3png"
      },
      "source": [
        ""
      ]
    },
    {
      "cell_type": "code",
      "metadata": {
        "id": "lzKMOZvCdUrD"
      },
      "source": [
        "# fdict =French_Dictionary()\n",
        "# dictionary = fdict.getDictionary(keyword)\n",
        "# print(dictionary)"
      ],
      "execution_count": null,
      "outputs": []
    },
    {
      "cell_type": "code",
      "metadata": {
        "id": "3GAEcYwkdjFQ",
        "colab": {
          "base_uri": "https://localhost:8080/"
        },
        "outputId": "36f0faa6-cf5d-43ed-b4b3-4527762ded44"
      },
      "source": [
        "df = pandas.read_csv(\"innovators.csv\")\n",
        "print(df)"
      ],
      "execution_count": null,
      "outputs": [
        {
          "output_type": "stream",
          "text": [
            "       SN       ENG        FRENCH\n",
            "0       1     abide     respecter\n",
            "1       2     about           sur\n",
            "2       3     above     au dessus\n",
            "3       4    abroad  à l'étranger\n",
            "4       5   absence       absence\n",
            "..    ...       ...           ...\n",
            "995   996    yonder        là-bas\n",
            "996   997     young         Jeune\n",
            "997   998     yours      le tiens\n",
            "998   999  yourself      toi même\n",
            "999  1000     youth      jeunesse\n",
            "\n",
            "[1000 rows x 3 columns]\n"
          ],
          "name": "stdout"
        }
      ]
    },
    {
      "cell_type": "code",
      "metadata": {
        "colab": {
          "base_uri": "https://localhost:8080/"
        },
        "id": "RlmWNXecfd7v",
        "outputId": "45291a2b-ade4-461c-d7bb-70e4fb23b6c4"
      },
      "source": [
        "# Collecting the english and french words\n",
        "dictionary=dict()\n",
        "x=list(df['ENG'])\n",
        "y=list(df['FRENCH'])\n",
        "\n",
        "# creating a dictionary\n",
        "for i in range(0,len(y)):\n",
        "  dictionary[x[i]]=y[i]\n",
        "print(dictionary)"
      ],
      "execution_count": null,
      "outputs": [
        {
          "output_type": "stream",
          "text": [
            "{'abide': 'respecter', 'about': 'sur', 'above': 'au dessus', 'abroad': \"à l'étranger\", 'absence': 'absence', 'abuse': 'abuser de', 'according': 'selon', 'account': 'Compte', 'accuse': 'accuser', 'acquainted': 'connaissance', 'action': 'action', 'advantage': 'avantage', 'advice': 'Conseil', 'affairs': 'affaires', 'affection': 'affection', 'affections': 'affections', 'afraid': 'peur', 'after': 'après', 'afterwards': 'ensuite', 'again': 'encore', 'alive': 'vivant', 'almost': 'presque', 'alone': 'seul', 'along': 'le long de', 'already': 'déjà', 'although': 'bien que', 'always': 'toujours', 'ambition': 'ambition', 'ancient': 'ancien', 'angel': 'ange', 'anger': 'colère', 'another': 'un autre', 'answer': 'répondre', 'anything': \"n'importe quoi\", 'apparel': 'vêtements', 'appear': 'apparaître', 'appears': 'apparaît', 'approach': 'approche', 'argument': 'argument', 'ariel': 'Ariel', 'armour': 'armure', 'aside': 'de côté', 'asleep': 'endormi', 'assure': 'assurer', 'athens': 'Athènes', 'attend': 'assister', 'attended': 'assisté', 'authority': 'autorité', 'avoid': 'éviter', 'awake': 'éveillé', 'awhile': 'quelque temps', 'banish': 'bannir', 'barren': 'Dénudé', 'bassianus': 'bassianus', 'bastard': 'Connard', 'battle': 'bataille', 'beard': 'barbe', 'bearing': 'palier', 'bears': 'ours', 'beast': 'la bête', 'beaten': 'battu', 'beauty': 'beauté', 'because': 'car', 'become': 'devenir', 'bedford': 'Bedford', 'before': 'avant', 'beggar': 'mendiant', 'begin': 'commencer', 'behalf': 'nom', 'behind': 'derrière', 'behold': 'voir', 'being': 'étant', 'believe': 'croyez', 'belike': 'être comme', 'below': 'au dessous de', 'benefit': 'avantage', 'besides': 'outre', 'betray': 'trahir', 'better': 'mieux', 'between': 'entre', 'beyond': 'au-delà', 'birth': 'naissance', 'bishop': 'évêque', 'bitter': 'amer', 'black': 'noir', 'blame': 'faire des reproches', 'bless': 'bénir', 'blessing': 'bénédiction', 'blest': 'heureux', 'blind': 'aveugle', 'blood': 'du sang', 'blows': 'coups', 'blunt': 'cru', 'blush': 'rougir', 'bodies': 'corps', 'bones': 'des os', 'borne': 'supporté', 'bottom': 'bas', 'bought': 'acheté', 'bound': 'lié', 'bounty': 'prime', 'brain': 'cerveau', 'brains': 'cerveaux', 'brave': 'courageux', 'breast': 'Sein', 'breath': 'souffle', 'breed': 'race', 'brief': 'bref', 'bright': 'brillant', 'bring': 'apporter', 'broke': 'cassé', 'brook': 'ruisseau', 'brother': 'frère', 'brought': 'apporté', 'brows': 'sourcils', 'burden': 'fardeau', 'buried': 'enterré', 'burning': 'brûlant', 'business': 'Entreprise', 'cannot': 'ne peux pas', 'capitol': 'Capitole', 'captain': 'capitaine', 'cardinal': 'cardinal', 'cares': 'se soucie', 'carry': 'porter', 'castle': 'Château', 'catch': 'capture', 'cause': 'cause', 'cease': 'cesser', 'certain': 'certain', 'chain': 'chaîne', 'chair': 'chaise', 'challenge': 'défi', 'chamber': 'chambre', 'chance': 'chance', 'change': 'changement', 'charge': 'charge', 'charity': 'charité', 'chaste': 'chaste', 'cheek': 'joue', 'cheer': 'acclamation', 'chide': 'gronder', 'chief': 'chef', 'child': 'enfant', 'choice': 'choix', 'church': 'église', 'cinna': 'cinna', 'citizen': 'citoyenne', 'civil': 'civil', 'claim': 'prétendre', 'clarence': 'clarté', 'claud': 'claud', 'claudio': 'Claudio', 'clear': 'clair', 'clifford': 'Clifford', 'close': 'proche', 'cloten': 'cailloter', 'clothes': 'vêtements', 'clouds': 'des nuages', 'clown': 'pitre', 'college': 'Université', 'colour': 'Couleur', 'comes': 'vient', 'comfort': 'confort', 'coming': 'venir', 'cominius': 'cominius', 'command': 'commander', 'commanded': 'commandé', 'commend': 'saluer', 'commercial': 'commercial', 'commission': 'commission', 'commit': 'commettre', 'common': 'commun', 'companion': 'un compagnon', 'company': 'entreprise', 'complete': 'Achevée', 'complexion': 'complexion', 'condition': 'état', 'conduct': 'conduite', 'confess': 'avouer', 'conscience': 'conscience', 'consent': 'consentement', 'consider': 'considérer', 'constable': 'gendarme', 'constant': 'constant', 'contempt': 'mépris', 'content': 'contenu', 'contrary': 'contraire', 'copies': 'copies', 'copyright': \"droits d'auteur\", 'could': 'pourrait', 'council': 'conseil', 'counsel': 'Conseil', 'count': 'compter', 'counterfeit': 'contrefaire', 'countess': 'comtesse', 'country': 'pays', 'courage': 'courage', 'course': 'cours', 'court': 'tribunal', 'courtesy': 'courtoisie', 'cousin': 'cousin', 'coward': 'lâche', 'crave': 'demander', 'creature': 'créature', 'credit': 'crédit', 'cromwell': 'Cromwell', 'cross': 'traverser', 'crown': 'couronne', 'cruel': 'cruel', 'cunning': 'ruse', 'cupid': 'Cupidon', 'curse': 'malédiction', 'custom': 'Douane', 'dagger': 'dague', 'damned': 'damné', 'dance': 'Danse', 'danger': 'danger', 'darkness': 'obscurité', 'daughter': 'fille', 'deadly': 'mortel', 'dearest': 'très cher', 'dearly': 'chèrement', 'death': 'décès', 'deeds': 'actes', 'defend': 'défendre', 'degree': 'diplôme', 'delight': 'délice', 'deliver': 'livrer', 'demand': 'demande', 'denied': 'refusé', 'depart': 'partir', 'desert': 'désert', 'deserve': 'mériter', 'desire': 'le désir', 'despair': 'désespoir', 'desperate': 'désespéré', 'despite': 'malgré', 'device': 'dispositif', 'devil': 'diable', 'devise': 'concevoir', 'didst': 'didst', 'dinner': 'dîner', 'discourse': 'discours', 'discover': 'découvrir', 'disgrace': 'disgrâce', 'dishonour': 'déshonorer', 'dispatch': 'envoi', 'displeasure': 'mécontentement', 'disposition': 'disposition', 'distributed': 'distribué', 'divine': 'Divin', 'doctor': 'docteur', 'doing': 'Faire', 'dolabella': 'Dolabella', 'doors': 'des portes', 'double': 'double', 'doubt': 'doute', 'download': 'Télécharger', 'dramatis': 'dramatis', 'drawn': 'tiré', 'dread': 'crainte', 'dreadful': 'horrible', 'dream': 'rêver', 'dreams': 'rêves', 'drink': 'boisson', 'drops': 'gouttes', 'drown': 'noyer', 'drums': 'tambours', 'drunk': 'ivre', 'duncan': 'Duncan', 'durst': 'durst', 'dwell': 'habiter', 'dying': 'en train de mourir', 'early': 'de bonne heure', 'earth': 'Terre', 'edmund': 'Edmund', 'effect': 'effet', 'egypt': 'Egypte', 'either': 'Soit', 'elbow': 'coude', 'elder': 'aîné', 'embrace': 'embrasse', 'emilia': 'Émilie', 'emperor': 'empereur', 'empty': 'vide', 'encounter': 'rencontre', 'endure': 'supporter', 'enemies': 'ennemis', 'enemy': 'ennemi', 'enjoy': 'prendre plaisir', 'enobarbus': 'énobarbus', 'enough': 'assez', 'enter': 'entrer', 'entertain': 'divertir', 'entertainment': 'divertissement', 'entreat': 'supplier', 'equal': 'égal', 'estate': 'biens', 'eternal': 'éternel', 'every': 'chaque', 'everything': 'tout', 'excellent': 'excellent', 'except': 'sauf', 'excuse': 'excuse', 'execution': 'exécution', 'exeter': 'Exeter', 'exeunt': 'sortir', 'express': 'Express', 'faces': 'visages', 'faint': 'perdre connaissance', 'fairy': 'Fée', 'faith': 'Foi', 'falls': 'des chutes', 'false': 'faux', 'familiar': 'familier', 'fancy': 'fantaisie', 'farewell': 'adieu', 'farther': 'plus loin', 'fashion': 'mode', 'fatal': 'fatal', 'father': 'père', 'fault': 'faute', 'favour': 'favoriser', 'fearful': 'craintif', 'fears': 'peurs', 'feast': 'le banquet', 'feeble': 'faible', 'fellow': 'compagnon', 'fenton': 'Fenton', 'ferdinand': 'Ferdinand', 'fetch': 'chercher', 'field': 'champ', 'fiend': 'démon', 'fierce': 'féroce', 'fiery': 'ardent', 'fight': 'bats toi', 'figure': 'figure', 'finds': 'trouve', 'finger': 'doigt', 'first': 'première', 'flatter': 'flatter', 'flesh': 'la chair', 'flies': 'mouches', 'flight': 'vol', 'flood': 'inonder', 'flourish': 'fleurir', 'flower': 'fleur', 'flowers': 'fleurs', 'follow': 'suivre', 'folly': 'folie', 'foolish': 'insensé', 'fools': 'imbéciles', 'forbear': 'ancêtre', 'forbid': 'interdire', 'force': 'Obliger', 'forces': 'les forces', 'forest': 'forêt', 'forget': 'oublier', 'former': 'ancien', 'forsooth': 'en vérité', 'forth': 'en avant', 'fortune': 'fortune', 'forward': \"vers l'avant\", 'fought': 'combattu', 'found': 'a trouvé', 'fourth': 'Quatrième', 'frame': 'Cadre', 'france': 'France', 'freely': 'librement', 'french': 'français', 'fresh': 'Frais', 'friend': 'ami', 'frown': 'froncer les sourcils', 'fruit': 'fruit', 'further': 'plus loin', 'gallant': 'galant', 'garden': 'jardin', 'gates': 'portes', 'gaunt': 'décharné', 'general': 'général', 'gentle': 'doux', 'ghost': 'fantôme', 'given': 'donné', 'giving': 'donnant', 'glass': 'verre', 'glorious': 'glorieux', 'glory': 'gloire', 'going': 'Aller', 'golden': \"d'or\", 'goodness': 'la bonté', 'gower': 'gower', 'grace': 'la grâce', 'grant': 'subvention', 'grave': 'la tombe', 'great': 'génial', 'green': 'vert', 'greet': 'saluer', 'grief': 'douleur', 'grieve': 'pleurer', 'gross': 'brut', 'ground': 'sol', 'grown': 'grandi', 'guard': 'garde', 'guess': 'devine', 'guilty': 'coupable', 'habit': 'habitude', 'hands': 'mains', 'hanging': 'pendaison', 'hangs': 'bloque', 'happiness': 'bonheur', 'happy': 'heureux', 'haste': 'hâte', 'hateful': 'odieux', 'having': 'ayant', 'hazard': 'danger', 'heads': 'têtes', 'health': 'santé', 'heard': 'entendu', 'heart': 'cœur', 'heaven': 'paradis', 'heavy': 'lourd', 'hector': 'Hector', 'heels': 'talons', 'hence': 'Par conséquent', 'henceforth': 'désormais', 'hereafter': 'ci-après, par la suite', 'herself': 'se', 'highness': 'altesse', 'holds': 'tient', 'hollow': 'creux', 'honest': 'honnête', 'horse': 'cheval', 'hostess': 'hôtesse', 'hours': 'heures', 'house': 'maison', 'hubert': 'Hubert', 'humble': 'humble', 'humour': 'humour', 'hundred': 'cent', 'husband': 'mari', 'ignorant': 'ignorant', 'image': 'image', 'includes': 'comprend', 'indeed': 'En effet', 'infinite': 'infini', 'innocent': 'innocent', 'instant': 'instant', 'intend': \"avoir l'intention\", 'intent': 'intention', 'issue': 'problème', 'itself': 'lui-même', 'jealous': 'jaloux', 'jewel': 'bijou', 'judge': 'juge', 'judgment': 'jugement', 'julia': 'Julia', 'justice': 'Justice', 'keeps': 'garde', 'kindness': 'la gentillesse', 'kingdom': 'Royaume', 'kings': 'rois', 'knave': 'fripon', 'kneel': \"s'agenouiller\", 'knees': 'les genoux', 'knife': 'couteau', 'knight': 'Chevalier', 'knock': 'frappe', 'knowing': 'connaissance', 'knowledge': 'connaissance', 'known': 'connu', 'knows': 'sait', 'labour': \"la main d'oeuvre\", 'ladies': 'Dames', 'ladyship': 'Madame', 'lands': 'terres', 'large': 'grand', 'laugh': 'rire', 'launce': 'lancer', 'lawful': 'légitime', 'learn': 'apprendre', 'learned': 'appris', 'least': 'moins', 'leave': 'laisser', 'leisure': 'loisir', 'leontes': 'leontes', 'letter': 'lettre', 'liberty': 'liberté', 'library': 'bibliothèque', 'liege': 'Liege', 'lieutenant': 'lieutenant', 'light': 'lumière', 'limbs': 'membres', 'little': 'peu', 'lives': 'vies', 'living': 'vivant', 'longer': 'plus long', 'looks': 'regards', 'loose': 'ample', 'lords': 'seigneurs', 'lordship': 'seigneurie', 'lorenzo': 'Lorenzo', 'lovely': 'charmant', 'lovers': 'les amoureux', 'loves': 'aime', 'loving': 'aimant', 'lucentio': 'Lucentio', 'machine': 'machine', 'madness': 'la démence', 'maiden': 'jeune fille', 'maids': 'servantes', 'maintain': 'maintenir', 'majesty': 'majesté', 'makes': 'fait du', 'making': 'fabrication', 'malice': 'malice', 'manner': 'manière', 'march': 'Mars', 'marcius': 'Marcius', 'marcus': 'Marcus', 'margaret': 'margaret', 'maria': 'maria', 'mariana': 'Mariana', 'marriage': 'mariage', 'marry': 'marier', 'master': 'Maître', 'match': 'rencontre', 'matter': 'matière', 'meaning': 'sens', 'means': 'veux dire', 'meant': 'signifiait', 'measure': 'mesure', 'meeting': 'réunion', 'membership': 'adhésion', 'memory': 'Mémoire', 'merchant': 'marchande', 'mercy': 'pitié', 'merit': 'mérite', 'merry': 'joyeux', 'messenger': 'Messager', 'midnight': 'minuit', 'might': 'pourrait', 'mighty': 'puissant', 'milan': 'Milan', 'minds': 'esprits', 'minister': 'ministre', 'miranda': 'Miranda', 'mirth': 'gaieté', 'mischief': 'sottises', 'misery': 'misère', 'mistake': 'erreur', 'mistress': 'maîtresse', 'modest': 'modeste', 'money': 'argent', 'monster': 'monstre', 'month': 'mois', 'morning': 'Matin', 'morrow': 'demain', 'mortal': 'mortel', 'mother': 'mère', 'motion': 'mouvement', 'mouth': 'bouche', 'mowbray': 'mowbray', 'murder': 'meurtre', 'murther': 'aller plus loin', 'music': 'la musique', 'myself': 'moi même', 'naked': 'nu', 'names': 'des noms', 'native': 'originaire de', 'natural': 'Naturel', 'nature': 'la nature', 'needs': 'Besoins', 'neighbour': 'voisine', 'neither': 'ni', 'never': 'jamais', 'niece': 'nièce', 'night': 'nuit', 'noble': 'noble', 'noise': 'bruit', 'nothing': 'rien', 'nought': 'néant', 'number': 'nombre', 'nurse': 'infirmière', 'oaths': 'serments', 'obedience': 'obéissance', 'oberon': 'Oberon', 'object': 'objet', 'occasion': 'occasion', 'offence': 'infraction', 'offend': 'offenser', 'offer': 'offre', 'office': 'Bureau', 'often': 'souvent', 'oliver': 'oliver', 'opinion': 'opinion', 'order': 'ordre', 'orlando': 'orlando', 'other': 'autre', 'others': 'autres', 'ourselves': 'nous-mêmes', 'outward': \"vers l'extérieur\", 'oxford': 'Oxford', 'padua': 'Padoue', 'pains': 'des douleurs', 'painted': 'peint', 'painter': 'peintre', 'palace': 'palais', 'pandarus': 'Pandarus', 'paper': 'papier', 'pardon': 'pardon', 'paris': 'Paris', 'parolles': 'parolles', 'parted': 'séparé', 'particular': 'particulier', 'partly': 'partiellement', 'parts': 'les pièces', 'party': 'fête', 'passage': 'passage', 'passion': 'la passion', 'patience': 'la patience', 'patient': 'patient', 'paulina': 'paulina', 'peace': 'paix', 'pedro': 'pedro', 'people': 'gens', 'perceive': 'apercevoir', 'percy': 'Percy', 'perfect': 'parfait', 'perhaps': 'peut-être', 'peril': 'péril', 'permission': 'autorisation', 'person': 'la personne', 'personal': 'personnel', 'phebe': 'phebe', 'philip': 'Philippe', 'picture': 'image', 'piece': 'pièce', 'pistol': 'pistolet', 'place': 'endroit', 'plague': 'peste', 'plain': 'plaine', 'plead': 'plaider', 'please': \"S'il vous plaît\", 'pleasure': 'plaisir', 'pluck': 'cueillir', 'poins': 'poins', 'point': 'point', 'poison': 'poison', 'policy': 'politique', 'polixenes': 'polixènes', 'pompey': 'pompey', 'porter': 'porter', 'possible': 'possible', 'posthumus': 'posthume', 'pound': 'livre', 'power': 'Puissance', 'practice': 'entraine toi', 'praise': 'louange', 'prayers': 'prières', 'precious': 'précieux', 'prepare': 'préparer', 'presence': 'présence', 'present': 'présent', 'pretty': 'jolie', 'pride': 'fierté', 'priest': 'prêtre', 'prince': 'prince', 'prison': 'prison', 'private': 'privé', 'prize': 'prix', 'proceed': 'procéder', 'proclaim': 'proclamer', 'profit': 'profit', 'prohibited': 'interdit', 'project': 'projet', 'prologue': 'prologue', 'promise': 'promettre', 'proof': 'preuve', 'proper': 'correct', 'protector': 'protecteur', 'protest': 'manifestation', 'proud': 'fier', 'prove': 'prouver', 'provided': 'à condition de', 'public': 'Publique', 'purpose': 'objectif', 'purse': 'bourse', 'quality': 'qualité', 'quarrel': 'querelle', 'queen': 'reine', 'question': 'question', 'quick': 'rapide', 'quiet': 'silencieux', 'quite': 'assez', 'quoth': 'quoth', 'raise': 'élever', 'ransom': 'une rançon', 'rascal': 'coquin', 'rather': 'plutôt', 'readable': 'lisible', 'ready': 'prêt', 'realm': 'domaine', 'reason': 'raison', 'receive': 'recevoir', 'regard': 'qui concerne', 'reign': 'règne', 'reignier': 'règne', 'remain': 'rester', 'remedy': 'remède', 'remember': 'rappelles toi', 'render': 'rendre', 'repair': 'réparation', 'repent': 'se repentir', 'report': 'rapport', 'reputation': 'réputation', 'request': 'demande', 'respect': 'le respect', 'return': 'revenir', 'revenge': 'vengeance', 'reverence': 'révérence', 'revolt': 'révolte', 'right': 'droite', 'rivers': 'rivières', 'rogue': 'coquin', 'rotten': 'pourri', 'rough': 'rugueux', 'round': 'rond', 'royal': 'Royal', 'sacred': 'sacré', 'safety': 'sécurité', 'saint': 'Saint', 'salerio': 'salerio', 'satisfied': 'satisfait', 'saying': 'en disant', 'scarce': 'rare', 'scene': 'scène', 'scorn': 'mépris', 'search': 'chercher', 'season': 'saison', 'second': 'seconde', 'secret': 'secret', 'seeing': 'voyant', 'senate': 'sénat', 'senator': 'sénateur', 'sense': 'sens', 'sentence': 'phrase', 'servant': 'serviteur', 'serve': 'servir', 'service': 'un service', 'seven': 'Sept', 'several': 'nombreuses', 'shadow': 'ombre', 'shake': 'secouer', 'shall': 'doit', 'shame': 'la honte', 'shape': 'forme', 'sharp': 'tranchant', 'shepherd': 'berger', 'shine': 'éclat', 'shore': 'rive', 'short': 'court', 'shortly': 'prochainement', 'should': 'devrait', 'shows': 'montre', 'sickness': 'maladie', 'sight': 'vue', 'silence': 'silence', 'silver': 'argent', 'simple': 'Facile', 'since': 'depuis', 'single': 'Célibataire', 'sirrah': 'sirrah', 'sister': 'sœur', 'skill': 'compétence', 'slain': 'tué', 'slander': 'calomnie', 'slave': 'esclave', 'sleep': 'sommeil', 'slender': 'mince', 'small': 'petit', 'smell': 'odeur', 'smile': 'sourire', 'soldier': 'soldat', 'solemn': 'solennel', 'somerset': 'somerset', 'something': 'quelque chose', 'sometime': 'parfois', 'sooner': 'plus tôt', 'soothsayer': 'devin', 'sorrow': 'chagrin', 'sorry': 'Pardon', 'sought': 'recherché', 'souls': 'âmes', 'sound': 'du son', 'sovereign': 'souverain', 'spare': 'de rechange', 'speak': 'parler', 'speaks': 'parle', 'special': 'spécial', 'speech': 'discours', 'speed': 'la vitesse', 'spend': 'dépenser', 'spirit': 'esprit', 'spite': 'dépit', 'spoke': 'parlait', 'sport': 'sport', 'spring': 'printemps', 'staff': 'Personnel', 'stain': 'tache', 'stand': 'supporter', 'stars': 'étoiles', 'state': 'Etat', 'steal': 'voler', 'steel': 'acier', 'steward': 'intendant', 'still': 'encore', 'stomach': 'estomac', 'stone': 'calcul', 'stood': 'se tenait', 'store': 'boutique', 'storm': 'orage', 'story': 'récit', 'straight': 'tout droit', 'strange': 'étrange', 'street': 'rue', 'strength': 'force', 'strike': 'la grève', 'stroke': 'accident vasculaire cérébral', 'strong': 'fort', 'struck': 'frappé', 'study': 'étude', 'stuff': 'des trucs', 'subject': 'matière', 'substance': 'substance', 'success': 'Succès', 'sudden': 'soudain', 'suddenly': 'tout à coup', 'suffer': 'souffrir', 'suffolk': 'suffolk', 'summer': 'été', 'supper': 'souper', 'surely': 'sûrement', 'surrey': 'Surrey', 'suspect': 'suspect', 'swear': 'jurer', 'sweat': 'transpiration', 'sweet': 'sucré', 'swift': 'rapide', 'sword': 'épée', 'swore': 'juré', 'sworn': 'juré', 'syracuse': 'Syracuse', 'table': 'table', 'tailor': 'tailleur', 'taken': 'pris', 'talbot': 'talbot', 'tarry': 'goudronneux', 'taste': 'goût', 'taught': 'enseigné', 'teach': 'enseigner', 'tears': 'larmes', 'tedious': 'fastidieux', 'teeth': 'les dents', 'tells': 'raconte', 'tempest': 'tempête', 'tender': 'soumissionner', 'terms': 'termes', 'thank': 'remercier', 'their': 'leur', 'themselves': 'se', 'there': 'Là', 'therefore': 'par conséquent', 'therein': 'la bride', 'these': 'celles-ci', 'thief': 'voleur', 'thing': 'chose', 'think': 'pense', 'third': 'troisième', 'thomas': 'Thomas', 'those': 'ceux', 'though': 'bien que', 'thought': 'pensée', 'thrive': 'prospérer', 'throat': 'gorge', 'throne': 'trône', 'through': 'par', 'throw': 'jeter', 'thrust': 'poussée', 'thunder': 'tonnerre', 'times': 'fois', 'title': 'Titre', 'together': 'ensemble', 'tongue': 'langue', 'tonight': 'ce soir', 'touch': 'toucher', 'toward': 'vers', 'tower': 'la tour', 'train': 'train', 'traitor': 'traitre', 'tread': 'bande de roulement', 'treason': 'trahison', 'treasure': 'Trésor', 'trial': 'procès', 'tribunes': 'tribunes', 'trick': 'tour', 'triumph': 'triomphe', 'trouble': 'difficulté', 'truly': 'vraiment', 'trumpet': 'trompette', 'trust': 'confiance', 'truth': 'vérité', 'turns': 'se tourne', 'twice': 'deux fois', 'tyrant': 'tyran', 'ulysses': 'Ulysse', 'uncle': 'oncle', 'under': 'sous', 'understand': 'comprendre', 'undertake': 'entreprendre', 'undone': 'défait', 'unhappy': 'malheureux', 'unknown': 'inconnue', 'unless': 'sauf si', 'until': \"jusqu'à\", 'unworthy': 'indigne', 'utter': 'prononcer', 'valentine': 'Valentin', 'valiant': 'vaillant', 'valour': 'valeur', 'vantage': 'avantage', 'vengeance': 'vengeance', 'venice': 'venise', 'version': 'version', 'victory': 'la victoire', 'villain': 'scélérat', 'viola': 'alto', 'violent': 'violent', 'virtue': 'vertu', 'visit': 'visite', 'voice': 'voix', 'walls': 'des murs', 'warlike': 'guerrier', 'warrant': 'mandat', 'waste': 'déchets', 'watch': 'regarder', 'water': 'eau', 'wealth': 'richesse', 'weapons': 'armes', 'weary': 'se lasser', 'weeds': 'mauvaises herbes', 'weeping': 'larmes', 'weight': 'poids', 'welcome': 'Bienvenue', 'wench': 'jeune fille', 'whence': \"d'où\", 'where': 'où', 'wherein': 'où', 'whether': \"qu'il s'agisse\", 'which': 'lequel', 'while': 'tandis que', 'whither': 'où', 'whole': 'entier', 'whore': 'putain', 'whose': 'dont', 'widow': 'veuve', 'willing': 'prêt', 'window': 'la fenêtre', 'wings': 'ailes', 'winter': 'hiver', 'wisdom': 'sagesse', 'witch': 'sorcière', 'withal': 'avec', 'within': 'dans', 'without': 'sans pour autant', 'witness': 'témoin', 'wives': 'épouses', 'wolsey': 'Wolsey', 'woman': 'femme', 'wonder': 'merveille', 'works': 'travaux', 'world': 'monde', 'worse': 'pire', 'worship': 'culte', 'worth': 'vaut', 'would': 'aurait', 'wound': 'blessure', 'wounded': 'blessés', 'wrath': 'colère', 'wretch': 'misérable', 'write': 'écrire', 'written': 'écrit', 'wrong': 'faux', 'wrought': 'forgé', 'yield': 'rendement', 'yonder': 'là-bas', 'young': 'Jeune', 'yours': 'le tiens', 'yourself': 'toi même', 'youth': 'jeunesse'}\n"
          ],
          "name": "stdout"
        }
      ]
    },
    {
      "cell_type": "code",
      "metadata": {
        "colab": {
          "base_uri": "https://localhost:8080/"
        },
        "id": "q1GvLgSugaia",
        "outputId": "e5195d30-a5fc-48cf-dde9-d9a349b392ec"
      },
      "source": [
        "class trans:\n",
        "  \"\"\"\n",
        "  \"\"\"\n",
        "  data=''\n",
        "  time_for_translate=list()\n",
        "  memory_for_translate=list()\n",
        "  frequency=list()\n",
        "\n",
        "  def __init__(self):\n",
        "    fin = open(\"t8.shakespeare.txt\", \"rt\")\n",
        "    self.data = fin.read()\n",
        "\n",
        "  def change_word(self,words):\n",
        "    \"\"\"\n",
        "    input: english word\n",
        "    Process:translate the eng words with \n",
        "    french words in the text and collecting other details\n",
        "    \"\"\"\n",
        "\n",
        "    # start tracking the memory and time useage\n",
        "    start = time.time()\n",
        "    tracemalloc.start()\n",
        "\n",
        "    #Count the number of times words need to be replaced\n",
        "    x = re.findall(words,self.data)\n",
        "    y = re.findall(words.capitalize(),self.data)\n",
        "\n",
        "    # changing to french words\n",
        "    self.data = self.data.replace(words,dictionary[words])\n",
        "    self.data = self.data.replace(words.capitalize(),dictionary[words].capitalize())\n",
        "    \n",
        "    # stop tracking the memory and time useage\n",
        "    end = time.time()\n",
        "    current, peak = tracemalloc.get_traced_memory()\n",
        "\n",
        "    # Adding the information\n",
        "    self.time_for_translate.append(end-start)\n",
        "    self.memory_for_translate.append(current / 10**6)\n",
        "    self.frequency.append(len(x)+len(y))\n",
        "    tracemalloc.stop()\n",
        "    return len(x)+len(y)\n",
        "\n",
        "  def get_Content(self):\n",
        "    \"\"\"\n",
        "    to get the translated content\n",
        "    \"\"\"\n",
        "    return self.data\n",
        "  def get_time(self):\n",
        "    \"\"\"\n",
        "    to get the Time details\n",
        "    \"\"\"\n",
        "    return self.time_for_translate\n",
        "  def get_memory(self):\n",
        "    \"\"\"\n",
        "    to get the Memory details\n",
        "    \"\"\"\n",
        "    return self.memory_for_translate\n",
        "  def get_frequency(self):\n",
        "    \"\"\"\n",
        "    to get the frequency details\n",
        "    \"\"\"\n",
        "    return self.memory_for_translate\n",
        "\n",
        "# creating object \n",
        "count=list()\n",
        "t=trans()\n",
        "for words in dictionary:\n",
        "  c=t.change_word(words)\n",
        "  count.append(c)\n",
        "\n",
        "# Getting details\n",
        "datas=t.get_Content()\n",
        "times=t.get_time()\n",
        "memos=t.get_memory()\n",
        "frequency=t.get_frequency()\n",
        "\n",
        "\n",
        "# printing details\n",
        "print(count)\n",
        "print(times)\n",
        "print(memos)\n",
        "\n"
      ],
      "execution_count": null,
      "outputs": [
        {
          "output_type": "stream",
          "text": [
            "[45, 414, 147, 64, 55, 76, 55, 57, 53, 43, 234, 88, 43, 68, 118, 40, 41, 543, 0, 1364, 93, 161, 237, 112, 148, 79, 63, 49, 82, 209, 419, 454, 480, 105, 48, 231, 0, 103, 78, 17, 57, 468, 60, 71, 71, 376, 0, 55, 52, 87, 102, 205, 43, 21, 105, 146, 124, 76, 110, 130, 50, 233, 187, 210, 11, 840, 125, 188, 46, 120, 199, 664, 253, 42, 54, 47, 109, 68, 612, 241, 60, 101, 59, 96, 195, 94, 277, 0, 84, 105, 947, 73, 73, 89, 44, 76, 96, 53, 51, 229, 42, 154, 0, 223, 117, 360, 110, 114, 82, 526, 238, 93, 728, 196, 49, 62, 59, 52, 236, 762, 43, 160, 103, 36, 113, 116, 93, 362, 68, 236, 81, 46, 57, 167, 202, 245, 270, 55, 46, 152, 132, 59, 159, 379, 72, 100, 19, 80, 68, 186, 98, 259, 132, 86, 65, 168, 21, 41, 59, 61, 6, 168, 635, 254, 172, 19, 291, 0, 155, 0, 52, 86, 238, 55, 215, 24, 47, 88, 53, 185, 127, 112, 89, 44, 72, 55, 270, 47, 4, 7, 654, 58, 176, 701, 0, 0, 0, 310, 253, 451, 0, 287, 150, 73, 110, 73, 18, 126, 395, 100, 81, 54, 182, 72, 57, 45, 105, 0, 39, 489, 51, 56, 42, 931, 119, 85, 65, 86, 200, 162, 55, 98, 65, 135, 310, 62, 54, 59, 49, 293, 57, 183, 98, 0, 78, 58, 70, 92, 43, 51, 2, 59, 92, 86, 8, 62, 130, 255, 0, 20, 92, 121, 0, 210, 0, 218, 58, 110, 42, 114, 21, 51, 73, 54, 61, 380, 74, 116, 63, 356, 29, 50, 84, 42, 107, 54, 0, 81, 111, 167, 71, 14, 313, 2578, 0, 0, 159, 69, 58, 40, 558, 0, 125, 60, 86, 63, 26, 1035, 69, 53, 76, 47, 464, 82, 355, 47, 68, 355, 43, 125, 45, 1150, 280, 203, 99, 77, 132, 34, 444, 18, 8, 129, 242, 81, 44, 49, 322, 66, 42, 114, 558, 137, 142, 62, 56, 59, 146, 103, 0, 560, 80, 103, 104, 64, 86, 275, 0, 92, 115, 74, 48, 441, 485, 103, 68, 320, 21, 55, 414, 55, 205, 124, 1017, 88, 70, 194, 72, 54, 105, 44, 232, 1003, 88, 205, 65, 83, 43, 89, 111, 92, 56, 12, 661, 152, 239, 1147, 105, 93, 274, 71, 96, 182, 68, 177, 55, 71, 159, 342, 63, 37, 59, 242, 219, 39, 158, 47, 130, 120, 364, 1346, 853, 169, 153, 83, 583, 0, 0, 98, 189, 92, 54, 406, 335, 37, 141, 662, 34, 92, 124, 120, 373, 48, 74, 2, 438, 43, 56, 85, 97, 171, 129, 240, 96, 89, 119, 117, 35, 192, 76, 79, 127, 147, 239, 116, 51, 56, 189, 143, 53, 99, 233, 213, 128, 124, 45, 68, 104, 243, 36, 77, 222, 0, 101, 748, 68, 11, 383, 73, 10, 145, 55, 469, 49, 484, 213, 123, 112, 216, 60, 513, 0, 24, 53, 61, 225, 122, 41, 3, 68, 78, 48, 58, 270, 360, 84, 72, 175, 166, 83, 54, 85, 23, 8, 122, 377, 977, 119, 385, 64, 264, 83, 108, 56, 0, 58, 44, 187, 79, 169, 110, 43, 679, 0, 40, 56, 62, 5, 53, 0, 39, 53, 416, 100, 193, 96, 97, 134, 353, 147, 476, 113, 200, 28, 137, 89, 250, 567, 56, 50, 45, 105, 517, 147, 90, 0, 1023, 65, 982, 726, 117, 639, 58, 102, 202, 87, 60, 8, 54, 91, 121, 149, 178, 282, 140, 9, 97, 144, 26, 940, 0, 188, 57, 27, 41, 92, 53, 10, 167, 17, 122, 327, 131, 12, 49, 71, 35, 112, 51, 44, 147, 203, 130, 17, 556, 155, 230, 103, 64, 114, 45, 65, 4, 215, 0, 19, 38, 52, 143, 45, 525, 110, 241, 63, 449, 215, 163, 70, 256, 128, 45, 16, 92, 748, 98, 32, 112, 381, 56, 239, 85, 79, 82, 107, 442, 117, 112, 85, 834, 260, 74, 56, 134, 0, 65, 0, 32, 27, 160, 118, 100, 60, 67, 249, 371, 37, 70, 260, 107, 55, 129, 575, 177, 243, 110, 117, 66, 72, 66, 90, 323, 3, 146, 60, 498, 144, 277, 293, 0, 127, 59, 200, 57, 52, 77, 187, 47, 85, 189, 281, 189, 44, 64, 568, 27, 108, 40, 438, 100, 255, 47, 74, 146, 5, 54, 63, 90, 152, 146, 61, 69, 120, 108, 56, 42, 44, 187, 45, 304, 328, 264, 93, 106, 111, 172, 3702, 366, 130, 90, 86, 102, 85, 172, 0, 1716, 103, 54, 239, 88, 72, 90, 462, 64, 148, 614, 62, 127, 92, 176, 378, 43, 121, 69, 125, 360, 69, 68, 183, 138, 62, 9, 244, 92, 40, 114, 333, 0, 68, 1412, 0, 64, 163, 162, 80, 396, 73, 219, 182, 90, 155, 116, 944, 71, 347, 130, 78, 40, 588, 62, 150, 107, 72, 81, 92, 161, 296, 133, 143, 205, 64, 279, 84, 65, 70, 172, 43, 88, 129, 0, 162, 83, 99, 64, 40, 13, 53, 356, 53, 925, 100, 427, 60, 197, 9, 202, 44, 95, 94, 50, 98, 55, 137, 291, 51, 57, 45, 50, 176, 75, 514, 2108, 159, 3036, 0, 0, 1338, 68, 761, 1365, 88, 54, 547, 1316, 0, 61, 78, 75, 0, 213, 66, 90, 241, 121, 281, 503, 0, 230, 177, 86, 311, 205, 57, 0, 58, 65, 50, 94, 79, 132, 172, 211, 244, 349, 55, 72, 70, 20, 256, 577, 0, 0, 55, 0, 0, 155, 78, 36, 121, 66, 162, 101, 180, 242, 64, 8, 47, 362, 21, 47, 244, 97, 213, 85, 58, 191, 75, 221, 198, 113, 42, 87, 44, 62, 63, 372, 85, 0, 1873, 0, 97, 2322, 335, 89, 161, 104, 618, 98, 94, 69, 56, 82, 105, 89, 153, 494, 368, 142, 64, 8, 496, 165, 29, 704, 178, 133, 556, 2456, 211, 0, 73, 153, 161, 35, 379, 0, 199, 74, 503, 536, 0, 318]\n",
            "[0.021506309509277344, 0.02096867561340332, 0.021921396255493164, 0.017713069915771484, 0.014267921447753906, 0.021641254425048828, 0.0178985595703125, 0.020338058471679688, 0.020119905471801758, 0.022185325622558594, 0.021936655044555664, 0.026846647262573242, 0.02460312843322754, 0.0234072208404541, 0.02196025848388672, 0.020065784454345703, 0.02045726776123047, 0.021008014678955078, 0.017678499221801758, 0.029139280319213867, 0.032559871673583984, 0.030545473098754883, 0.03178524971008301, 0.027021169662475586, 0.027178287506103516, 0.019315004348754883, 0.02490091323852539, 0.01878809928894043, 0.029822826385498047, 0.029619693756103516, 0.029726266860961914, 0.03672361373901367, 0.03296160697937012, 0.025626420974731445, 0.022767305374145508, 0.027041912078857422, 0.01776266098022461, 0.017735004425048828, 0.021147727966308594, 0.021152257919311523, 0.018938541412353516, 0.03359651565551758, 0.02399158477783203, 0.030910015106201172, 0.0272524356842041, 0.02863287925720215, 0.01711273193359375, 0.02471613883972168, 0.024701833724975586, 0.031137466430664062, 0.032189369201660156, 0.01605701446533203, 0.017913103103637695, 0.01300954818725586, 0.016027450561523438, 0.021930694580078125, 0.016004085540771484, 0.024384260177612305, 0.027989625930786133, 0.029241323471069336, 0.022331953048706055, 0.015225887298583984, 0.024651288986206055, 0.024647235870361328, 0.014510869979858398, 0.026518583297729492, 0.023426055908203125, 0.02621912956237793, 0.0195767879486084, 0.026719093322753906, 0.02546525001525879, 0.01564645767211914, 0.021207332611083984, 0.0175626277923584, 0.014315366744995117, 0.014155864715576172, 0.015271186828613281, 0.011523246765136719, 0.01643514633178711, 0.015204429626464844, 0.01696157455444336, 0.015019655227661133, 0.009923458099365234, 0.01547551155090332, 0.013098478317260742, 0.020467281341552734, 0.016481399536132812, 0.012645244598388672, 0.028789997100830078, 0.023494243621826172, 0.020902633666992188, 0.015404701232910156, 0.02539825439453125, 0.022175312042236328, 0.020293712615966797, 0.02225518226623535, 0.029696226119995117, 0.017882108688354492, 0.01578235626220703, 0.025391101837158203, 0.020352602005004883, 0.023881912231445312, 0.015334844589233398, 0.02837538719177246, 0.026020288467407227, 0.02840900421142578, 0.021006345748901367, 0.021185874938964844, 0.025041818618774414, 0.021212339401245117, 0.01761460304260254, 0.016582012176513672, 0.026926517486572266, 0.015828609466552734, 0.01865077018737793, 0.024776697158813477, 0.02231454849243164, 0.012798786163330078, 0.022105693817138672, 0.02796149253845215, 0.018736839294433594, 0.02406001091003418, 0.015607118606567383, 0.022750139236450195, 0.019777774810791016, 0.02767801284790039, 0.01814866065979004, 0.013373613357543945, 0.019629478454589844, 0.013649940490722656, 0.015841245651245117, 0.014221429824829102, 0.018207788467407227, 0.011980772018432617, 0.013902664184570312, 0.020490169525146484, 0.013637065887451172, 0.01142740249633789, 0.014786005020141602, 0.011795520782470703, 0.01773810386657715, 0.02081465721130371, 0.016097068786621094, 0.015378475189208984, 0.015816450119018555, 0.010181665420532227, 0.011169910430908203, 0.01636791229248047, 0.00963735580444336, 0.01281285285949707, 0.01495218276977539, 0.01046442985534668, 0.011322259902954102, 0.013420820236206055, 0.010048866271972656, 0.031520843505859375, 0.019159317016601562, 0.023522615432739258, 0.02164912223815918, 0.01666402816772461, 0.020028114318847656, 0.021590471267700195, 0.017418384552001953, 0.015331506729125977, 0.021439552307128906, 0.014729022979736328, 0.022057294845581055, 0.01436305046081543, 0.023613452911376953, 0.014761924743652344, 0.013247013092041016, 0.024036407470703125, 0.014381647109985352, 0.019736766815185547, 0.02079296112060547, 0.0251924991607666, 0.015381813049316406, 0.021510839462280273, 0.02472066879272461, 0.024454116821289062, 0.016279220581054688, 0.028215646743774414, 0.029195547103881836, 0.02823185920715332, 0.01633739471435547, 0.025340557098388672, 0.016869306564331055, 0.018689632415771484, 0.016157150268554688, 0.015471458435058594, 0.023549795150756836, 0.015646934509277344, 0.01733565330505371, 0.0279233455657959, 0.015936851501464844, 0.01624894142150879, 0.01447749137878418, 0.018500089645385742, 0.02826857566833496, 0.026773929595947266, 0.015595674514770508, 0.01711869239807129, 0.02143239974975586, 0.026166915893554688, 0.016936540603637695, 0.019857406616210938, 0.015224933624267578, 0.02280449867248535, 0.02476358413696289, 0.016603469848632812, 0.017391443252563477, 0.015461444854736328, 0.028186559677124023, 0.014424562454223633, 0.015450716018676758, 0.018047094345092773, 0.014420747756958008, 0.013012409210205078, 0.017796039581298828, 0.02081441879272461, 0.011991500854492188, 0.01719188690185547, 0.018785476684570312, 0.014606714248657227, 0.011640548706054688, 0.016035079956054688, 0.018584489822387695, 0.029794931411743164, 0.025253772735595703, 0.026497364044189453, 0.017804384231567383, 0.019287109375, 0.018094778060913086, 0.01733541488647461, 0.02886962890625, 0.02714395523071289, 0.017286062240600586, 0.026897668838500977, 0.02046346664428711, 0.024575233459472656, 0.025632143020629883, 0.017574787139892578, 0.026795148849487305, 0.0172269344329834, 0.02675604820251465, 0.01867961883544922, 0.02507781982421875, 0.025455236434936523, 0.022153377532958984, 0.014628410339355469, 0.015906333923339844, 0.026287078857421875, 0.02198195457458496, 0.016468524932861328, 0.014763593673706055, 0.025394201278686523, 0.019467830657958984, 0.01927804946899414, 0.01483297348022461, 0.0161895751953125, 0.025568723678588867, 0.02613091468811035, 0.018522977828979492, 0.019684553146362305, 0.017297744750976562, 0.021492719650268555, 0.02365398406982422, 0.017828941345214844, 0.022772550582885742, 0.020113468170166016, 0.015286922454833984, 0.018151521682739258, 0.022110700607299805, 0.020527362823486328, 0.029851436614990234, 0.025088787078857422, 0.020016193389892578, 0.02825617790222168, 0.023988008499145508, 0.03684520721435547, 0.021600723266601562, 0.028163909912109375, 0.03152751922607422, 0.022080421447753906, 0.029423236846923828, 0.02574324607849121, 0.02227187156677246, 0.032686710357666016, 0.02232646942138672, 0.02500462532043457, 0.02851271629333496, 0.022073745727539062, 0.03172802925109863, 0.036246299743652344, 0.022077560424804688, 0.020421743392944336, 0.03463172912597656, 0.030812501907348633, 0.028745174407958984, 0.025058507919311523, 0.029577255249023438, 0.021795988082885742, 0.02079010009765625, 0.028403282165527344, 0.022114992141723633, 0.02254343032836914, 0.020986318588256836, 0.02300572395324707, 0.020639657974243164, 0.020597457885742188, 0.02775716781616211, 0.0201261043548584, 0.026978015899658203, 0.02250075340270996, 0.030956506729125977, 0.014536142349243164, 0.019695758819580078, 0.02264547348022461, 0.024471521377563477, 0.02610611915588379, 0.017739057540893555, 0.031795501708984375, 0.01693248748779297, 0.022528648376464844, 0.01944112777709961, 0.018212556838989258, 0.03026270866394043, 0.01568889617919922, 0.021596670150756836, 0.016729116439819336, 0.015619277954101562, 0.027551889419555664, 0.01628255844116211, 0.01714301109313965, 0.016971826553344727, 0.021147727966308594, 0.025710105895996094, 0.017536640167236328, 0.024645566940307617, 0.02536749839782715, 0.02730560302734375, 0.01727128028869629, 0.028383255004882812, 0.026295900344848633, 0.023026227951049805, 0.017102718353271484, 0.02482914924621582, 0.026325464248657227, 0.01634502410888672, 0.013304471969604492, 0.014469385147094727, 0.015998125076293945, 0.022708892822265625, 0.016306400299072266, 0.021764278411865234, 0.030145883560180664, 0.016071081161499023, 0.02957320213317871, 0.026883840560913086, 0.015995264053344727, 0.021540164947509766, 0.0261843204498291, 0.023468732833862305, 0.02116847038269043, 0.0234072208404541, 0.023828506469726562, 0.023340940475463867, 0.01892828941345215, 0.0184934139251709, 0.021236896514892578, 0.019930124282836914, 0.017810583114624023, 0.02675461769104004, 0.02481985092163086, 0.016165733337402344, 0.024892091751098633, 0.021694421768188477, 0.018169164657592773, 0.02260279655456543, 0.025932788848876953, 0.016527414321899414, 0.029315710067749023, 0.026556730270385742, 0.016783475875854492, 0.01761770248413086, 0.015482664108276367, 0.015395164489746094, 0.02016305923461914, 0.014559745788574219, 0.029115676879882812, 0.017776966094970703, 0.016792774200439453, 0.029914140701293945, 0.027580976486206055, 0.028733015060424805, 0.029918432235717773, 0.024719953536987305, 0.025261402130126953, 0.021789073944091797, 0.02401590347290039, 0.022074222564697266, 0.020511865615844727, 0.023379802703857422, 0.014390707015991211, 0.021111488342285156, 0.020077228546142578, 0.02845931053161621, 0.01961207389831543, 0.02263188362121582, 0.026886463165283203, 0.026839733123779297, 0.02228999137878418, 0.03661632537841797, 0.023854970932006836, 0.025065183639526367, 0.01692509651184082, 0.020821571350097656, 0.03182721138000488, 0.030397891998291016, 0.039902687072753906, 0.048915863037109375, 0.03875994682312012, 0.04042863845825195, 0.043439626693725586, 0.05143451690673828, 0.03734540939331055, 0.03813767433166504, 0.0458376407623291, 0.04809713363647461, 0.03935074806213379, 0.0412905216217041, 0.054904937744140625, 0.05234956741333008, 0.03918814659118652, 0.04829263687133789, 0.052657365798950195, 0.03858327865600586, 0.03841352462768555, 0.03628110885620117, 0.04500102996826172, 0.0448915958404541, 0.03865361213684082, 0.04097914695739746, 0.03905081748962402, 0.04520273208618164, 0.0414128303527832, 0.03972935676574707, 0.03989005088806152, 0.046907901763916016, 0.049059391021728516, 0.046797990798950195, 0.04599332809448242, 0.04191088676452637, 0.03448963165283203, 0.043426513671875, 0.03587913513183594, 0.03585052490234375, 0.03727865219116211, 0.036486148834228516, 0.043410301208496094, 0.0349428653717041, 0.04436182975769043, 0.04680943489074707, 0.04356551170349121, 0.03938412666320801, 0.04158496856689453, 0.04559516906738281, 0.03917431831359863, 0.03922700881958008, 0.042891502380371094, 0.035155534744262695, 0.04399704933166504, 0.046526432037353516, 0.05097651481628418, 0.041085243225097656, 0.04549884796142578, 0.040968894958496094, 0.044820547103881836, 0.0385587215423584, 0.04132437705993652, 0.051314592361450195, 0.036029815673828125, 0.03991222381591797, 0.048523902893066406, 0.04406332969665527, 0.03835916519165039, 0.03841114044189453, 0.037926673889160156, 0.03847026824951172, 0.03905677795410156, 0.03820347785949707, 0.048395395278930664, 0.03958868980407715, 0.04763221740722656, 0.0475771427154541, 0.03545522689819336, 0.0513765811920166, 0.04571866989135742, 0.038588762283325195, 0.04725193977355957, 0.03401756286621094, 0.03708338737487793, 0.038353681564331055, 0.047582387924194336, 0.047898054122924805, 0.037059783935546875, 0.03885197639465332, 0.03859829902648926, 0.04387688636779785, 0.04840278625488281, 0.04269909858703613, 0.04228377342224121, 0.03863787651062012, 0.046750783920288086, 0.04156899452209473, 0.03997015953063965, 0.042313337326049805, 0.04471087455749512, 0.03582453727722168, 0.035501718521118164, 0.03637409210205078, 0.036844730377197266, 0.03696846961975098, 0.04308199882507324, 0.041413307189941406, 0.04087471961975098, 0.04594612121582031, 0.046251773834228516, 0.04372048377990723, 0.04447197914123535, 0.03755998611450195, 0.03427410125732422, 0.02701091766357422, 0.02609086036682129, 0.0393068790435791, 0.050061702728271484, 0.036546945571899414, 0.04473161697387695, 0.04244184494018555, 0.04207253456115723, 0.043486595153808594, 0.04734635353088379, 0.032774925231933594, 0.037165164947509766, 0.045851945877075195, 0.03815484046936035, 0.03561687469482422, 0.03990578651428223, 0.023171424865722656, 0.027170181274414062, 0.035127878189086914, 0.033791542053222656, 0.03493785858154297, 0.033095598220825195, 0.029625892639160156, 0.03906512260437012, 0.04296875, 0.03303694725036621, 0.038339853286743164, 0.051325321197509766, 0.04294991493225098, 0.04146528244018555, 0.03374791145324707, 0.04510498046875, 0.04512739181518555, 0.04144620895385742, 0.043053388595581055, 0.04589557647705078, 0.04457235336303711, 0.04578089714050293, 0.03997683525085449, 0.05615496635437012, 0.04894137382507324, 0.0493016242980957, 0.038453102111816406, 0.04806828498840332, 0.04039764404296875, 0.050112009048461914, 0.04222464561462402, 0.04281878471374512, 0.047132253646850586, 0.048464059829711914, 0.0453028678894043, 0.05507302284240723, 0.04675602912902832, 0.046948909759521484, 0.039563655853271484, 0.041962623596191406, 0.04204916954040527, 0.04709005355834961, 0.04668378829956055, 0.04074549674987793, 0.04027295112609863, 0.051592111587524414, 0.03235793113708496, 0.029448270797729492, 0.02985072135925293, 0.028596878051757812, 0.03184628486633301, 0.028425931930541992, 0.03435659408569336, 0.030343294143676758, 0.026074647903442383, 0.03307008743286133, 0.04144763946533203, 0.04686307907104492, 0.03902935981750488, 0.038125038146972656, 0.03464961051940918, 0.04442143440246582, 0.03821206092834473, 0.037978410720825195, 0.036869049072265625, 0.03805136680603027, 0.04085040092468262, 0.04315781593322754, 0.04585552215576172, 0.03801870346069336, 0.03502798080444336, 0.04523110389709473, 0.048090457916259766, 0.0407109260559082, 0.03695559501647949, 0.04236316680908203, 0.026857376098632812, 0.03269004821777344, 0.029800891876220703, 0.024654626846313477, 0.025156259536743164, 0.04000067710876465, 0.036678314208984375, 0.03958845138549805, 0.05020904541015625, 0.03653454780578613, 0.03593301773071289, 0.034432411193847656, 0.04477834701538086, 0.03720450401306152, 0.045619964599609375, 0.04935908317565918, 0.046967267990112305, 0.04785585403442383, 0.04540061950683594, 0.04771876335144043, 0.04755759239196777, 0.03870511054992676, 0.03715062141418457, 0.04409432411193848, 0.037225961685180664, 0.036647796630859375, 0.03580164909362793, 0.0338594913482666, 0.03880429267883301, 0.03755974769592285, 0.031219959259033203, 0.025606870651245117, 0.034210920333862305, 0.02985405921936035, 0.037259578704833984, 0.025575637817382812, 0.03663516044616699, 0.044257164001464844, 0.03706932067871094, 0.038921356201171875, 0.042174577713012695, 0.04945087432861328, 0.0396120548248291, 0.039812564849853516, 0.03845572471618652, 0.043409109115600586, 0.04783058166503906, 0.04244709014892578, 0.03370523452758789, 0.03822803497314453, 0.036438941955566406, 0.04196929931640625, 0.03823542594909668, 0.050707101821899414, 0.03989577293395996, 0.04440045356750488, 0.04096412658691406, 0.046068429946899414, 0.04350447654724121, 0.0502934455871582, 0.043570756912231445, 0.03742814064025879, 0.04557633399963379, 0.048152923583984375, 0.033316612243652344, 0.042453765869140625, 0.03632402420043945, 0.03866887092590332, 0.03688311576843262, 0.045488834381103516, 0.03827214241027832, 0.036604881286621094, 0.05562734603881836, 0.04893183708190918, 0.040158987045288086, 0.04270219802856445, 0.03893852233886719, 0.046148061752319336, 0.04356741905212402, 0.043413639068603516, 0.046454668045043945, 0.04784107208251953, 0.04230618476867676, 0.03621673583984375, 0.042531728744506836, 0.0365297794342041, 0.04261898994445801, 0.040511131286621094, 0.04992413520812988, 0.04788708686828613, 0.04931497573852539, 0.0420072078704834, 0.038164615631103516, 0.047675132751464844, 0.05138731002807617, 0.03742527961730957, 0.026747941970825195, 0.03631734848022461, 0.05207967758178711, 0.047005653381347656, 0.05138039588928223, 0.04118466377258301, 0.04631924629211426, 0.048894643783569336, 0.040528297424316406, 0.04737401008605957, 0.04134511947631836, 0.042499542236328125, 0.04112434387207031, 0.03708004951477051, 0.04532456398010254, 0.0499730110168457, 0.04093575477600098, 0.04844784736633301, 0.048992156982421875, 0.04168963432312012, 0.04818248748779297, 0.040248870849609375, 0.039306640625, 0.045176029205322266, 0.05592179298400879, 0.05061197280883789, 0.04128217697143555, 0.053434133529663086, 0.048468828201293945, 0.0467066764831543, 0.04745650291442871, 0.04763197898864746, 0.043228864669799805, 0.05248451232910156, 0.04752635955810547, 0.053266286849975586, 0.04189467430114746, 0.04381442070007324, 0.043675899505615234, 0.04340004920959473, 0.05411696434020996, 0.0415191650390625, 0.03610825538635254, 0.045250892639160156, 0.03304147720336914, 0.03259396553039551, 0.035198211669921875, 0.03093743324279785, 0.029730558395385742, 0.029952526092529297, 0.038637638092041016, 0.03780078887939453, 0.03552603721618652, 0.05048084259033203, 0.029955625534057617, 0.03554558753967285, 0.03707122802734375, 0.03730630874633789, 0.03183794021606445, 0.03428149223327637, 0.027620553970336914, 0.028441667556762695, 0.03867220878601074, 0.03749251365661621, 0.036688804626464844, 0.027955055236816406, 0.03697371482849121, 0.03547239303588867, 0.03658342361450195, 0.04196000099182129, 0.041809797286987305, 0.04297661781311035, 0.04815077781677246, 0.047744035720825195, 0.049820899963378906, 0.037279367446899414, 0.05234336853027344, 0.04445481300354004, 0.03549766540527344, 0.037386178970336914, 0.04338860511779785, 0.030832290649414062, 0.03189516067504883, 0.028980731964111328, 0.03059220314025879, 0.035685062408447266, 0.029511690139770508, 0.03193187713623047, 0.030590534210205078, 0.030600547790527344, 0.035941123962402344, 0.03522157669067383, 0.03754782676696777, 0.0299990177154541, 0.029026269912719727, 0.03520369529724121, 0.040570974349975586, 0.03983116149902344, 0.053836822509765625, 0.0449976921081543, 0.049318790435791016, 0.04135751724243164, 0.03739476203918457, 0.04837751388549805, 0.043329715728759766, 0.04715394973754883, 0.04975128173828125, 0.053975820541381836, 0.04630923271179199, 0.046230316162109375, 0.03689002990722656, 0.03743720054626465, 0.042189598083496094, 0.03586101531982422, 0.028229713439941406, 0.031225919723510742, 0.03368544578552246, 0.02492380142211914, 0.03350329399108887, 0.0252077579498291, 0.030347108840942383, 0.0425870418548584, 0.0467984676361084, 0.03703784942626953, 0.03964877128601074, 0.041645050048828125, 0.050589799880981445, 0.03986358642578125, 0.046181678771972656, 0.045022010803222656, 0.04860401153564453, 0.04675126075744629, 0.03864312171936035, 0.04329729080200195, 0.05167055130004883, 0.05080008506774902, 0.03937506675720215, 0.045131683349609375, 0.05403447151184082, 0.0487368106842041, 0.051537513732910156, 0.054509878158569336, 0.050744056701660156, 0.04776597023010254, 0.04885292053222656, 0.040171146392822266, 0.05168652534484863, 0.05121588706970215, 0.04988408088684082, 0.0573732852935791, 0.04352402687072754, 0.05756068229675293, 0.03861665725708008, 0.04024815559387207, 0.05564737319946289, 0.04349184036254883, 0.04128623008728027, 0.04117846488952637, 0.048169851303100586, 0.04092836380004883, 0.05802798271179199, 0.047263383865356445, 0.03707170486450195, 0.050368309020996094, 0.045546531677246094, 0.051238298416137695, 0.03711414337158203, 0.04010343551635742, 0.0497739315032959, 0.05450630187988281, 0.04587697982788086, 0.04349946975708008, 0.042836904525756836, 0.04346466064453125, 0.0387120246887207, 0.048732757568359375, 0.047945261001586914, 0.05112481117248535, 0.043553829193115234, 0.04094576835632324, 0.04799509048461914, 0.04176139831542969, 0.04471421241760254, 0.04482221603393555, 0.04277825355529785, 0.03990578651428223, 0.044382572174072266, 0.05375480651855469, 0.04580354690551758, 0.04881548881530762, 0.04968380928039551, 0.04794669151306152, 0.049283504486083984, 0.050359249114990234, 0.04887557029724121, 0.03805208206176758, 0.041132450103759766, 0.05181002616882324, 0.036263465881347656, 0.036920785903930664, 0.0401155948638916, 0.032472848892211914, 0.032779693603515625, 0.04865264892578125, 0.04784035682678223, 0.04496884346008301, 0.04774117469787598, 0.04128599166870117, 0.04657173156738281, 0.03755593299865723, 0.04095721244812012, 0.0375368595123291, 0.03642678260803223, 0.038315773010253906, 0.041731834411621094, 0.04504680633544922, 0.046544790267944336, 0.03834867477416992, 0.05001974105834961, 0.044823646545410156, 0.048829078674316406, 0.04257631301879883, 0.04632115364074707, 0.044324636459350586, 0.04921698570251465, 0.04475593566894531, 0.04995226860046387, 0.042470455169677734, 0.04517817497253418, 0.043257713317871094, 0.042978763580322266, 0.04162716865539551, 0.04182267189025879, 0.04606270790100098, 0.04706239700317383, 0.0351557731628418, 0.04981231689453125, 0.03493928909301758, 0.046770572662353516, 0.04242086410522461, 0.051047563552856445, 0.04744744300842285, 0.048438072204589844, 0.0431666374206543, 0.03687691688537598, 0.02575516700744629, 0.028446197509765625, 0.03090214729309082, 0.027362346649169922, 0.03618431091308594, 0.030811309814453125, 0.03147292137145996, 0.03332042694091797, 0.03482508659362793, 0.03344917297363281, 0.03491544723510742, 0.033087730407714844, 0.02550363540649414, 0.03662824630737305, 0.05006742477416992, 0.04537701606750488, 0.037220001220703125, 0.051685333251953125, 0.03957819938659668, 0.0469052791595459, 0.046484947204589844, 0.04410505294799805, 0.0335536003112793, 0.04581785202026367, 0.04825949668884277, 0.05236029624938965, 0.04346203804016113, 0.04237985610961914, 0.03394794464111328, 0.04546403884887695, 0.04029035568237305, 0.03619527816772461, 0.04635477066040039, 0.03514409065246582, 0.04604005813598633]\n",
            "[5.461744, 5.48405, 5.46782, 5.463243, 5.462692, 5.464226, 5.462968, 5.462863, 5.46267, 5.462478, 5.474511, 5.465596, 5.462433, 5.464361, 5.467927, 5.462772, 5.462453, 5.493519, 0.001259, 5.546337, 5.467156, 5.471687, 5.475904, 5.468826, 5.47096, 5.466632, 5.465526, 5.464712, 5.466764, 5.474127, 5.487902, 5.491436, 5.493291, 5.470588, 5.466938, 5.479414, 0.00116, 5.471414, 5.469861, 5.46573, 5.468276, 5.494836, 5.469549, 5.470257, 5.470264, 5.490535, 0.001193, 5.470265, 5.469803, 5.472147, 5.47391, 5.480431, 5.470185, 5.468937, 5.474309, 5.476926, 5.475383, 5.472629, 5.474345, 5.475989, 5.470982, 5.482543, 5.479045, 5.480636, 5.467607, 5.519246, 5.474243, 5.478383, 5.469512, 5.475102, 5.479153, 5.508071, 5.482476, 5.469081, 5.471294, 5.469979, 5.473809, 5.47098, 5.504744, 5.481043, 5.469466, 5.472271, 5.469815, 5.47197, 5.477696, 5.475062, 5.484288, 0.000585, 5.472338, 5.473826, 5.528356, 5.47372, 5.473614, 5.474687, 5.47189, 5.473953, 5.475497, 5.472718, 5.472576, 5.483174, 5.471517, 5.478774, 0.000647, 5.484352, 5.477856, 5.493501, 5.48205, 5.477616, 5.475927, 5.50503, 5.487262, 5.478359, 5.518419, 5.483827, 5.474306, 5.475309, 5.475091, 5.474791, 5.487524, 5.524078, 5.478484, 5.486396, 5.482908, 5.478418, 5.483297, 5.483788, 5.482423, 5.499341, 5.480901, 5.491863, 5.48178, 5.479568, 5.480365, 5.487233, 5.489214, 5.493199, 5.49451, 5.481053, 5.480374, 5.486851, 5.486315, 5.481851, 5.487908, 5.502159, 5.482886, 5.484682, 5.479543, 5.483799, 5.482757, 5.500121, 5.485558, 5.495163, 5.487667, 5.484405, 5.483405, 5.489777, 5.480644, 5.482068, 5.483348, 5.483436, 5.480058, 5.490481, 5.519762, 5.49633, 5.490593, 5.48097, 5.498884, 0.001226, 5.490137, 0.001259, 5.483712, 5.48574, 5.495388, 5.484256, 5.495085, 5.482758, 5.484461, 5.486591, 5.484202, 5.492425, 5.489185, 5.488297, 5.487229, 5.484265, 5.485992, 5.484833, 5.498609, 5.48436, 5.481403, 5.481762, 5.523798, 5.486996, 5.49446, 5.52817, 0.001292, 0.001193, 0.00116, 5.504702, 5.500403, 5.513802, 0.001193, 5.503962, 5.495005, 5.490243, 5.493102, 5.490349, 5.487018, 5.494041, 5.51208, 5.493662, 5.492477, 5.490627, 5.499839, 5.49294, 5.491914, 5.491145, 5.494787, 0.001127, 5.490998, 5.519053, 5.490143, 5.490587, 5.48979, 5.545705, 5.494481, 5.492661, 5.491498, 5.492814, 5.50007, 5.497613, 5.490712, 5.493461, 5.491342, 5.49592, 5.525989, 5.492032, 5.49163, 5.491805, 5.491231, 5.50669, 5.492167, 5.499937, 5.494708, 0.001226, 5.493668, 5.492384, 5.493353, 5.494452, 5.491552, 5.492128, 5.488752, 5.492117, 5.49436, 5.493847, 5.489095, 5.492701, 5.497064, 5.504795, 0.001193, 5.490184, 5.494389, 5.496469, 0.001193, 5.501971, 0.001127, 5.502911, 5.493075, 5.496299, 5.492273, 5.496655, 5.490847, 5.492645, 5.494155, 5.493719, 5.494646, 5.51468, 5.495663, 5.498193, 5.494781, 5.51264, 5.491921, 5.493205, 5.495663, 5.492868, 5.497338, 5.49359, 0.001226, 5.495645, 5.497711, 5.50099, 5.495772, 5.49237, 5.510905, 5.654055, 0.001226, 0.001358, 5.50414, 5.497987, 5.497282, 5.496301, 5.528861, 0.001259, 5.502583, 5.497934, 5.499564, 5.498427, 5.495776, 5.560015, 5.498571, 5.497465, 5.499947, 5.498079, 5.523325, 5.499723, 5.516438, 5.497414, 5.498788, 5.516769, 5.496403, 5.50126, 5.495616, 5.562857, 5.508166, 5.503693, 5.497412, 5.496424, 5.49999, 5.493861, 5.521295, 5.494169, 5.494718, 5.501507, 5.508617, 5.498443, 5.496186, 5.496524, 5.514696, 5.498619, 5.497058, 5.501619, 5.530994, 5.507144, 5.50526, 5.500456, 5.499941, 5.500212, 5.506037, 5.502779, 0.000552, 5.531818, 5.501257, 5.502915, 5.503113, 5.500859, 5.502406, 5.514811, 0.000519, 5.503386, 5.50491, 5.502527, 5.501371, 5.527065, 5.535373, 5.506656, 5.504459, 5.520918, 5.502545, 5.504567, 5.5276, 5.50482, 5.514848, 5.509444, 5.563833, 5.505433, 5.504301, 5.512935, 5.504967, 5.50376, 5.506884, 5.503282, 5.5157, 5.562458, 5.504252, 5.51141, 5.502989, 5.503951, 5.501651, 5.504364, 5.505728, 5.504499, 5.502425, 5.499414, 5.541979, 5.510901, 5.51722, 5.574991, 5.509786, 5.509135, 5.520793, 5.508398, 5.50982, 5.514893, 5.507558, 5.514348, 5.506799, 5.517269, 5.513954, 5.525252, 5.5082, 5.506425, 5.508047, 5.519613, 5.51808, 5.506841, 5.514076, 5.507083, 5.512269, 5.511714, 5.527289, 11.089756, 11.061158, 11.017736, 11.017026, 11.012546, 11.054248, 0.001259, 0.001226, 11.02334, 11.029008, 11.022296, 11.019887, 11.042931, 11.038824, 11.020352, 11.026982, 11.060856, 11.021659, 11.025417, 11.027337, 11.026582, 11.040776, 11.019817, 11.02125, 11.016763, 11.046337, 11.021016, 11.021885, 11.02366, 11.026432, 11.032112, 11.030214, 11.038409, 11.029122, 11.028342, 11.03006, 11.03037, 11.024764, 11.035044, 11.027306, 11.028848, 11.031728, 11.032466, 11.038784, 11.032886, 11.029278, 11.029772, 11.03943, 11.036642, 11.031764, 11.035582, 11.043306, 11.041832, 11.039107, 11.038775, 11.033598, 11.03495, 11.037166, 11.04549, 11.032565, 11.035496, 11.046248, 0.00116, 11.03857, 11.082284, 11.039574, 11.035934, 11.059526, 11.039886, 11.035946, 11.04427, 11.05757, 11.066322, 11.040406, 11.065317, 11.047276, 11.041804, 11.041743, 11.049158, 11.039318, 11.071468, 0.001193, 11.041216, 11.04323, 11.044466, 11.054146, 11.047883, 11.042904, 11.040366, 11.04499, 11.046347, 11.044664, 11.045721, 11.059158, 11.065868, 11.049465, 11.048669, 11.055684, 11.054522, 11.049504, 11.047553, 11.049734, 11.045528, 11.044664, 11.051935, 11.06817, 11.106628, 11.053014, 11.070798, 11.050224, 11.064486, 11.054134, 11.05575, 11.052358, 0.001259, 11.052463, 11.051871, 11.060698, 11.053992, 11.059902, 11.056636, 11.051918, 11.095604, 0.001127, 11.05557, 11.056786, 11.057475, 11.053676, 11.05673, 0.001193, 11.05595, 11.056828, 11.081565, 11.060711, 11.066778, 11.061038, 11.060576, 11.06274, 11.076234, 11.063288, 11.082239, 11.060016, 11.065536, 11.055042, 11.062178, 11.060652, 11.072898, 11.095484, 11.062778, 11.062722, 11.063064, 11.067014, 11.096382, 11.073064, 11.069638, 0.00116, 11.129734, 11.069314, 11.124068, 11.10894, 11.07035, 11.10064, 11.063337, 11.065565, 11.073682, 11.067018, 11.065812, 11.063353, 11.065063, 11.067762, 11.070204, 11.072394, 11.074042, 11.080981, 11.072254, 11.064134, 11.069856, 11.07247, 11.067488, 11.122438, 0.000519, 11.076562, 11.068602, 11.066678, 11.067544, 11.072066, 11.069568, 11.066792, 11.076768, 11.067306, 11.07391, 11.087028, 11.074484, 11.067193, 11.069538, 11.071514, 11.069456, 11.07573, 11.071758, 11.07607, 11.078936, 11.084118, 11.079202, 11.071858, 11.104432, 11.079282, 11.083219, 11.07587, 11.073052, 11.076478, 11.072194, 11.073286, 11.069649, 11.085032, 0.001193, 11.072592, 11.074009, 11.074784, 11.080248, 11.07443, 11.106276, 11.080365, 11.088858, 11.078098, 11.11073, 11.096006, 11.093, 11.08709, 11.098838, 11.090943, 11.08588, 11.084192, 11.088945, 11.130473, 11.089569, 11.085208, 11.089996, 11.109866, 11.090191, 11.10202, 11.092444, 11.092252, 11.10176, 11.094156, 11.115872, 11.094384, 11.094188, 11.092544, 11.140227, 11.103585, 11.091686, 11.09018, 11.095626, 0.001193, 11.091144, 0.001259, 11.08905, 11.088766, 11.097978, 11.095152, 11.094385, 11.0922, 11.09329, 11.103876, 11.112916, 11.092814, 11.095065, 11.107904, 11.097966, 11.094918, 11.099928, 11.127464, 11.103202, 11.107318, 11.099972, 11.100446, 11.097324, 11.097824, 11.098095, 11.099543, 11.114374, 11.094152, 11.102794, 11.097582, 11.125525, 11.103392, 11.114926, 11.115872, 0.001193, 11.105532, 11.101232, 11.112629, 11.103042, 11.103183, 11.105536, 11.112928, 11.104276, 11.106468, 11.114394, 11.120554, 11.115704, 11.106442, 11.107679, 11.14039, 11.106536, 11.11169, 11.107611, 11.134142, 11.11281, 11.12258, 11.109454, 11.111539, 11.115832, 11.107142, 11.11046, 11.111136, 11.112501, 11.116334, 11.116174, 11.111202, 11.111722, 11.115231, 11.114539, 11.111135, 11.110153, 11.110468, 11.118926, 11.128464, 11.127898, 11.129456, 11.127466, 11.1161, 11.117764, 11.11771, 11.12222, 11.334732, 11.128864, 11.114376, 11.112488, 11.112285, 11.112904, 11.111704, 11.117082, 0.00116, 11.218519, 11.116458, 11.113549, 11.12401, 11.11469, 11.113521, 11.114671, 11.138648, 11.114645, 11.119937, 11.147391, 11.112604, 11.116038, 11.11431, 11.11998, 11.134152, 11.11325, 11.118038, 11.114702, 11.118754, 11.133574, 11.11486, 11.114975, 11.124298, 11.120865, 11.115911, 11.112562, 11.127927, 11.118146, 11.115315, 11.11965, 11.134038, 0.001226, 11.1182, 11.205008, 0.001127, 11.120986, 11.127826, 11.129196, 11.124568, 11.144693, 11.124062, 11.134206, 11.131856, 11.126679, 11.13185, 11.129504, 11.188872, 11.134446, 11.150944, 11.137466, 11.134258, 11.132104, 11.167182, 11.134792, 11.140294, 11.138556, 11.136698, 11.137376, 11.13805, 11.143602, 11.15212, 11.140644, 11.14072, 11.144998, 11.138987, 11.151656, 11.139131, 11.137892, 11.138322, 11.144808, 11.136984, 11.13928, 11.141944, 0.001161, 11.144815, 11.139842, 11.140156, 11.137991, 11.137679, 11.134866, 11.13752, 11.156326, 11.138196, 11.193164, 11.14135, 11.161002, 11.137912, 11.145948, 11.13441, 11.148426, 11.136699, 11.139666, 11.139707, 11.137452, 11.140264, 11.137834, 11.143982, 11.154344, 11.139682, 11.140294, 11.13973, 11.140262, 11.150717, 11.1443, 11.175654, 11.27105, 11.147956, 11.308322, 0.001226, 0.00116, 11.217958, 11.134346, 11.17764, 11.216112, 11.136386, 11.134269, 11.164158, 11.218497, 0.00116, 11.139334, 11.140209, 11.139894, 0.00116, 11.148422, 11.139355, 11.141282, 11.150028, 11.142436, 11.153258, 11.166896, 0.00116, 11.150346, 11.146426, 11.140838, 11.154716, 11.148636, 11.140474, 0.00116, 11.140537, 11.140884, 11.140227, 11.142534, 11.141994, 11.14609, 11.149352, 11.153206, 11.156628, 11.163828, 11.146024, 11.147694, 11.147453, 11.144308, 11.159098, 11.18723, 0.001259, 0.001226, 11.145322, 0.00116, 0.00116, 11.15206, 11.14725, 11.144813, 11.15086, 11.14769, 11.154064, 11.149946, 11.155592, 11.16015, 11.147967, 11.144416, 11.147312, 11.168388, 11.146222, 11.148058, 11.159853, 11.150752, 11.157574, 11.150012, 11.148612, 11.156822, 11.149506, 11.159956, 11.157586, 11.152962, 11.148356, 11.1517, 11.149978, 11.151112, 11.151026, 11.172658, 11.154786, 0.001127, 11.255316, 0.00116, 11.14591, 11.288988, 11.168536, 11.152566, 11.157116, 11.15371, 11.184742, 11.152246, 11.151656, 11.150402, 11.149486, 11.151081, 11.152732, 11.152184, 11.15563, 11.175377, 11.174432, 11.159524, 11.154618, 11.151091, 11.181578, 11.1621, 11.15349, 11.195908, 11.162428, 11.159502, 11.184356, 11.308276, 11.168968, 0.00116, 11.160534, 11.166598, 11.167302, 11.159422, 11.180064, 0.00116, 11.170472, 11.162725, 11.189144, 11.194486, 0.001193, 11.18311]\n"
          ],
          "name": "stdout"
        }
      ]
    },
    {
      "cell_type": "code",
      "metadata": {
        "id": "p0sX9H-wiUWs"
      },
      "source": [
        "# Creating output file\n",
        "fin = open(\"output.txt\", \"wt\")\n",
        "# writing the file with the resulting data\n",
        "fin.write(datas)\n",
        "# close the file\n",
        "fin.close()"
      ],
      "execution_count": null,
      "outputs": []
    },
    {
      "cell_type": "code",
      "metadata": {
        "colab": {
          "base_uri": "https://localhost:8080/",
          "height": 17
        },
        "id": "WQX55mGii0Ef",
        "outputId": "430b6ab3-9156-4fc4-ab0b-df65f154c231"
      },
      "source": [
        "files.download('output.txt')"
      ],
      "execution_count": null,
      "outputs": [
        {
          "output_type": "display_data",
          "data": {
            "application/javascript": [
              "\n",
              "    async function download(id, filename, size) {\n",
              "      if (!google.colab.kernel.accessAllowed) {\n",
              "        return;\n",
              "      }\n",
              "      const div = document.createElement('div');\n",
              "      const label = document.createElement('label');\n",
              "      label.textContent = `Downloading \"${filename}\": `;\n",
              "      div.appendChild(label);\n",
              "      const progress = document.createElement('progress');\n",
              "      progress.max = size;\n",
              "      div.appendChild(progress);\n",
              "      document.body.appendChild(div);\n",
              "\n",
              "      const buffers = [];\n",
              "      let downloaded = 0;\n",
              "\n",
              "      const channel = await google.colab.kernel.comms.open(id);\n",
              "      // Send a message to notify the kernel that we're ready.\n",
              "      channel.send({})\n",
              "\n",
              "      for await (const message of channel.messages) {\n",
              "        // Send a message to notify the kernel that we're ready.\n",
              "        channel.send({})\n",
              "        if (message.buffers) {\n",
              "          for (const buffer of message.buffers) {\n",
              "            buffers.push(buffer);\n",
              "            downloaded += buffer.byteLength;\n",
              "            progress.value = downloaded;\n",
              "          }\n",
              "        }\n",
              "      }\n",
              "      const blob = new Blob(buffers, {type: 'application/binary'});\n",
              "      const a = document.createElement('a');\n",
              "      a.href = window.URL.createObjectURL(blob);\n",
              "      a.download = filename;\n",
              "      div.appendChild(a);\n",
              "      a.click();\n",
              "      div.remove();\n",
              "    }\n",
              "  "
            ],
            "text/plain": [
              "<IPython.core.display.Javascript object>"
            ]
          },
          "metadata": {
            "tags": []
          }
        },
        {
          "output_type": "display_data",
          "data": {
            "application/javascript": [
              "download(\"download_28650130-282a-4c71-b286-29e6dcd750a2\", \"output.txt\", 5624530)"
            ],
            "text/plain": [
              "<IPython.core.display.Javascript object>"
            ]
          },
          "metadata": {
            "tags": []
          }
        }
      ]
    },
    {
      "cell_type": "code",
      "metadata": {
        "id": "7NtFhj_KvGR2"
      },
      "source": [
        "# creating a csv file\n",
        "with open('analysis.csv', 'w', newline='') as file:\n",
        "    writer = csv.writer(file)\n",
        "    writer.writerow([\"S.NO\", \"ENGLISH WORD\", \"FRENCH WORD\",\"Frequency_of_replaced\",\"Time_taken_for_process\",\"Memory_taken_for_process\"])\n",
        "    c=1\n",
        "    for i in dictionary:\n",
        "      # writing the word details in the csv file\n",
        "      writer.writerow([c,i,dictionary[i],count[c-1],str(times[c-1])+\"'s\",str(memos[c-1])+\"MB\"])\n",
        "      c=c+1"
      ],
      "execution_count": null,
      "outputs": []
    },
    {
      "cell_type": "code",
      "metadata": {
        "colab": {
          "base_uri": "https://localhost:8080/",
          "height": 17
        },
        "id": "f_LHHXWlw0oA",
        "outputId": "948895b1-7e86-4b22-f21e-9c48b4d78e36"
      },
      "source": [
        "files.download('analysis.csv')"
      ],
      "execution_count": null,
      "outputs": [
        {
          "output_type": "display_data",
          "data": {
            "application/javascript": [
              "\n",
              "    async function download(id, filename, size) {\n",
              "      if (!google.colab.kernel.accessAllowed) {\n",
              "        return;\n",
              "      }\n",
              "      const div = document.createElement('div');\n",
              "      const label = document.createElement('label');\n",
              "      label.textContent = `Downloading \"${filename}\": `;\n",
              "      div.appendChild(label);\n",
              "      const progress = document.createElement('progress');\n",
              "      progress.max = size;\n",
              "      div.appendChild(progress);\n",
              "      document.body.appendChild(div);\n",
              "\n",
              "      const buffers = [];\n",
              "      let downloaded = 0;\n",
              "\n",
              "      const channel = await google.colab.kernel.comms.open(id);\n",
              "      // Send a message to notify the kernel that we're ready.\n",
              "      channel.send({})\n",
              "\n",
              "      for await (const message of channel.messages) {\n",
              "        // Send a message to notify the kernel that we're ready.\n",
              "        channel.send({})\n",
              "        if (message.buffers) {\n",
              "          for (const buffer of message.buffers) {\n",
              "            buffers.push(buffer);\n",
              "            downloaded += buffer.byteLength;\n",
              "            progress.value = downloaded;\n",
              "          }\n",
              "        }\n",
              "      }\n",
              "      const blob = new Blob(buffers, {type: 'application/binary'});\n",
              "      const a = document.createElement('a');\n",
              "      a.href = window.URL.createObjectURL(blob);\n",
              "      a.download = filename;\n",
              "      div.appendChild(a);\n",
              "      a.click();\n",
              "      div.remove();\n",
              "    }\n",
              "  "
            ],
            "text/plain": [
              "<IPython.core.display.Javascript object>"
            ]
          },
          "metadata": {
            "tags": []
          }
        },
        {
          "output_type": "display_data",
          "data": {
            "application/javascript": [
              "download(\"download_554eb8dc-2c11-4267-8502-3ca5ffbf9c97\", \"analysis.csv\", 57707)"
            ],
            "text/plain": [
              "<IPython.core.display.Javascript object>"
            ]
          },
          "metadata": {
            "tags": []
          }
        }
      ]
    }
  ]
}